{
 "cells": [
  {
   "cell_type": "code",
   "execution_count": 1,
   "metadata": {},
   "outputs": [
    {
     "name": "stderr",
     "output_type": "stream",
     "text": [
      "<ipython-input-1-67f023613085>:37: DeprecationWarning: Using or importing the ABCs from 'collections' instead of from 'collections.abc' is deprecated since Python 3.3, and in 3.9 it will stop working\n",
      "  from collections import Iterable\n"
     ]
    }
   ],
   "source": [
    "import numpy as np\n",
    "import pandas as pd\n",
    "import matplotlib\n",
    "import csv\n",
    "import datetime as dt\n",
    "import re\n",
    "\n",
    "import seaborn as sns\n",
    "import matplotlib.pyplot as plt\n",
    "from scipy import stats\n",
    "\n",
    "from sklearn.model_selection import train_test_split\n",
    "import random\n",
    "\n",
    "from collections import Counter\n",
    "\n",
    "from sklearn.linear_model import LogisticRegression\n",
    "from sklearn import preprocessing\n",
    "\n",
    "import matplotlib.pyplot as plt\n",
    "import seaborn as sns\n",
    "from sklearn import metrics\n",
    "\n",
    "from sklearn import tree\n",
    "from sklearn.cluster import KMeans\n",
    "from sklearn.preprocessing import StandardScaler\n",
    "from sklearn.preprocessing import MinMaxScaler\n",
    "\n",
    "import pandas as pd\n",
    "from sklearn.tree import DecisionTreeClassifier # Import Decision Tree Classifier\n",
    "from sklearn.model_selection import train_test_split # Import train_test_split function\n",
    "from sklearn import metrics #Import scikit-learn metrics module for accuracy calculation\n",
    "\n",
    "from sklearn.cluster import KMeans\n",
    "import itertools\n",
    "\n",
    "from collections import Iterable\n",
    "\n",
    "import nltk\n",
    "from nltk.corpus import stopwords\n",
    "\n",
    "from sklearn.feature_extraction.text import CountVectorizer\n",
    "from sklearn.feature_extraction.text import TfidfTransformer\n",
    "\n",
    "import pandas as pd\n",
    "import string\n",
    "import seaborn as sns\n",
    "from wordcloud import WordCloud\n",
    "\n",
    "from nltk.collocations import *\n",
    "from wordcloud import WordCloud\n",
    "from sklearn.linear_model import LinearRegression, Lasso, Ridge\n",
    "from sklearn.metrics import mean_squared_error, mean_absolute_error\n",
    "from sklearn.model_selection import cross_val_score\n",
    "\n",
    "import random\n",
    "\n",
    "import statsmodels.api as sm\n",
    "\n",
    "from sklearn.metrics import classification_report\n",
    "from sklearn.metrics import recall_score, f1_score,precision_recall_curve,precision_score, accuracy_score\n",
    "\n",
    "from numpy import mean\n",
    "from numpy import std\n",
    "from sklearn.datasets import make_classification\n",
    "from sklearn.model_selection import KFold\n",
    "from sklearn.model_selection import cross_val_score\n",
    "from sklearn.linear_model import LogisticRegression\n",
    "\n",
    "from sklearn.metrics import silhouette_score\n",
    "#Import scikit-learn metrics module for accuracy calculation\n",
    "from sklearn import metrics\n",
    "#Import svm model\n",
    "from sklearn import svm\n",
    "from sklearn.model_selection import GridSearchCV \n",
    "from sklearn.neighbors import KNeighborsClassifier\n",
    "\n",
    "# numerical_reviews = ['Individual Rating', 'Number of Pictures', 'Height', 'Waist', 'Hips', 'Date (ordinal)', 'Time (numerical)']\n",
    "cmap = sns.diverging_palette(220, 10, as_cmap=True)\n",
    "\n",
    "from sklearn.model_selection import GridSearchCV\n"
   ]
  },
  {
   "cell_type": "code",
   "execution_count": 207,
   "metadata": {},
   "outputs": [],
   "source": [
    "# Setup\n",
    "item_csv = r\"zaful_floral_dresses_latest.csv\"\n",
    "items = pd.read_csv(item_csv)\n",
    "\n",
    "reviews_csv = r\"zaful_reviews_latest.csv\"\n",
    "reviews = pd.read_csv(reviews_csv)\n",
    "\n",
    "# add sku column to reviews\n",
    "reviews = pd.merge(reviews, items[['SKU','Rank']], how='inner', on=['SKU'])"
   ]
  },
  {
   "cell_type": "markdown",
   "metadata": {},
   "source": [
    "# Preparing the Data"
   ]
  },
  {
   "cell_type": "code",
   "execution_count": 3,
   "metadata": {},
   "outputs": [
    {
     "name": "stdout",
     "output_type": "stream",
     "text": [
      "Total Reviews:  15726\n",
      "Number of Items:  519\n",
      "Items without Reviews:  65\n"
     ]
    }
   ],
   "source": [
    "# how many products have reviews?\n",
    "print(\"Total Reviews: \", len(reviews))\n",
    "print(\"Number of Items: \", items['SKU'].nunique())\n",
    "print(\"Items without Reviews: \", len(items[items['Number of Reviews'].isnull()]))"
   ]
  },
  {
   "cell_type": "code",
   "execution_count": 5,
   "metadata": {},
   "outputs": [
    {
     "data": {
      "text/plain": [
       "SKU                    int64\n",
       "Individual Rating      int64\n",
       "Number of Pictures     int64\n",
       "Comment               object\n",
       "Date Stamp            object\n",
       "Color/Size            object\n",
       "Overall Fit           object\n",
       "Height                object\n",
       "Waist                 object\n",
       "Hips                  object\n",
       "Bust                  object\n",
       "Rank                   int64\n",
       "dtype: object"
      ]
     },
     "execution_count": 5,
     "metadata": {},
     "output_type": "execute_result"
    }
   ],
   "source": [
    "reviews.dtypes"
   ]
  },
  {
   "cell_type": "code",
   "execution_count": 6,
   "metadata": {},
   "outputs": [
    {
     "data": {
      "text/plain": [
       "<matplotlib.axes._subplots.AxesSubplot at 0x594ac88>"
      ]
     },
     "execution_count": 6,
     "metadata": {},
     "output_type": "execute_result"
    },
    {
     "data": {
      "image/png": "[encoded data removed]",
      "text/plain": [
       "<Figure size 432x288 with 2 Axes>"
      ]
     },
     "metadata": {
      "needs_background": "light"
     },
     "output_type": "display_data"
    }
   ],
   "source": [
    "sns.heatmap(reviews.isnull())"
   ]
  },
  {
   "cell_type": "code",
   "execution_count": 7,
   "metadata": {},
   "outputs": [
    {
     "ename": "SyntaxError",
     "evalue": "invalid syntax (<ipython-input-7-052d1d8ba30f>, line 3)",
     "output_type": "error",
     "traceback": [
      "\u001b[1;36m  File \u001b[1;32m\"<ipython-input-7-052d1d8ba30f>\"\u001b[1;36m, line \u001b[1;32m3\u001b[0m\n\u001b[1;33m    Drop Hips and Bust.\u001b[0m\n\u001b[1;37m         ^\u001b[0m\n\u001b[1;31mSyntaxError\u001b[0m\u001b[1;31m:\u001b[0m invalid syntax\n"
     ]
    }
   ],
   "source": [
    "## Observations\n",
    "\n",
    "Drop Hips and Bust."
   ]
  },
  {
   "cell_type": "markdown",
   "metadata": {},
   "source": [
    "# Reviews "
   ]
  },
  {
   "cell_type": "markdown",
   "metadata": {},
   "source": [
    "### Fix `Height`, `Waist`, `Hips`, `Bust`', and `Overall Fit` values and strip unnecessary text"
   ]
  },
  {
   "cell_type": "code",
   "execution_count": 250,
   "metadata": {},
   "outputs": [],
   "source": [
    "reviews_cleaned = reviews.copy()\n",
    "\n",
    "def clean_reviews_whhof(df):\n",
    "    # Fill empty values with np.NaN\n",
    "    df = df.replace('[]', ' ')\n",
    "    # Rename rows - measured in cm (height, waist, hips)\n",
    "    df = df.rename(columns = {'Unnamed: 7': 'Height', 'Unnamed: 8': 'Waist', 'Unnamed: 9': 'Hips', 'Unnamed: 10': 'Bust'}, inplace = False)\n",
    "\n",
    "    # replace nan with NaN\n",
    "    df = df.replace('nan',np.NaN)\n",
    "\n",
    "    # Reorganize hips, waist, overall fit, height, bust columns\n",
    "    for record in range(0,len(df)):\n",
    "        # Bust is in height, rest are missing\n",
    "        if df.iloc[record,6:11].isnull().sum() == 3 and not df['Height'].str.contains(\"Height\").fillna(False)[record] :\n",
    "            df.iloc[record, 7] = df.iloc[record, 6] \n",
    "            df.iloc[record, 6] = np.NaN \n",
    "        # Bust is in waist\n",
    "        if df.iloc[record,6:11].isnull().sum() == 2 and df['Waist'].str.contains(\"Height\").fillna(False)[record]:\n",
    "            bust = df.iloc[record, 8] \n",
    "            df.iloc[record, 10] = bust\n",
    "            df.iloc[record, 8] = np.NaN\n",
    "        if df.iloc[record,6:11].isnull().sum() == 1:\n",
    "            # Overall Fit missing\n",
    "            if not df['Overall Fit'].str.contains(\"Overall Fit\").fillna(False)[record]:\n",
    "                df.iloc[record, 10] = df.iloc[record, 9] \n",
    "                df.iloc[record, 9] = df.iloc[record, 8]\n",
    "                df.iloc[record, 8] = df.iloc[record, 7]\n",
    "                df.iloc[record, 7] = df.iloc[record, 6]\n",
    "                df.iloc[record, 6] = np.NaN\n",
    "            # Height missing\n",
    "            elif not df['Height'].str.contains(\"Height\").fillna(False)[record]:\n",
    "                df.iloc[record, 10] = df.iloc[record, 9] \n",
    "                df.iloc[record, 9] = df.iloc[record, 8]\n",
    "                df.iloc[record, 8] = df.iloc[record, 7]\n",
    "                df.iloc[record, 7] = np.NaN\n",
    "            # Waist missing\n",
    "            elif not df['Waist'].str.contains(\"Waist\").fillna(False)[record]:\n",
    "                df.iloc[record, 10] = df.iloc[record, 9] \n",
    "                df.iloc[record, 9] = df.iloc[record, 8]\n",
    "                df.iloc[record, 8] = np.NaN \n",
    "            # Bust missing\n",
    "            elif not df['Bust'].str.contains(\"Bust\").fillna(False)[record]:\n",
    "                df.iloc[record, 9] = df.iloc[record, 10] \n",
    "                df.iloc[record, 10] = np.NaN \n",
    "            # Hips missing\n",
    "            else:\n",
    "                bust = df.iloc[record, 9] \n",
    "                df.iloc[record, 10] = bust\n",
    "                df.iloc[record, 9] = np.NaN\n",
    "\n",
    "    # Extract only the numbers in centimeters\n",
    "    df['Height'] = df['Height'].str.extract(r'(?<!\\d)(\\d{3})(?!\\d)', expand=False)   \n",
    "    df['Waist'] = df['Waist'].str.extract(r'(?<!\\d)(\\d{2})(?!\\d)', expand=False)  \n",
    "    df['Hips'] = df['Hips'].str.extract(r'(?<!\\d)(\\d{2})(?!\\d)', expand=False)  \n",
    "    df['Bust'] = df['Bust'].str.extract(r'(\\d{2}[a-zA-Z]+)', expand=False)\n",
    "    \n",
    "    # Convert bust sizes to cm\n",
    "    bust_conversion = {\"34C\": 92.5,\n",
    "    \"32C\": 87.5,\n",
    "    \"34D\": 95.5,\n",
    "    \"32D\": 90,\n",
    "    \"34B\": 90,\n",
    "    \"32B\": 85,\n",
    "    \"36C\": 98,\n",
    "    \"32AA\": 76,\n",
    "    \"36AA\": 86,\n",
    "    \"32A\": 82.5,\n",
    "    \"34AA\": 81,\n",
    "    \"36D\": 101,\n",
    "    \"38AA\": 81.5,\n",
    "    \"34A\": 87.5,\n",
    "    \"36B\": 95.5,\n",
    "    \"38C\": 103,\n",
    "    \"36A\": 92.5,\n",
    "    \"38B\": 100.5,\n",
    "    \"38A\": 98,\n",
    "    \"38D\": 105.5}\n",
    "    df['Bust'] = df['Bust'].replace(bust_conversion)\n",
    "\n",
    "    # Replace Overall Fit \n",
    "    # 0 - True to Size\n",
    "    # 1 - Large\n",
    "    # -1 - Small\n",
    "    df['Overall Fit'] = df['Overall Fit'].str.extract(r':(.*)<', expand=False).str.strip().replace({'True to Size', 'Small', 'Large'}, {0, -1, 1})\n",
    "    df.at[13,'Overall Fit'] = np.nan\n",
    "    df.at[13,'Height'] = 155\n",
    "    \n",
    "    return df"
   ]
  },
  {
   "cell_type": "code",
   "execution_count": 248,
   "metadata": {},
   "outputs": [],
   "source": [
    "# Separate color and size bought by customer into two columns\n",
    "\n",
    "def reviews_clean_color_size(df):\n",
    "    df['Color'] = df['Color/Size'].str.extract(r':(.*)/', expand=False)\n",
    "    df['Size'] = df['Color/Size'].str.extract(r'Size:(.*)', expand=False)\n",
    "    return df"
   ]
  },
  {
   "cell_type": "markdown",
   "metadata": {},
   "source": [
    "### Add and delete columns: Split `Date Stamp` column into `Date`, `Time`, `Time (numerical)`, and `Date (ordinal)`; add `Total Colors` and `Comment Length` column"
   ]
  },
  {
   "cell_type": "code",
   "execution_count": 211,
   "metadata": {},
   "outputs": [],
   "source": [
    "def reviews_clean_date_time_color_size_comment(df):\n",
    "\n",
    "    # Separate time and date for linear regression purposes\n",
    "    df['Date (ordinal)'] = pd.to_datetime(reviews_cleaned['Date Stamp'].str.extract(r'(.*) at', expand=False)).map(dt.datetime.toordinal)\n",
    "    df['Date'] = pd.to_datetime(reviews_cleaned['Date Stamp'].str.extract(r'(.*) at', expand=False))\n",
    "    df['Time'] = df['Date Stamp'].str.extract(r'at (.*) [a-zA-Z]+', expand=False)\n",
    "\n",
    "    result = []\n",
    "    for i in reviews_cleaned['Time']: \n",
    "        (h, m, s) = i.split(':')\n",
    "        result.append(int(h) * 3600 + int(m) * 60 + int(s))\n",
    "\n",
    "    df['Time (numerical)']  = result\n",
    "\n",
    "    # Delete columns that are no longer needed\n",
    "    df = df.drop(columns=['Color/Size', 'Date Stamp'])\n",
    "\n",
    "    # Number of total colors (including main)\n",
    "    # reviews_cleaned['Total Colors'] = reviews_color_encode.apply(lambda x: len(x))\n",
    "\n",
    "    # Comment Length\n",
    "    df['Comment'] = df.Comment.astype(str)\n",
    "    df['Comment Length'] = df['Comment'].apply(lambda x: len(x))\n",
    "\n",
    "    # change str type to int \n",
    "    df[[\"Height\", \"Waist\",'Hips', 'Bust','Overall Fit']] = df[[\"Height\", \"Waist\",'Hips', 'Bust','Overall Fit']].apply(pd.to_numeric)\n",
    "    \n",
    "    # drop duplicates\n",
    "    df = df.drop_duplicates()\n",
    "    df = df.reset_index()\n",
    "    \n",
    "    return df"
   ]
  },
  {
   "cell_type": "markdown",
   "metadata": {},
   "source": [
    "## Apply Changes"
   ]
  },
  {
   "cell_type": "code",
   "execution_count": 251,
   "metadata": {},
   "outputs": [
    {
     "data": {
      "text/html": [
       "<div>\n",
       "<style scoped>\n",
       "    .dataframe tbody tr th:only-of-type {\n",
       "        vertical-align: middle;\n",
       "    }\n",
       "\n",
       "    .dataframe tbody tr th {\n",
       "        vertical-align: top;\n",
       "    }\n",
       "\n",
       "    .dataframe thead th {\n",
       "        text-align: right;\n",
       "    }\n",
       "</style>\n",
       "<table border=\"1\" class=\"dataframe\">\n",
       "  <thead>\n",
       "    <tr style=\"text-align: right;\">\n",
       "      <th></th>\n",
       "      <th>SKU</th>\n",
       "      <th>Individual Rating</th>\n",
       "      <th>Number of Pictures</th>\n",
       "      <th>Comment</th>\n",
       "      <th>Overall Fit</th>\n",
       "      <th>Height</th>\n",
       "      <th>Waist</th>\n",
       "      <th>Hips</th>\n",
       "      <th>Bust</th>\n",
       "      <th>Rank</th>\n",
       "      <th>Color</th>\n",
       "      <th>Size</th>\n",
       "      <th>Date (ordinal)</th>\n",
       "      <th>Date</th>\n",
       "      <th>Time</th>\n",
       "      <th>Time (numerical)</th>\n",
       "      <th>Comment Length</th>\n",
       "    </tr>\n",
       "  </thead>\n",
       "  <tbody>\n",
       "    <tr>\n",
       "      <th>0</th>\n",
       "      <td>461000702</td>\n",
       "      <td>5</td>\n",
       "      <td>5</td>\n",
       "      <td>It is thin but I’ve bought for holiday so I’m ...</td>\n",
       "      <td>-1.0</td>\n",
       "      <td>170.0</td>\n",
       "      <td>73.0</td>\n",
       "      <td>87.0</td>\n",
       "      <td>87.5</td>\n",
       "      <td>1</td>\n",
       "      <td>RED</td>\n",
       "      <td>M</td>\n",
       "      <td>737654</td>\n",
       "      <td>2020-08-17</td>\n",
       "      <td>02:21:14</td>\n",
       "      <td>8474</td>\n",
       "      <td>138</td>\n",
       "    </tr>\n",
       "  </tbody>\n",
       "</table>\n",
       "</div>"
      ],
      "text/plain": [
       "         SKU  Individual Rating  Number of Pictures  \\\n",
       "0  461000702                  5                   5   \n",
       "\n",
       "                                             Comment  Overall Fit  Height  \\\n",
       "0  It is thin but I’ve bought for holiday so I’m ...         -1.0   170.0   \n",
       "\n",
       "   Waist  Hips  Bust  Rank Color Size  Date (ordinal)       Date      Time  \\\n",
       "0   73.0  87.0  87.5     1   RED    M          737654 2020-08-17  02:21:14   \n",
       "\n",
       "   Time (numerical)  Comment Length  \n",
       "0              8474             138  "
      ]
     },
     "execution_count": 251,
     "metadata": {},
     "output_type": "execute_result"
    }
   ],
   "source": [
    "reviews_cleaned = clean_reviews_whhof(reviews_cleaned)\n",
    "reviews_cleaned = reviews_clean_color_size(reviews_cleaned)\n",
    "reviews_cleaned = reviews_clean_date_time_color_size_comment(reviews_cleaned)\n",
    "reviews_cleaned = reviews_cleaned.drop('index', axis=1)\n",
    "reviews_cleaned.head(1)"
   ]
  },
  {
   "cell_type": "code",
   "execution_count": 285,
   "metadata": {},
   "outputs": [],
   "source": [
    "#reviews_cleaned.to_csv(r'reviews_cleaned_1.csv',index=False)\n",
    "\n",
    "reviews_cleaned = pd.read_csv(r'reviews_cleaned_1.csv')"
   ]
  },
  {
   "cell_type": "code",
   "execution_count": 253,
   "metadata": {},
   "outputs": [
    {
     "data": {
      "text/plain": [
       "SKU                            int64\n",
       "Individual Rating              int64\n",
       "Number of Pictures             int64\n",
       "Comment                       object\n",
       "Overall Fit                  float64\n",
       "Height                       float64\n",
       "Waist                        float64\n",
       "Hips                         float64\n",
       "Bust                         float64\n",
       "Rank                           int64\n",
       "Color                         object\n",
       "Size                          object\n",
       "Date (ordinal)                 int64\n",
       "Date                  datetime64[ns]\n",
       "Time                          object\n",
       "Time (numerical)               int64\n",
       "Comment Length                 int64\n",
       "dtype: object"
      ]
     },
     "execution_count": 253,
     "metadata": {},
     "output_type": "execute_result"
    }
   ],
   "source": [
    "reviews_cleaned.dtypes"
   ]
  },
  {
   "cell_type": "code",
   "execution_count": 286,
   "metadata": {},
   "outputs": [],
   "source": [
    "reviews_cleaned.drop(['Hips','Bust','SKU','Time','Date'],axis=1,inplace=True)"
   ]
  },
  {
   "cell_type": "code",
   "execution_count": 255,
   "metadata": {},
   "outputs": [
    {
     "data": {
      "text/plain": [
       "<matplotlib.axes._subplots.AxesSubplot at 0x322b7640>"
      ]
     },
     "execution_count": 255,
     "metadata": {},
     "output_type": "execute_result"
    },
    {
     "data": {
      "image/png": "[encoded data removed]",
      "text/plain": [
       "<Figure size 432x288 with 2 Axes>"
      ]
     },
     "metadata": {
      "needs_background": "light"
     },
     "output_type": "display_data"
    }
   ],
   "source": [
    "sns.heatmap(reviews_cleaned.corr(method='spearman'))"
   ]
  },
  {
   "cell_type": "code",
   "execution_count": 256,
   "metadata": {},
   "outputs": [
    {
     "name": "stderr",
     "output_type": "stream",
     "text": [
      "C:\\Users\\m2mar\\anaconda3\\lib\\site-packages\\seaborn\\distributions.py:369: UserWarning: Default bandwidth for data is 0; skipping density estimation.\n",
      "  warnings.warn(msg, UserWarning)\n"
     ]
    },
    {
     "data": {
      "text/plain": [
       "<matplotlib.axes._subplots.AxesSubplot at 0x3451b628>"
      ]
     },
     "execution_count": 256,
     "metadata": {},
     "output_type": "execute_result"
    },
    {
     "data": {
      "image/png": "[encoded data removed]",
      "text/plain": [
       "<Figure size 864x864 with 4 Axes>"
      ]
     },
     "metadata": {
      "needs_background": "light"
     },
     "output_type": "display_data"
    }
   ],
   "source": [
    "import seaborn as sns\n",
    "missing_cols = ['Height','Waist','Overall Fit']\n",
    "\n",
    "fig, ax = plt.subplots(4,1,figsize=(12,12))\n",
    "ax = ax.ravel()\n",
    "count=0\n",
    "for cat in missing_cols:\n",
    "    ar = sns.distplot(reviews_cleaned[cat],ax=ax[count])\n",
    "    count+=1 \n",
    "sns.countplot(reviews_cleaned['Size'],ax=ax[count])"
   ]
  },
  {
   "cell_type": "code",
   "execution_count": 257,
   "metadata": {},
   "outputs": [
    {
     "data": {
      "text/plain": [
       "<matplotlib.axes._subplots.AxesSubplot at 0x35102a00>"
      ]
     },
     "execution_count": 257,
     "metadata": {},
     "output_type": "execute_result"
    },
    {
     "data": {
      "image/png": "[encoded data removed]",
      "text/plain": [
       "<Figure size 432x288 with 1 Axes>"
      ]
     },
     "metadata": {
      "needs_background": "light"
     },
     "output_type": "display_data"
    }
   ],
   "source": [
    "reviews_cleaned['Color'].value_counts(normalize=True).sort_values().plot(kind = 'barh')"
   ]
  },
  {
   "cell_type": "code",
   "execution_count": 86,
   "metadata": {},
   "outputs": [
    {
     "data": {
      "text/plain": [
       "<matplotlib.axes._subplots.AxesSubplot at 0x16b1bec8>"
      ]
     },
     "execution_count": 86,
     "metadata": {},
     "output_type": "execute_result"
    },
    {
     "data": {
      "image/png": "[encoded data removed]",
      "text/plain": [
       "<Figure size 432x288 with 1 Axes>"
      ]
     },
     "metadata": {
      "needs_background": "light"
     },
     "output_type": "display_data"
    }
   ],
   "source": [
    "reviews_cleaned['Color'].value_counts(normalize=True)[:10].sort_values().plot(kind = 'barh')"
   ]
  },
  {
   "cell_type": "code",
   "execution_count": 218,
   "metadata": {},
   "outputs": [
    {
     "data": {
      "text/plain": [
       "<matplotlib.axes._subplots.AxesSubplot at 0x31df3b50>"
      ]
     },
     "execution_count": 218,
     "metadata": {},
     "output_type": "execute_result"
    },
    {
     "data": {
      "image/png": "[encoded data removed]",
      "text/plain": [
       "<Figure size 432x288 with 2 Axes>"
      ]
     },
     "metadata": {
      "needs_background": "light"
     },
     "output_type": "display_data"
    }
   ],
   "source": [
    "sns.heatmap(reviews_cleaned.isna())"
   ]
  },
  {
   "cell_type": "code",
   "execution_count": 287,
   "metadata": {},
   "outputs": [
    {
     "name": "stdout",
     "output_type": "stream",
     "text": [
      "Number of Pictures\n",
      "0  missing values\n",
      "\n",
      "Comment\n",
      "1  missing values\n",
      "\n",
      "Height\n",
      "4929  missing values\n",
      "\n",
      "Waist\n",
      "5072  missing values\n",
      "\n",
      "Rank\n",
      "0  missing values\n",
      "\n",
      "Color\n",
      "492  missing values\n",
      "\n",
      "Size\n",
      "492  missing values\n",
      "\n",
      "Date (ordinal)\n",
      "0  missing values\n",
      "\n",
      "Time (numerical)\n",
      "0  missing values\n",
      "\n"
     ]
    }
   ],
   "source": [
    "# Check missing values\n",
    "\n",
    "for i in range(1,11):\n",
    "    if i != 3:\n",
    "        print(reviews_cleaned.columns[i])\n",
    "        print(reviews_cleaned.iloc[:,i].isna().sum(), \" missing values\")\n",
    "        print()\n"
   ]
  },
  {
   "cell_type": "markdown",
   "metadata": {},
   "source": [
    "## Handle Missing Data"
   ]
  },
  {
   "cell_type": "markdown",
   "metadata": {},
   "source": [
    "### Randomly Impute `Overall Fit`, `Color`, and `Size`"
   ]
  },
  {
   "cell_type": "markdown",
   "metadata": {},
   "source": [
    "### Create missing columns for columns with missing data"
   ]
  },
  {
   "cell_type": "code",
   "execution_count": 290,
   "metadata": {},
   "outputs": [],
   "source": [
    "def missing_to_random(df, variable):\n",
    "    random_sample=df[variable].dropna().sample(df[variable].isnull().sum(),random_state=0).values\n",
    "    return random_sample\n",
    "reviews_cleaned['missing Overall Fit'] = np.where(reviews_cleaned['Overall Fit'].isna(),1,0)\n",
    "reviews_cleaned['missing Color'] = np.where(reviews_cleaned['Color'].isna(),1,0)\n",
    "reviews_cleaned['missing Size'] = np.where(reviews_cleaned['Size'].isna(),1,0)\n",
    "reviews_cleaned.loc[reviews_cleaned['Overall Fit'].isna(),'Overall Fit'] = missing_to_random(reviews_cleaned,'Overall Fit')\n",
    "reviews_cleaned.loc[reviews_cleaned['Color'].isna(),'Color'] = missing_to_random(reviews_cleaned,'Color')\n",
    "reviews_cleaned.loc[reviews_cleaned['Size'].isna(),'Size'] = missing_to_random(reviews_cleaned,'Size')"
   ]
  },
  {
   "cell_type": "code",
   "execution_count": 308,
   "metadata": {},
   "outputs": [],
   "source": [
    "reviews_cleaned['missing Height'] = np.where(reviews_cleaned['Height'].isna(),1,0)\n",
    "reviews_cleaned['missing Waist'] = np.where(reviews_cleaned['Waist'].isna(),1,0)"
   ]
  },
  {
   "cell_type": "code",
   "execution_count": 289,
   "metadata": {},
   "outputs": [
    {
     "data": {
      "text/plain": [
       "0    14960\n",
       "1      492\n",
       "Name: missing Size, dtype: int64"
      ]
     },
     "execution_count": 289,
     "metadata": {},
     "output_type": "execute_result"
    }
   ],
   "source": [
    "reviews_cleaned['missing Size'].value_counts()"
   ]
  },
  {
   "cell_type": "code",
   "execution_count": 291,
   "metadata": {},
   "outputs": [
    {
     "data": {
      "text/plain": [
       "-1.0    13453\n",
       " 0.0     1166\n",
       " 1.0      833\n",
       "Name: Overall Fit, dtype: int64"
      ]
     },
     "execution_count": 291,
     "metadata": {},
     "output_type": "execute_result"
    }
   ],
   "source": [
    "reviews_cleaned['Overall Fit'].value_counts()"
   ]
  },
  {
   "cell_type": "code",
   "execution_count": 292,
   "metadata": {},
   "outputs": [
    {
     "data": {
      "text/plain": [
       "<matplotlib.axes._subplots.AxesSubplot at 0x2890c748>"
      ]
     },
     "execution_count": 292,
     "metadata": {},
     "output_type": "execute_result"
    },
    {
     "data": {
      "image/png": "[encoded data removed]",
      "text/plain": [
       "<Figure size 432x288 with 2 Axes>"
      ]
     },
     "metadata": {
      "needs_background": "light"
     },
     "output_type": "display_data"
    }
   ],
   "source": [
    "sns.heatmap(reviews_cleaned.isna())"
   ]
  },
  {
   "cell_type": "markdown",
   "metadata": {},
   "source": [
    "### Normalize Non-Text Features"
   ]
  },
  {
   "cell_type": "markdown",
   "metadata": {},
   "source": [
    "#### Convert `Color` Type to Integers"
   ]
  },
  {
   "cell_type": "code",
   "execution_count": 293,
   "metadata": {},
   "outputs": [],
   "source": [
    "color_conversion = reviews_cleaned['Color'].value_counts()[:6].index.values\n",
    "reviews_cleaned['Color'].replace(color_conversion, np.arange(6),inplace=True)\n",
    "reviews_cleaned.loc[~reviews_cleaned['Color'].isin([0,1,2,3,4,5,6,np.nan]), \"Color\"] = 6"
   ]
  },
  {
   "cell_type": "code",
   "execution_count": 294,
   "metadata": {},
   "outputs": [
    {
     "data": {
      "text/plain": [
       "6    8750\n",
       "0    1381\n",
       "1    1309\n",
       "2    1196\n",
       "3    1075\n",
       "4     948\n",
       "5     793\n",
       "Name: Color, dtype: int64"
      ]
     },
     "execution_count": 294,
     "metadata": {},
     "output_type": "execute_result"
    }
   ],
   "source": [
    "reviews_cleaned['Color'].value_counts()"
   ]
  },
  {
   "cell_type": "code",
   "execution_count": 295,
   "metadata": {},
   "outputs": [
    {
     "data": {
      "text/html": [
       "<div>\n",
       "<style scoped>\n",
       "    .dataframe tbody tr th:only-of-type {\n",
       "        vertical-align: middle;\n",
       "    }\n",
       "\n",
       "    .dataframe tbody tr th {\n",
       "        vertical-align: top;\n",
       "    }\n",
       "\n",
       "    .dataframe thead th {\n",
       "        text-align: right;\n",
       "    }\n",
       "</style>\n",
       "<table border=\"1\" class=\"dataframe\">\n",
       "  <thead>\n",
       "    <tr style=\"text-align: right;\">\n",
       "      <th></th>\n",
       "      <th>Individual Rating</th>\n",
       "      <th>Number of Pictures</th>\n",
       "      <th>Overall Fit</th>\n",
       "      <th>Height</th>\n",
       "      <th>Waist</th>\n",
       "      <th>Rank</th>\n",
       "      <th>Color</th>\n",
       "      <th>Size</th>\n",
       "      <th>Date (ordinal)</th>\n",
       "      <th>Time (numerical)</th>\n",
       "      <th>Comment Length</th>\n",
       "      <th>missing Overall Fit</th>\n",
       "      <th>missing Color</th>\n",
       "      <th>missing Size</th>\n",
       "    </tr>\n",
       "  </thead>\n",
       "  <tbody>\n",
       "    <tr>\n",
       "      <th>0</th>\n",
       "      <td>1.0</td>\n",
       "      <td>0.833333</td>\n",
       "      <td>0.0</td>\n",
       "      <td>0.478261</td>\n",
       "      <td>0.611940</td>\n",
       "      <td>0.0</td>\n",
       "      <td>0.666667</td>\n",
       "      <td>0.4</td>\n",
       "      <td>0.982495</td>\n",
       "      <td>0.098029</td>\n",
       "      <td>0.156214</td>\n",
       "      <td>0.0</td>\n",
       "      <td>0.0</td>\n",
       "      <td>0.0</td>\n",
       "    </tr>\n",
       "    <tr>\n",
       "      <th>1</th>\n",
       "      <td>1.0</td>\n",
       "      <td>0.666667</td>\n",
       "      <td>0.0</td>\n",
       "      <td>0.449275</td>\n",
       "      <td>0.447761</td>\n",
       "      <td>0.0</td>\n",
       "      <td>0.500000</td>\n",
       "      <td>0.2</td>\n",
       "      <td>0.997265</td>\n",
       "      <td>0.562777</td>\n",
       "      <td>0.321551</td>\n",
       "      <td>0.0</td>\n",
       "      <td>0.0</td>\n",
       "      <td>0.0</td>\n",
       "    </tr>\n",
       "    <tr>\n",
       "      <th>2</th>\n",
       "      <td>1.0</td>\n",
       "      <td>0.666667</td>\n",
       "      <td>0.0</td>\n",
       "      <td>0.043478</td>\n",
       "      <td>0.507463</td>\n",
       "      <td>0.0</td>\n",
       "      <td>0.666667</td>\n",
       "      <td>0.4</td>\n",
       "      <td>0.999453</td>\n",
       "      <td>0.473221</td>\n",
       "      <td>0.166477</td>\n",
       "      <td>0.0</td>\n",
       "      <td>0.0</td>\n",
       "      <td>0.0</td>\n",
       "    </tr>\n",
       "    <tr>\n",
       "      <th>3</th>\n",
       "      <td>1.0</td>\n",
       "      <td>0.666667</td>\n",
       "      <td>0.0</td>\n",
       "      <td>0.376812</td>\n",
       "      <td>0.447761</td>\n",
       "      <td>0.0</td>\n",
       "      <td>0.166667</td>\n",
       "      <td>0.2</td>\n",
       "      <td>0.983589</td>\n",
       "      <td>0.389476</td>\n",
       "      <td>0.132269</td>\n",
       "      <td>0.0</td>\n",
       "      <td>0.0</td>\n",
       "      <td>0.0</td>\n",
       "    </tr>\n",
       "    <tr>\n",
       "      <th>4</th>\n",
       "      <td>1.0</td>\n",
       "      <td>0.500000</td>\n",
       "      <td>0.0</td>\n",
       "      <td>0.478261</td>\n",
       "      <td>0.000000</td>\n",
       "      <td>0.0</td>\n",
       "      <td>0.666667</td>\n",
       "      <td>0.2</td>\n",
       "      <td>0.948578</td>\n",
       "      <td>0.805331</td>\n",
       "      <td>0.320410</td>\n",
       "      <td>0.0</td>\n",
       "      <td>0.0</td>\n",
       "      <td>0.0</td>\n",
       "    </tr>\n",
       "  </tbody>\n",
       "</table>\n",
       "</div>"
      ],
      "text/plain": [
       "   Individual Rating  Number of Pictures  Overall Fit    Height     Waist  \\\n",
       "0                1.0            0.833333          0.0  0.478261  0.611940   \n",
       "1                1.0            0.666667          0.0  0.449275  0.447761   \n",
       "2                1.0            0.666667          0.0  0.043478  0.507463   \n",
       "3                1.0            0.666667          0.0  0.376812  0.447761   \n",
       "4                1.0            0.500000          0.0  0.478261  0.000000   \n",
       "\n",
       "   Rank     Color  Size  Date (ordinal)  Time (numerical)  Comment Length  \\\n",
       "0   0.0  0.666667   0.4        0.982495          0.098029        0.156214   \n",
       "1   0.0  0.500000   0.2        0.997265          0.562777        0.321551   \n",
       "2   0.0  0.666667   0.4        0.999453          0.473221        0.166477   \n",
       "3   0.0  0.166667   0.2        0.983589          0.389476        0.132269   \n",
       "4   0.0  0.666667   0.2        0.948578          0.805331        0.320410   \n",
       "\n",
       "   missing Overall Fit  missing Color  missing Size  \n",
       "0                  0.0            0.0           0.0  \n",
       "1                  0.0            0.0           0.0  \n",
       "2                  0.0            0.0           0.0  \n",
       "3                  0.0            0.0           0.0  \n",
       "4                  0.0            0.0           0.0  "
      ]
     },
     "execution_count": 295,
     "metadata": {},
     "output_type": "execute_result"
    }
   ],
   "source": [
    "reviews_normalized.head()"
   ]
  },
  {
   "cell_type": "markdown",
   "metadata": {},
   "source": [
    "###  Convert Sizes to Numerical"
   ]
  },
  {
   "cell_type": "code",
   "execution_count": 296,
   "metadata": {},
   "outputs": [],
   "source": [
    "sizes = ['XS', 'S','M','L','XL','2XL','ONE SIZE']\n",
    "# one size equals medium\n",
    "# xs is smallest number, 2xl is biggest number\n",
    "converted_sizes = [0,1,2,3,4,5,2]"
   ]
  },
  {
   "cell_type": "code",
   "execution_count": 297,
   "metadata": {},
   "outputs": [],
   "source": [
    "reviews_cleaned['Size'].replace(sizes, converted_sizes, inplace=True)"
   ]
  },
  {
   "cell_type": "code",
   "execution_count": 298,
   "metadata": {},
   "outputs": [],
   "source": [
    "reviews_cleaned[['Size','Color']] = reviews_cleaned[['Size','Color']].apply(pd.to_numeric)"
   ]
  },
  {
   "cell_type": "code",
   "execution_count": 299,
   "metadata": {},
   "outputs": [
    {
     "data": {
      "text/plain": [
       "Individual Rating        int64\n",
       "Number of Pictures       int64\n",
       "Comment                 object\n",
       "Overall Fit            float64\n",
       "Height                 float64\n",
       "Waist                  float64\n",
       "Rank                     int64\n",
       "Color                    int64\n",
       "Size                     int64\n",
       "Date (ordinal)           int64\n",
       "Time (numerical)         int64\n",
       "Comment Length           int64\n",
       "missing Overall Fit      int32\n",
       "missing Color            int32\n",
       "missing Size             int32\n",
       "dtype: object"
      ]
     },
     "execution_count": 299,
     "metadata": {},
     "output_type": "execute_result"
    }
   ],
   "source": [
    "reviews_cleaned.dtypes"
   ]
  },
  {
   "cell_type": "markdown",
   "metadata": {},
   "source": [
    "## Normalize All Variables (excluding text data)"
   ]
  },
  {
   "cell_type": "code",
   "execution_count": 311,
   "metadata": {},
   "outputs": [],
   "source": [
    "reviews_normalized = reviews_cleaned.loc[:, reviews_cleaned.columns != 'Comment']\n",
    "scaler = MinMaxScaler()\n",
    "scaler.fit_transform(reviews_normalized)\n",
    "reviews_normalized = pd.DataFrame(scaler.fit_transform(reviews_normalized), columns=reviews_normalized.columns, index=reviews_normalized.index)"
   ]
  },
  {
   "cell_type": "code",
   "execution_count": 312,
   "metadata": {},
   "outputs": [
    {
     "data": {
      "text/plain": [
       "0.0    14960\n",
       "1.0      492\n",
       "Name: missing Color, dtype: int64"
      ]
     },
     "execution_count": 312,
     "metadata": {},
     "output_type": "execute_result"
    }
   ],
   "source": [
    "reviews_normalized['missing Color'].value_counts()"
   ]
  },
  {
   "cell_type": "code",
   "execution_count": 313,
   "metadata": {},
   "outputs": [
    {
     "data": {
      "text/plain": [
       "<matplotlib.axes._subplots.AxesSubplot at 0x36ccca00>"
      ]
     },
     "execution_count": 313,
     "metadata": {},
     "output_type": "execute_result"
    },
    {
     "data": {
      "image/png": "[encoded data removed]",
      "text/plain": [
       "<Figure size 432x288 with 2 Axes>"
      ]
     },
     "metadata": {
      "needs_background": "light"
     },
     "output_type": "display_data"
    }
   ],
   "source": [
    "sns.heatmap(reviews_cleaned.corr())"
   ]
  },
  {
   "cell_type": "markdown",
   "metadata": {},
   "source": [
    "### Use KNN to Impute Height and Waist"
   ]
  },
  {
   "cell_type": "code",
   "execution_count": 314,
   "metadata": {},
   "outputs": [],
   "source": [
    "shuffled = reviews_normalized.sample(frac=1)\n",
    "result = np.array_split(shuffled, 5)"
   ]
  },
  {
   "cell_type": "code",
   "execution_count": 317,
   "metadata": {},
   "outputs": [],
   "source": [
    "sample_0 = pd.DataFrame(result[0],columns=reviews_normalized.columns)"
   ]
  },
  {
   "cell_type": "code",
   "execution_count": 320,
   "metadata": {},
   "outputs": [
    {
     "data": {
      "text/plain": [
       "54.772255750516614"
      ]
     },
     "execution_count": 320,
     "metadata": {},
     "output_type": "execute_result"
    }
   ],
   "source": [
    "np.sqrt(3000)"
   ]
  },
  {
   "cell_type": "code",
   "execution_count": 321,
   "metadata": {},
   "outputs": [],
   "source": [
    "import numpy as np\n",
    "from sklearn.impute import KNNImputer\n",
    "\n",
    "imputer = KNNImputer(n_neighbors=50)\n",
    "df = pd.DataFrame(imputer.fit_transform(sample_0),columns = sample_0.columns)"
   ]
  },
  {
   "cell_type": "code",
   "execution_count": 322,
   "metadata": {},
   "outputs": [
    {
     "data": {
      "text/html": [
       "<div>\n",
       "<style scoped>\n",
       "    .dataframe tbody tr th:only-of-type {\n",
       "        vertical-align: middle;\n",
       "    }\n",
       "\n",
       "    .dataframe tbody tr th {\n",
       "        vertical-align: top;\n",
       "    }\n",
       "\n",
       "    .dataframe thead th {\n",
       "        text-align: right;\n",
       "    }\n",
       "</style>\n",
       "<table border=\"1\" class=\"dataframe\">\n",
       "  <thead>\n",
       "    <tr style=\"text-align: right;\">\n",
       "      <th></th>\n",
       "      <th>Individual Rating</th>\n",
       "      <th>Number of Pictures</th>\n",
       "      <th>Overall Fit</th>\n",
       "      <th>Height</th>\n",
       "      <th>Waist</th>\n",
       "      <th>Rank</th>\n",
       "      <th>Color</th>\n",
       "      <th>Size</th>\n",
       "      <th>Date (ordinal)</th>\n",
       "      <th>Time (numerical)</th>\n",
       "      <th>Comment Length</th>\n",
       "      <th>missing Overall Fit</th>\n",
       "      <th>missing Color</th>\n",
       "      <th>missing Size</th>\n",
       "      <th>missing Height</th>\n",
       "      <th>missing Waist</th>\n",
       "    </tr>\n",
       "  </thead>\n",
       "  <tbody>\n",
       "    <tr>\n",
       "      <th>0</th>\n",
       "      <td>1.00</td>\n",
       "      <td>0.166667</td>\n",
       "      <td>0.0</td>\n",
       "      <td>0.289855</td>\n",
       "      <td>0.507463</td>\n",
       "      <td>0.134454</td>\n",
       "      <td>1.000000</td>\n",
       "      <td>0.2</td>\n",
       "      <td>0.929978</td>\n",
       "      <td>0.819129</td>\n",
       "      <td>0.169897</td>\n",
       "      <td>0.0</td>\n",
       "      <td>0.0</td>\n",
       "      <td>0.0</td>\n",
       "      <td>0.0</td>\n",
       "      <td>0.0</td>\n",
       "    </tr>\n",
       "    <tr>\n",
       "      <th>1</th>\n",
       "      <td>1.00</td>\n",
       "      <td>0.333333</td>\n",
       "      <td>0.0</td>\n",
       "      <td>0.277971</td>\n",
       "      <td>0.193134</td>\n",
       "      <td>0.974790</td>\n",
       "      <td>1.000000</td>\n",
       "      <td>0.2</td>\n",
       "      <td>0.703501</td>\n",
       "      <td>0.965796</td>\n",
       "      <td>0.086659</td>\n",
       "      <td>1.0</td>\n",
       "      <td>0.0</td>\n",
       "      <td>0.0</td>\n",
       "      <td>1.0</td>\n",
       "      <td>1.0</td>\n",
       "    </tr>\n",
       "    <tr>\n",
       "      <th>2</th>\n",
       "      <td>1.00</td>\n",
       "      <td>0.000000</td>\n",
       "      <td>0.0</td>\n",
       "      <td>0.000000</td>\n",
       "      <td>0.000000</td>\n",
       "      <td>0.781513</td>\n",
       "      <td>1.000000</td>\n",
       "      <td>0.4</td>\n",
       "      <td>0.996718</td>\n",
       "      <td>0.298207</td>\n",
       "      <td>0.045610</td>\n",
       "      <td>0.0</td>\n",
       "      <td>0.0</td>\n",
       "      <td>0.0</td>\n",
       "      <td>0.0</td>\n",
       "      <td>0.0</td>\n",
       "    </tr>\n",
       "    <tr>\n",
       "      <th>3</th>\n",
       "      <td>1.00</td>\n",
       "      <td>0.000000</td>\n",
       "      <td>0.0</td>\n",
       "      <td>0.000000</td>\n",
       "      <td>0.000000</td>\n",
       "      <td>0.025210</td>\n",
       "      <td>0.500000</td>\n",
       "      <td>0.2</td>\n",
       "      <td>0.943654</td>\n",
       "      <td>0.951478</td>\n",
       "      <td>0.108324</td>\n",
       "      <td>0.0</td>\n",
       "      <td>0.0</td>\n",
       "      <td>0.0</td>\n",
       "      <td>0.0</td>\n",
       "      <td>0.0</td>\n",
       "    </tr>\n",
       "    <tr>\n",
       "      <th>4</th>\n",
       "      <td>0.50</td>\n",
       "      <td>0.000000</td>\n",
       "      <td>0.0</td>\n",
       "      <td>0.000000</td>\n",
       "      <td>0.000000</td>\n",
       "      <td>0.310924</td>\n",
       "      <td>1.000000</td>\n",
       "      <td>0.8</td>\n",
       "      <td>0.064551</td>\n",
       "      <td>0.136527</td>\n",
       "      <td>0.072976</td>\n",
       "      <td>0.0</td>\n",
       "      <td>0.0</td>\n",
       "      <td>0.0</td>\n",
       "      <td>0.0</td>\n",
       "      <td>0.0</td>\n",
       "    </tr>\n",
       "    <tr>\n",
       "      <th>...</th>\n",
       "      <td>...</td>\n",
       "      <td>...</td>\n",
       "      <td>...</td>\n",
       "      <td>...</td>\n",
       "      <td>...</td>\n",
       "      <td>...</td>\n",
       "      <td>...</td>\n",
       "      <td>...</td>\n",
       "      <td>...</td>\n",
       "      <td>...</td>\n",
       "      <td>...</td>\n",
       "      <td>...</td>\n",
       "      <td>...</td>\n",
       "      <td>...</td>\n",
       "      <td>...</td>\n",
       "      <td>...</td>\n",
       "    </tr>\n",
       "    <tr>\n",
       "      <th>3086</th>\n",
       "      <td>1.00</td>\n",
       "      <td>0.000000</td>\n",
       "      <td>0.0</td>\n",
       "      <td>0.000000</td>\n",
       "      <td>0.000000</td>\n",
       "      <td>0.327731</td>\n",
       "      <td>1.000000</td>\n",
       "      <td>0.2</td>\n",
       "      <td>0.953501</td>\n",
       "      <td>0.382855</td>\n",
       "      <td>0.068415</td>\n",
       "      <td>0.0</td>\n",
       "      <td>0.0</td>\n",
       "      <td>0.0</td>\n",
       "      <td>0.0</td>\n",
       "      <td>0.0</td>\n",
       "    </tr>\n",
       "    <tr>\n",
       "      <th>3087</th>\n",
       "      <td>0.75</td>\n",
       "      <td>0.000000</td>\n",
       "      <td>1.0</td>\n",
       "      <td>0.449275</td>\n",
       "      <td>0.567164</td>\n",
       "      <td>0.529412</td>\n",
       "      <td>1.000000</td>\n",
       "      <td>0.4</td>\n",
       "      <td>0.949125</td>\n",
       "      <td>0.180674</td>\n",
       "      <td>0.054732</td>\n",
       "      <td>0.0</td>\n",
       "      <td>0.0</td>\n",
       "      <td>0.0</td>\n",
       "      <td>0.0</td>\n",
       "      <td>0.0</td>\n",
       "    </tr>\n",
       "    <tr>\n",
       "      <th>3088</th>\n",
       "      <td>1.00</td>\n",
       "      <td>0.333333</td>\n",
       "      <td>0.0</td>\n",
       "      <td>0.521739</td>\n",
       "      <td>0.552239</td>\n",
       "      <td>0.176471</td>\n",
       "      <td>0.666667</td>\n",
       "      <td>0.4</td>\n",
       "      <td>0.974836</td>\n",
       "      <td>0.793166</td>\n",
       "      <td>0.099202</td>\n",
       "      <td>0.0</td>\n",
       "      <td>0.0</td>\n",
       "      <td>0.0</td>\n",
       "      <td>0.0</td>\n",
       "      <td>0.0</td>\n",
       "    </tr>\n",
       "    <tr>\n",
       "      <th>3089</th>\n",
       "      <td>1.00</td>\n",
       "      <td>0.000000</td>\n",
       "      <td>0.0</td>\n",
       "      <td>0.333333</td>\n",
       "      <td>0.492537</td>\n",
       "      <td>0.201681</td>\n",
       "      <td>0.833333</td>\n",
       "      <td>0.4</td>\n",
       "      <td>0.951313</td>\n",
       "      <td>0.830947</td>\n",
       "      <td>0.077537</td>\n",
       "      <td>0.0</td>\n",
       "      <td>0.0</td>\n",
       "      <td>0.0</td>\n",
       "      <td>0.0</td>\n",
       "      <td>0.0</td>\n",
       "    </tr>\n",
       "    <tr>\n",
       "      <th>3090</th>\n",
       "      <td>1.00</td>\n",
       "      <td>0.000000</td>\n",
       "      <td>0.0</td>\n",
       "      <td>0.000000</td>\n",
       "      <td>0.000000</td>\n",
       "      <td>0.798319</td>\n",
       "      <td>0.166667</td>\n",
       "      <td>0.6</td>\n",
       "      <td>0.942560</td>\n",
       "      <td>0.257613</td>\n",
       "      <td>0.054732</td>\n",
       "      <td>0.0</td>\n",
       "      <td>0.0</td>\n",
       "      <td>0.0</td>\n",
       "      <td>0.0</td>\n",
       "      <td>0.0</td>\n",
       "    </tr>\n",
       "  </tbody>\n",
       "</table>\n",
       "<p>3091 rows × 16 columns</p>\n",
       "</div>"
      ],
      "text/plain": [
       "      Individual Rating  Number of Pictures  Overall Fit    Height     Waist  \\\n",
       "0                  1.00            0.166667          0.0  0.289855  0.507463   \n",
       "1                  1.00            0.333333          0.0  0.277971  0.193134   \n",
       "2                  1.00            0.000000          0.0  0.000000  0.000000   \n",
       "3                  1.00            0.000000          0.0  0.000000  0.000000   \n",
       "4                  0.50            0.000000          0.0  0.000000  0.000000   \n",
       "...                 ...                 ...          ...       ...       ...   \n",
       "3086               1.00            0.000000          0.0  0.000000  0.000000   \n",
       "3087               0.75            0.000000          1.0  0.449275  0.567164   \n",
       "3088               1.00            0.333333          0.0  0.521739  0.552239   \n",
       "3089               1.00            0.000000          0.0  0.333333  0.492537   \n",
       "3090               1.00            0.000000          0.0  0.000000  0.000000   \n",
       "\n",
       "          Rank     Color  Size  Date (ordinal)  Time (numerical)  \\\n",
       "0     0.134454  1.000000   0.2        0.929978          0.819129   \n",
       "1     0.974790  1.000000   0.2        0.703501          0.965796   \n",
       "2     0.781513  1.000000   0.4        0.996718          0.298207   \n",
       "3     0.025210  0.500000   0.2        0.943654          0.951478   \n",
       "4     0.310924  1.000000   0.8        0.064551          0.136527   \n",
       "...        ...       ...   ...             ...               ...   \n",
       "3086  0.327731  1.000000   0.2        0.953501          0.382855   \n",
       "3087  0.529412  1.000000   0.4        0.949125          0.180674   \n",
       "3088  0.176471  0.666667   0.4        0.974836          0.793166   \n",
       "3089  0.201681  0.833333   0.4        0.951313          0.830947   \n",
       "3090  0.798319  0.166667   0.6        0.942560          0.257613   \n",
       "\n",
       "      Comment Length  missing Overall Fit  missing Color  missing Size  \\\n",
       "0           0.169897                  0.0            0.0           0.0   \n",
       "1           0.086659                  1.0            0.0           0.0   \n",
       "2           0.045610                  0.0            0.0           0.0   \n",
       "3           0.108324                  0.0            0.0           0.0   \n",
       "4           0.072976                  0.0            0.0           0.0   \n",
       "...              ...                  ...            ...           ...   \n",
       "3086        0.068415                  0.0            0.0           0.0   \n",
       "3087        0.054732                  0.0            0.0           0.0   \n",
       "3088        0.099202                  0.0            0.0           0.0   \n",
       "3089        0.077537                  0.0            0.0           0.0   \n",
       "3090        0.054732                  0.0            0.0           0.0   \n",
       "\n",
       "      missing Height  missing Waist  \n",
       "0                0.0            0.0  \n",
       "1                1.0            1.0  \n",
       "2                0.0            0.0  \n",
       "3                0.0            0.0  \n",
       "4                0.0            0.0  \n",
       "...              ...            ...  \n",
       "3086             0.0            0.0  \n",
       "3087             0.0            0.0  \n",
       "3088             0.0            0.0  \n",
       "3089             0.0            0.0  \n",
       "3090             0.0            0.0  \n",
       "\n",
       "[3091 rows x 16 columns]"
      ]
     },
     "execution_count": 322,
     "metadata": {},
     "output_type": "execute_result"
    }
   ],
   "source": [
    "df"
   ]
  },
  {
   "cell_type": "code",
   "execution_count": 244,
   "metadata": {},
   "outputs": [
    {
     "data": {
      "text/plain": [
       "<matplotlib.axes._subplots.AxesSubplot at 0x320d38f8>"
      ]
     },
     "execution_count": 244,
     "metadata": {},
     "output_type": "execute_result"
    },
    {
     "data": {
      "image/png": "[encoded data removed]",
      "text/plain": [
       "<Figure size 432x288 with 2 Axes>"
      ]
     },
     "metadata": {
      "needs_background": "light"
     },
     "output_type": "display_data"
    }
   ],
   "source": [
    "sns.heatmap(reviews_standardized.corr(method='spearman'))"
   ]
  },
  {
   "cell_type": "code",
   "execution_count": null,
   "metadata": {},
   "outputs": [],
   "source": [
    "## randomly impute overall fit, color, and size\n",
    "\n",
    "## use KNN to predict height and waist"
   ]
  },
  {
   "cell_type": "code",
   "execution_count": 205,
   "metadata": {},
   "outputs": [
    {
     "data": {
      "text/plain": [
       "0.0    13452\n",
       "0.5     1166\n",
       "1.0      833\n",
       "Name: Overall Fit, dtype: int64"
      ]
     },
     "execution_count": 205,
     "metadata": {},
     "output_type": "execute_result"
    }
   ],
   "source": [
    "reviews_normalized['Overall Fit'].value_counts()"
   ]
  },
  {
   "cell_type": "code",
   "execution_count": 306,
   "metadata": {},
   "outputs": [
    {
     "data": {
      "text/html": [
       "<div>\n",
       "<style scoped>\n",
       "    .dataframe tbody tr th:only-of-type {\n",
       "        vertical-align: middle;\n",
       "    }\n",
       "\n",
       "    .dataframe tbody tr th {\n",
       "        vertical-align: top;\n",
       "    }\n",
       "\n",
       "    .dataframe thead th {\n",
       "        text-align: right;\n",
       "    }\n",
       "</style>\n",
       "<table border=\"1\" class=\"dataframe\">\n",
       "  <thead>\n",
       "    <tr style=\"text-align: right;\">\n",
       "      <th></th>\n",
       "      <th>Individual Rating</th>\n",
       "      <th>Number of Pictures</th>\n",
       "      <th>Overall Fit</th>\n",
       "      <th>Height</th>\n",
       "      <th>Waist</th>\n",
       "      <th>Rank</th>\n",
       "      <th>Color</th>\n",
       "      <th>Size</th>\n",
       "      <th>Date (ordinal)</th>\n",
       "      <th>Time (numerical)</th>\n",
       "      <th>Comment Length</th>\n",
       "      <th>missing Overall Fit</th>\n",
       "      <th>missing Color</th>\n",
       "      <th>missing Size</th>\n",
       "    </tr>\n",
       "  </thead>\n",
       "  <tbody>\n",
       "    <tr>\n",
       "      <th>13</th>\n",
       "      <td>1.0</td>\n",
       "      <td>0.333333</td>\n",
       "      <td>0.0</td>\n",
       "      <td>0.26087</td>\n",
       "      <td>NaN</td>\n",
       "      <td>0.000000</td>\n",
       "      <td>0.666667</td>\n",
       "      <td>0.2</td>\n",
       "      <td>0.952954</td>\n",
       "      <td>0.504138</td>\n",
       "      <td>0.257697</td>\n",
       "      <td>1.0</td>\n",
       "      <td>0.0</td>\n",
       "      <td>0.0</td>\n",
       "    </tr>\n",
       "    <tr>\n",
       "      <th>33</th>\n",
       "      <td>1.0</td>\n",
       "      <td>0.166667</td>\n",
       "      <td>0.5</td>\n",
       "      <td>NaN</td>\n",
       "      <td>NaN</td>\n",
       "      <td>0.000000</td>\n",
       "      <td>0.666667</td>\n",
       "      <td>0.2</td>\n",
       "      <td>0.933260</td>\n",
       "      <td>0.762041</td>\n",
       "      <td>0.280502</td>\n",
       "      <td>0.0</td>\n",
       "      <td>0.0</td>\n",
       "      <td>0.0</td>\n",
       "    </tr>\n",
       "    <tr>\n",
       "      <th>35</th>\n",
       "      <td>1.0</td>\n",
       "      <td>0.166667</td>\n",
       "      <td>0.0</td>\n",
       "      <td>NaN</td>\n",
       "      <td>NaN</td>\n",
       "      <td>0.000000</td>\n",
       "      <td>0.666667</td>\n",
       "      <td>0.2</td>\n",
       "      <td>0.934354</td>\n",
       "      <td>0.574283</td>\n",
       "      <td>0.244014</td>\n",
       "      <td>0.0</td>\n",
       "      <td>0.0</td>\n",
       "      <td>0.0</td>\n",
       "    </tr>\n",
       "    <tr>\n",
       "      <th>36</th>\n",
       "      <td>1.0</td>\n",
       "      <td>0.166667</td>\n",
       "      <td>0.0</td>\n",
       "      <td>NaN</td>\n",
       "      <td>NaN</td>\n",
       "      <td>0.000000</td>\n",
       "      <td>0.666667</td>\n",
       "      <td>0.8</td>\n",
       "      <td>0.943107</td>\n",
       "      <td>0.544442</td>\n",
       "      <td>0.218928</td>\n",
       "      <td>0.0</td>\n",
       "      <td>0.0</td>\n",
       "      <td>0.0</td>\n",
       "    </tr>\n",
       "    <tr>\n",
       "      <th>38</th>\n",
       "      <td>1.0</td>\n",
       "      <td>0.166667</td>\n",
       "      <td>0.0</td>\n",
       "      <td>NaN</td>\n",
       "      <td>NaN</td>\n",
       "      <td>0.000000</td>\n",
       "      <td>0.666667</td>\n",
       "      <td>0.2</td>\n",
       "      <td>0.989606</td>\n",
       "      <td>0.914715</td>\n",
       "      <td>0.187001</td>\n",
       "      <td>0.0</td>\n",
       "      <td>0.0</td>\n",
       "      <td>0.0</td>\n",
       "    </tr>\n",
       "    <tr>\n",
       "      <th>...</th>\n",
       "      <td>...</td>\n",
       "      <td>...</td>\n",
       "      <td>...</td>\n",
       "      <td>...</td>\n",
       "      <td>...</td>\n",
       "      <td>...</td>\n",
       "      <td>...</td>\n",
       "      <td>...</td>\n",
       "      <td>...</td>\n",
       "      <td>...</td>\n",
       "      <td>...</td>\n",
       "      <td>...</td>\n",
       "      <td>...</td>\n",
       "      <td>...</td>\n",
       "    </tr>\n",
       "    <tr>\n",
       "      <th>15397</th>\n",
       "      <td>1.0</td>\n",
       "      <td>0.000000</td>\n",
       "      <td>0.0</td>\n",
       "      <td>NaN</td>\n",
       "      <td>NaN</td>\n",
       "      <td>0.310924</td>\n",
       "      <td>1.000000</td>\n",
       "      <td>0.4</td>\n",
       "      <td>0.573851</td>\n",
       "      <td>0.470478</td>\n",
       "      <td>0.034208</td>\n",
       "      <td>1.0</td>\n",
       "      <td>0.0</td>\n",
       "      <td>0.0</td>\n",
       "    </tr>\n",
       "    <tr>\n",
       "      <th>15402</th>\n",
       "      <td>0.5</td>\n",
       "      <td>0.000000</td>\n",
       "      <td>0.0</td>\n",
       "      <td>NaN</td>\n",
       "      <td>NaN</td>\n",
       "      <td>0.310924</td>\n",
       "      <td>1.000000</td>\n",
       "      <td>0.8</td>\n",
       "      <td>0.390044</td>\n",
       "      <td>0.984825</td>\n",
       "      <td>0.033067</td>\n",
       "      <td>1.0</td>\n",
       "      <td>0.0</td>\n",
       "      <td>0.0</td>\n",
       "    </tr>\n",
       "    <tr>\n",
       "      <th>15406</th>\n",
       "      <td>1.0</td>\n",
       "      <td>0.000000</td>\n",
       "      <td>0.0</td>\n",
       "      <td>NaN</td>\n",
       "      <td>NaN</td>\n",
       "      <td>0.310924</td>\n",
       "      <td>1.000000</td>\n",
       "      <td>0.6</td>\n",
       "      <td>0.593545</td>\n",
       "      <td>0.726077</td>\n",
       "      <td>0.015964</td>\n",
       "      <td>1.0</td>\n",
       "      <td>0.0</td>\n",
       "      <td>0.0</td>\n",
       "    </tr>\n",
       "    <tr>\n",
       "      <th>15409</th>\n",
       "      <td>1.0</td>\n",
       "      <td>0.166667</td>\n",
       "      <td>0.0</td>\n",
       "      <td>NaN</td>\n",
       "      <td>NaN</td>\n",
       "      <td>0.319328</td>\n",
       "      <td>0.166667</td>\n",
       "      <td>0.2</td>\n",
       "      <td>0.899344</td>\n",
       "      <td>0.269698</td>\n",
       "      <td>0.169897</td>\n",
       "      <td>0.0</td>\n",
       "      <td>0.0</td>\n",
       "      <td>0.0</td>\n",
       "    </tr>\n",
       "    <tr>\n",
       "      <th>15431</th>\n",
       "      <td>1.0</td>\n",
       "      <td>0.000000</td>\n",
       "      <td>0.5</td>\n",
       "      <td>NaN</td>\n",
       "      <td>NaN</td>\n",
       "      <td>0.319328</td>\n",
       "      <td>0.166667</td>\n",
       "      <td>0.0</td>\n",
       "      <td>0.807987</td>\n",
       "      <td>0.222564</td>\n",
       "      <td>0.079818</td>\n",
       "      <td>0.0</td>\n",
       "      <td>0.0</td>\n",
       "      <td>0.0</td>\n",
       "    </tr>\n",
       "  </tbody>\n",
       "</table>\n",
       "<p>5075 rows × 14 columns</p>\n",
       "</div>"
      ],
      "text/plain": [
       "       Individual Rating  Number of Pictures  Overall Fit   Height  Waist  \\\n",
       "13                   1.0            0.333333          0.0  0.26087    NaN   \n",
       "33                   1.0            0.166667          0.5      NaN    NaN   \n",
       "35                   1.0            0.166667          0.0      NaN    NaN   \n",
       "36                   1.0            0.166667          0.0      NaN    NaN   \n",
       "38                   1.0            0.166667          0.0      NaN    NaN   \n",
       "...                  ...                 ...          ...      ...    ...   \n",
       "15397                1.0            0.000000          0.0      NaN    NaN   \n",
       "15402                0.5            0.000000          0.0      NaN    NaN   \n",
       "15406                1.0            0.000000          0.0      NaN    NaN   \n",
       "15409                1.0            0.166667          0.0      NaN    NaN   \n",
       "15431                1.0            0.000000          0.5      NaN    NaN   \n",
       "\n",
       "           Rank     Color  Size  Date (ordinal)  Time (numerical)  \\\n",
       "13     0.000000  0.666667   0.2        0.952954          0.504138   \n",
       "33     0.000000  0.666667   0.2        0.933260          0.762041   \n",
       "35     0.000000  0.666667   0.2        0.934354          0.574283   \n",
       "36     0.000000  0.666667   0.8        0.943107          0.544442   \n",
       "38     0.000000  0.666667   0.2        0.989606          0.914715   \n",
       "...         ...       ...   ...             ...               ...   \n",
       "15397  0.310924  1.000000   0.4        0.573851          0.470478   \n",
       "15402  0.310924  1.000000   0.8        0.390044          0.984825   \n",
       "15406  0.310924  1.000000   0.6        0.593545          0.726077   \n",
       "15409  0.319328  0.166667   0.2        0.899344          0.269698   \n",
       "15431  0.319328  0.166667   0.0        0.807987          0.222564   \n",
       "\n",
       "       Comment Length  missing Overall Fit  missing Color  missing Size  \n",
       "13           0.257697                  1.0            0.0           0.0  \n",
       "33           0.280502                  0.0            0.0           0.0  \n",
       "35           0.244014                  0.0            0.0           0.0  \n",
       "36           0.218928                  0.0            0.0           0.0  \n",
       "38           0.187001                  0.0            0.0           0.0  \n",
       "...               ...                  ...            ...           ...  \n",
       "15397        0.034208                  1.0            0.0           0.0  \n",
       "15402        0.033067                  1.0            0.0           0.0  \n",
       "15406        0.015964                  1.0            0.0           0.0  \n",
       "15409        0.169897                  0.0            0.0           0.0  \n",
       "15431        0.079818                  0.0            0.0           0.0  \n",
       "\n",
       "[5075 rows x 14 columns]"
      ]
     },
     "execution_count": 306,
     "metadata": {},
     "output_type": "execute_result"
    }
   ],
   "source": [
    "reviews_normalized[reviews_normalized.isna().any(axis=1)]"
   ]
  },
  {
   "cell_type": "code",
   "execution_count": 171,
   "metadata": {},
   "outputs": [],
   "source": [
    "reviews_normalized.drop(13755,axis=0,inplace=True)"
   ]
  },
  {
   "cell_type": "code",
   "execution_count": 3,
   "metadata": {},
   "outputs": [],
   "source": [
    "#reviews_cleaned.to_csv(r'reviews_cleaned.csv',index=False)\n",
    "\n",
    "reviews_cleaned = pd.read_csv(r'../data/reviews_cleaned.csv')"
   ]
  },
  {
   "cell_type": "code",
   "execution_count": 5,
   "metadata": {},
   "outputs": [
    {
     "data": {
      "text/plain": [
       "Individual Rating         5\n",
       "Number of Pictures        7\n",
       "Comment               10735\n",
       "Overall Fit               3\n",
       "Height                   26\n",
       "Waist                    49\n",
       "Rank                    120\n",
       "Color                     7\n",
       "Size                      6\n",
       "Date (ordinal)          971\n",
       "Time (numerical)      14158\n",
       "Comment Length          324\n",
       "dtype: int64"
      ]
     },
     "execution_count": 5,
     "metadata": {},
     "output_type": "execute_result"
    }
   ],
   "source": [
    "reviews_cleaned.nunique()"
   ]
  },
  {
   "cell_type": "code",
   "execution_count": 172,
   "metadata": {},
   "outputs": [],
   "source": [
    "#reviews_normalized.to_csv(r'reviews_normalized.csv',index=False)\n",
    "\n",
    "reviews_standardized = pd.read_csv(r'reviews_standardized.csv')"
   ]
  },
  {
   "cell_type": "code",
   "execution_count": 187,
   "metadata": {},
   "outputs": [
    {
     "data": {
      "text/html": [
       "<div>\n",
       "<style scoped>\n",
       "    .dataframe tbody tr th:only-of-type {\n",
       "        vertical-align: middle;\n",
       "    }\n",
       "\n",
       "    .dataframe tbody tr th {\n",
       "        vertical-align: top;\n",
       "    }\n",
       "\n",
       "    .dataframe thead th {\n",
       "        text-align: right;\n",
       "    }\n",
       "</style>\n",
       "<table border=\"1\" class=\"dataframe\">\n",
       "  <thead>\n",
       "    <tr style=\"text-align: right;\">\n",
       "      <th></th>\n",
       "      <th>Individual Rating</th>\n",
       "      <th>Number of Pictures</th>\n",
       "      <th>Comment</th>\n",
       "      <th>Overall Fit</th>\n",
       "      <th>Height</th>\n",
       "      <th>Waist</th>\n",
       "      <th>Rank</th>\n",
       "      <th>Color</th>\n",
       "      <th>Size</th>\n",
       "      <th>Date (ordinal)</th>\n",
       "      <th>Time (numerical)</th>\n",
       "      <th>Comment Length</th>\n",
       "    </tr>\n",
       "  </thead>\n",
       "  <tbody>\n",
       "    <tr>\n",
       "      <th>0</th>\n",
       "      <td>5</td>\n",
       "      <td>5</td>\n",
       "      <td>It is thin but I’ve bought for holiday so I’m ...</td>\n",
       "      <td>-1.0</td>\n",
       "      <td>170.0</td>\n",
       "      <td>73.0</td>\n",
       "      <td>1</td>\n",
       "      <td>4</td>\n",
       "      <td>2.0</td>\n",
       "      <td>737654</td>\n",
       "      <td>8474</td>\n",
       "      <td>138</td>\n",
       "    </tr>\n",
       "    <tr>\n",
       "      <th>1</th>\n",
       "      <td>5</td>\n",
       "      <td>4</td>\n",
       "      <td>Absolutely in love with this dress true to siz...</td>\n",
       "      <td>-1.0</td>\n",
       "      <td>168.0</td>\n",
       "      <td>62.0</td>\n",
       "      <td>1</td>\n",
       "      <td>3</td>\n",
       "      <td>1.0</td>\n",
       "      <td>737681</td>\n",
       "      <td>48625</td>\n",
       "      <td>283</td>\n",
       "    </tr>\n",
       "    <tr>\n",
       "      <th>2</th>\n",
       "      <td>5</td>\n",
       "      <td>4</td>\n",
       "      <td>Tamaño correcto y se quedan bien Cómodo y de m...</td>\n",
       "      <td>-1.0</td>\n",
       "      <td>140.0</td>\n",
       "      <td>66.0</td>\n",
       "      <td>1</td>\n",
       "      <td>4</td>\n",
       "      <td>2.0</td>\n",
       "      <td>737685</td>\n",
       "      <td>40888</td>\n",
       "      <td>147</td>\n",
       "    </tr>\n",
       "    <tr>\n",
       "      <th>3</th>\n",
       "      <td>5</td>\n",
       "      <td>4</td>\n",
       "      <td>True to size and fits well Comfortable and of ...</td>\n",
       "      <td>-1.0</td>\n",
       "      <td>163.0</td>\n",
       "      <td>62.0</td>\n",
       "      <td>1</td>\n",
       "      <td>1</td>\n",
       "      <td>1.0</td>\n",
       "      <td>737656</td>\n",
       "      <td>33653</td>\n",
       "      <td>117</td>\n",
       "    </tr>\n",
       "    <tr>\n",
       "      <th>4</th>\n",
       "      <td>5</td>\n",
       "      <td>3</td>\n",
       "      <td>True to size and comfortable. I thought when I...</td>\n",
       "      <td>-1.0</td>\n",
       "      <td>170.0</td>\n",
       "      <td>32.0</td>\n",
       "      <td>1</td>\n",
       "      <td>4</td>\n",
       "      <td>1.0</td>\n",
       "      <td>737592</td>\n",
       "      <td>69580</td>\n",
       "      <td>282</td>\n",
       "    </tr>\n",
       "  </tbody>\n",
       "</table>\n",
       "</div>"
      ],
      "text/plain": [
       "   Individual Rating  Number of Pictures  \\\n",
       "0                  5                   5   \n",
       "1                  5                   4   \n",
       "2                  5                   4   \n",
       "3                  5                   4   \n",
       "4                  5                   3   \n",
       "\n",
       "                                             Comment  Overall Fit  Height  \\\n",
       "0  It is thin but I’ve bought for holiday so I’m ...         -1.0   170.0   \n",
       "1  Absolutely in love with this dress true to siz...         -1.0   168.0   \n",
       "2  Tamaño correcto y se quedan bien Cómodo y de m...         -1.0   140.0   \n",
       "3  True to size and fits well Comfortable and of ...         -1.0   163.0   \n",
       "4  True to size and comfortable. I thought when I...         -1.0   170.0   \n",
       "\n",
       "   Waist  Rank  Color  Size  Date (ordinal)  Time (numerical)  Comment Length  \n",
       "0   73.0     1      4   2.0          737654              8474             138  \n",
       "1   62.0     1      3   1.0          737681             48625             283  \n",
       "2   66.0     1      4   2.0          737685             40888             147  \n",
       "3   62.0     1      1   1.0          737656             33653             117  \n",
       "4   32.0     1      4   1.0          737592             69580             282  "
      ]
     },
     "execution_count": 187,
     "metadata": {},
     "output_type": "execute_result"
    }
   ],
   "source": [
    "reviews_cleaned.head()"
   ]
  },
  {
   "cell_type": "code",
   "execution_count": null,
   "metadata": {},
   "outputs": [],
   "source": [
    "# How many unique reviews\n",
    "print(reviews_cleaned['Comment'].nunique(), \" non-unique comments\")"
   ]
  },
  {
   "cell_type": "code",
   "execution_count": 118,
   "metadata": {},
   "outputs": [],
   "source": [
    "import string\n",
    "from nltk.corpus import stopwords\n",
    "import re\n",
    "\n",
    "def remove_stops(text, stops):\n",
    "    #removes all stop words\n",
    "    words = text.split()\n",
    "    final = []\n",
    "    for word in words:\n",
    "        if word not in stops:\n",
    "            final.append(word)\n",
    "            \n",
    "    #reassembles the text without stop words\n",
    "    final = \" \".join(final)\n",
    "    \n",
    "    #removes all punctuation\n",
    "    final = final.translate(str.maketrans(\"\", \"\", string.punctuation))\n",
    "    \n",
    "    #removes all numbers\n",
    "    final = \"\".join([i for i in final if not i.isdigit()])\n",
    "    \n",
    "    #eliminates double white spaces\n",
    "    while \"  \" in final:\n",
    "        final = final.replace(\"  \", \" \")\n",
    "    return (final)\n",
    "\n",
    "def clean_docs(docs):\n",
    "    #gets the NLTK's stopword list for English\n",
    "    stops = stopwords.words(\"english\")\n",
    "    \n",
    "    #empty new list to store the cleaned docs\n",
    "    final = []\n",
    "    \n",
    "    #iterate over all docs and cleans them to be a\n",
    "    #single sentence with no unwanted words\n",
    "    for doc in docs:\n",
    "        clean_doc = remove_stops(doc, stops)\n",
    "        final.append(clean_doc)\n",
    "    \n",
    "    return (final)"
   ]
  },
  {
   "cell_type": "code",
   "execution_count": 119,
   "metadata": {},
   "outputs": [],
   "source": [
    "comments = clean_docs(reviews_cleaned[reviews_cleaned['Comment'].notna()]['Comment'])\n",
    "vectorizer = CountVectorizer(min_df=.01,ngram_range=(1,3),max_df=.8,stop_words='english')\n",
    "comments_matrix = vectorizer.fit_transform(comments)"
   ]
  },
  {
   "cell_type": "code",
   "execution_count": 124,
   "metadata": {},
   "outputs": [
    {
     "name": "stdout",
     "output_type": "stream",
     "text": [
      "\n",
      "\n",
      "Features : \n",
      " ['absolutely', 'amazing', 'auf', 'aus', 'aux', 'aux photos', 'beautiful', 'beautiful dress', 'bien', 'big', 'bit', 'chest', 'color', 'comfortable', 'comfortable fantastic', 'comfortable fantastic material', 'comfy', 'como', 'como las', 'como las fotos', 'confortable', 'correcto', 'correcto se', 'correcto se quedan', 'cute', 'cute comfortable', 'cute comfortable fantastic', 'cute dress', 'cute fits', 'cute fits love', 'cute looks', 'cute looks exaclty', 'cute love', 'cómodo', 'cómodo material', 'cómodo material fantástico', 'definitely', 'definitely recommend', 'definitely recommend unique', 'definitivamente', 'der', 'design', 'dress', 'el', 'en', 'es', 'est', 'et', 'et se', 'et se porte', 'exaclty', 'exaclty like', 'exaclty like pictures', 'exactamente', 'exactamente como', 'exactamente como las', 'exactement', 'exactement aux', 'exactement aux photos', 'exactly', 'exactly like', 'exactly like pictures', 'expected', 'fabric', 'fantastic', 'fantastic material', 'fantastic material definitely', 'fantastic material looks', 'fantastic material true', 'fantástico', 'favorite', 'fidèle', 'fidèle la', 'fidèle la taille', 'fit', 'fits', 'fits comfortable', 'fits comfortable fantastic', 'fits definitely', 'fits looks', 'fits looks exaclty', 'fits love', 'fits love looks', 'fits perfectly', 'fits super', 'fits super cute', 'flattering', 'foto', 'fotos', 'genau', 'goes', 'goes definitely', 'goes definitely recommend', 'good', 'got', 'great', 'gut', 'im', 'je', 'la', 'la taille', 'la taille et', 'large', 'las', 'las fotos', 'le', 'length', 'les', 'light', 'like', 'like picture', 'like pictures', 'like pictures comfortable', 'like pictures definitely', 'like pictures goes', 'like pictures love', 'like pictures true', 'lindo', 'little', 'long', 'look', 'looks', 'looks exaclty', 'looks exaclty like', 'looks exactly', 'looks exactly like', 'love', 'love comfortable', 'love comfortable fantastic', 'love dress', 'love fits', 'love looks', 'love looks exaclty', 'love true', 'love true size', 'lovely', 'mais', 'material', 'material definitely', 'material definitely recommend', 'material fantástico', 'material looks', 'material looks exaclty', 'material true', 'material true size', 'medium', 'muy', 'nice', 'ordered', 'passt', 'perfect', 'perfectly', 'pero', 'photos', 'picture', 'pictures', 'pictures comfortable', 'pictures comfortable fantastic', 'pictures definitely', 'pictures definitely recommend', 'pictures goes', 'pictures goes definitely', 'pictures love', 'pictures true', 'pictures true size', 'porte', 'porte bien', 'pretty', 'quality', 'que', 'quedan', 'quedan bien', 'really', 'really cute', 'recomiendo', 'recommande', 'recommend', 'recommend unique', 'recommend unique design', 'ressemble', 'ressemble exactement', 'ressemble exactement aux', 'robe', 'se', 'se exactamente', 'se exactamente como', 'se porte', 'se porte bien', 'se quedan', 'se quedan bien', 'short', 'sieht', 'size', 'size comfortable', 'size comfortable fantastic', 'size fits', 'size fits comfortable', 'size fits looks', 'size looks', 'size looks exaclty', 'small', 'straps', 'summer', 'super', 'super cute', 'super cute comfortable', 'super cute fits', 'super cute looks', 'super cute love', 'súper', 'súper lindo', 'taille', 'taille et', 'taille et se', 'tamaño', 'tamaño correcto', 'tamaño correcto se', 'true', 'true size', 'true size comfortable', 'true size fits', 'true size looks', 'très', 'und', 'unique', 'unique design', 'wear', 'wie', 'zaful']\n",
      "229\n",
      "\n",
      "\n",
      "X1 : \n",
      " [[0 0 0 ... 0 0 0]\n",
      " [1 2 0 ... 0 0 0]\n",
      " [0 0 0 ... 0 0 0]\n",
      " ...\n",
      " [0 0 0 ... 0 0 0]\n",
      " [0 1 0 ... 0 0 0]\n",
      " [0 1 0 ... 0 0 0]]\n"
     ]
    }
   ],
   "source": [
    "features = (vectorizer.get_feature_names())\n",
    "print(\"\\n\\nFeatures : \\n\", features)\n",
    "print(len(features))\n",
    "print(\"\\n\\nComments Matrix : \\n\", comments_matrix.toarray())"
   ]
  },
  {
   "cell_type": "code",
   "execution_count": 125,
   "metadata": {},
   "outputs": [],
   "source": [
    "feature_names = vectorizer.get_feature_names()\n",
    "\n",
    "dense = comments_matrix.todense()\n",
    "denselist = dense.tolist()"
   ]
  },
  {
   "cell_type": "code",
   "execution_count": 151,
   "metadata": {},
   "outputs": [
    {
     "data": {
      "text/plain": [
       "scipy.sparse.csr.csr_matrix"
      ]
     },
     "execution_count": 151,
     "metadata": {},
     "output_type": "execute_result"
    }
   ],
   "source": [
    "type(comments_matrix)"
   ]
  },
  {
   "cell_type": "code",
   "execution_count": 173,
   "metadata": {},
   "outputs": [],
   "source": [
    "from scipy.sparse import csr_matrix\n",
    "comments_combined = csr_matrix(np.concatenate([denselist, reviews_normalized], axis=1))"
   ]
  },
  {
   "cell_type": "code",
   "execution_count": 174,
   "metadata": {},
   "outputs": [
    {
     "data": {
      "text/plain": [
       "<15451x240 sparse matrix of type '<class 'numpy.float64'>'\n",
       "\twith 320404 stored elements in Compressed Sparse Row format>"
      ]
     },
     "execution_count": 174,
     "metadata": {},
     "output_type": "execute_result"
    }
   ],
   "source": [
    "comments_combined\n"
   ]
  },
  {
   "cell_type": "code",
   "execution_count": 163,
   "metadata": {},
   "outputs": [],
   "source": [
    "comments_combined_array = np.array(comments_combined)"
   ]
  },
  {
   "cell_type": "code",
   "execution_count": 131,
   "metadata": {},
   "outputs": [
    {
     "data": {
      "text/plain": [
       "<15451x229 sparse matrix of type '<class 'numpy.int64'>'\n",
       "\twith 185331 stored elements in Compressed Sparse Row format>"
      ]
     },
     "execution_count": 131,
     "metadata": {},
     "output_type": "execute_result"
    }
   ],
   "source": [
    "comments_matrix"
   ]
  },
  {
   "cell_type": "code",
   "execution_count": 145,
   "metadata": {},
   "outputs": [
    {
     "name": "stdout",
     "output_type": "stream",
     "text": [
      "Original Text:\n",
      "It thin I’ve bought holiday I’m happy it’s like that Makes boobs look huge which not light I love\n",
      "\n",
      "Cleaned Text:\n"
     ]
    },
    {
     "ename": "NotImplementedError",
     "evalue": "adding a nonzero scalar to a sparse matrix is not supported",
     "output_type": "error",
     "traceback": [
      "\u001b[1;31m---------------------------------------------------------------------------\u001b[0m",
      "\u001b[1;31mNotImplementedError\u001b[0m                       Traceback (most recent call last)",
      "\u001b[1;32m<ipython-input-145-3f443f57e3d7>\u001b[0m in \u001b[0;36m<module>\u001b[1;34m\u001b[0m\n\u001b[0;32m      3\u001b[0m \u001b[1;33m\u001b[0m\u001b[0m\n\u001b[0;32m      4\u001b[0m \u001b[0mprint\u001b[0m \u001b[1;33m(\u001b[0m\u001b[1;34m\"Cleaned Text:\"\u001b[0m\u001b[1;33m)\u001b[0m\u001b[1;33m\u001b[0m\u001b[1;33m\u001b[0m\u001b[0m\n\u001b[1;32m----> 5\u001b[1;33m \u001b[0mprint\u001b[0m \u001b[1;33m(\u001b[0m\u001b[0mcomments_matrix\u001b[0m\u001b[1;33m[\u001b[0m\u001b[1;36m0\u001b[0m\u001b[1;33m]\u001b[0m\u001b[1;33m+\u001b[0m\u001b[1;34m\"\\n\"\u001b[0m\u001b[1;33m)\u001b[0m\u001b[1;33m\u001b[0m\u001b[1;33m\u001b[0m\u001b[0m\n\u001b[0m",
      "\u001b[1;32m~\\anaconda3\\lib\\site-packages\\scipy\\sparse\\base.py\u001b[0m in \u001b[0;36m__add__\u001b[1;34m(self, other)\u001b[0m\n\u001b[0;32m    408\u001b[0m                 \u001b[1;32mreturn\u001b[0m \u001b[0mself\u001b[0m\u001b[1;33m.\u001b[0m\u001b[0mcopy\u001b[0m\u001b[1;33m(\u001b[0m\u001b[1;33m)\u001b[0m\u001b[1;33m\u001b[0m\u001b[1;33m\u001b[0m\u001b[0m\n\u001b[0;32m    409\u001b[0m             \u001b[1;31m# Now we would add this scalar to every element.\u001b[0m\u001b[1;33m\u001b[0m\u001b[1;33m\u001b[0m\u001b[1;33m\u001b[0m\u001b[0m\n\u001b[1;32m--> 410\u001b[1;33m             raise NotImplementedError('adding a nonzero scalar to a '\n\u001b[0m\u001b[0;32m    411\u001b[0m                                       'sparse matrix is not supported')\n\u001b[0;32m    412\u001b[0m         \u001b[1;32melif\u001b[0m \u001b[0misspmatrix\u001b[0m\u001b[1;33m(\u001b[0m\u001b[0mother\u001b[0m\u001b[1;33m)\u001b[0m\u001b[1;33m:\u001b[0m\u001b[1;33m\u001b[0m\u001b[1;33m\u001b[0m\u001b[0m\n",
      "\u001b[1;31mNotImplementedError\u001b[0m: adding a nonzero scalar to a sparse matrix is not supported"
     ]
    }
   ],
   "source": [
    "print (\"Original Text:\")\n",
    "print (comments[0]+\"\\n\")\n",
    "\n",
    "print (\"Cleaned Text:\")\n",
    "print (comments_matrix[0]+\"\\n\")\n"
   ]
  },
  {
   "cell_type": "code",
   "execution_count": 175,
   "metadata": {},
   "outputs": [
    {
     "ename": "ValueError",
     "evalue": "Input contains NaN, infinity or a value too large for dtype('float64').",
     "output_type": "error",
     "traceback": [
      "\u001b[1;31m---------------------------------------------------------------------------\u001b[0m",
      "\u001b[1;31mValueError\u001b[0m                                Traceback (most recent call last)",
      "\u001b[1;32m<ipython-input-175-58230f9e4c47>\u001b[0m in \u001b[0;36m<module>\u001b[1;34m\u001b[0m\n\u001b[0;32m      2\u001b[0m \u001b[1;32mfor\u001b[0m \u001b[0mi\u001b[0m \u001b[1;32min\u001b[0m \u001b[0mrange\u001b[0m\u001b[1;33m(\u001b[0m\u001b[1;36m1\u001b[0m\u001b[1;33m,\u001b[0m \u001b[1;36m11\u001b[0m\u001b[1;33m)\u001b[0m\u001b[1;33m:\u001b[0m\u001b[1;33m\u001b[0m\u001b[1;33m\u001b[0m\u001b[0m\n\u001b[0;32m      3\u001b[0m     \u001b[0mkmeans\u001b[0m \u001b[1;33m=\u001b[0m \u001b[0mKMeans\u001b[0m\u001b[1;33m(\u001b[0m\u001b[0mn_clusters\u001b[0m\u001b[1;33m=\u001b[0m\u001b[0mi\u001b[0m\u001b[1;33m,\u001b[0m \u001b[0mrandom_state\u001b[0m\u001b[1;33m=\u001b[0m\u001b[1;36m0\u001b[0m\u001b[1;33m)\u001b[0m\u001b[1;33m\u001b[0m\u001b[1;33m\u001b[0m\u001b[0m\n\u001b[1;32m----> 4\u001b[1;33m     \u001b[0mkmeans\u001b[0m\u001b[1;33m.\u001b[0m\u001b[0mfit\u001b[0m\u001b[1;33m(\u001b[0m\u001b[0mcomments_combined\u001b[0m\u001b[1;33m)\u001b[0m\u001b[1;33m\u001b[0m\u001b[1;33m\u001b[0m\u001b[0m\n\u001b[0m\u001b[0;32m      5\u001b[0m \u001b[1;33m\u001b[0m\u001b[0m\n\u001b[0;32m      6\u001b[0m     \u001b[1;31m# calculates squared error\u001b[0m\u001b[1;33m\u001b[0m\u001b[1;33m\u001b[0m\u001b[1;33m\u001b[0m\u001b[0m\n",
      "\u001b[1;32m~\\anaconda3\\lib\\site-packages\\sklearn\\cluster\\_kmeans.py\u001b[0m in \u001b[0;36mfit\u001b[1;34m(self, X, y, sample_weight)\u001b[0m\n\u001b[0;32m    977\u001b[0m             \u001b[0mFitted\u001b[0m \u001b[0mestimator\u001b[0m\u001b[1;33m.\u001b[0m\u001b[1;33m\u001b[0m\u001b[1;33m\u001b[0m\u001b[0m\n\u001b[0;32m    978\u001b[0m         \"\"\"\n\u001b[1;32m--> 979\u001b[1;33m         X = self._validate_data(X, accept_sparse='csr',\n\u001b[0m\u001b[0;32m    980\u001b[0m                                 \u001b[0mdtype\u001b[0m\u001b[1;33m=\u001b[0m\u001b[1;33m[\u001b[0m\u001b[0mnp\u001b[0m\u001b[1;33m.\u001b[0m\u001b[0mfloat64\u001b[0m\u001b[1;33m,\u001b[0m \u001b[0mnp\u001b[0m\u001b[1;33m.\u001b[0m\u001b[0mfloat32\u001b[0m\u001b[1;33m]\u001b[0m\u001b[1;33m,\u001b[0m\u001b[1;33m\u001b[0m\u001b[1;33m\u001b[0m\u001b[0m\n\u001b[0;32m    981\u001b[0m                                 \u001b[0morder\u001b[0m\u001b[1;33m=\u001b[0m\u001b[1;34m'C'\u001b[0m\u001b[1;33m,\u001b[0m \u001b[0mcopy\u001b[0m\u001b[1;33m=\u001b[0m\u001b[0mself\u001b[0m\u001b[1;33m.\u001b[0m\u001b[0mcopy_x\u001b[0m\u001b[1;33m,\u001b[0m\u001b[1;33m\u001b[0m\u001b[1;33m\u001b[0m\u001b[0m\n",
      "\u001b[1;32m~\\anaconda3\\lib\\site-packages\\sklearn\\base.py\u001b[0m in \u001b[0;36m_validate_data\u001b[1;34m(self, X, y, reset, validate_separately, **check_params)\u001b[0m\n\u001b[0;32m    419\u001b[0m             \u001b[0mout\u001b[0m \u001b[1;33m=\u001b[0m \u001b[0mX\u001b[0m\u001b[1;33m\u001b[0m\u001b[1;33m\u001b[0m\u001b[0m\n\u001b[0;32m    420\u001b[0m         \u001b[1;32melif\u001b[0m \u001b[0misinstance\u001b[0m\u001b[1;33m(\u001b[0m\u001b[0my\u001b[0m\u001b[1;33m,\u001b[0m \u001b[0mstr\u001b[0m\u001b[1;33m)\u001b[0m \u001b[1;32mand\u001b[0m \u001b[0my\u001b[0m \u001b[1;33m==\u001b[0m \u001b[1;34m'no_validation'\u001b[0m\u001b[1;33m:\u001b[0m\u001b[1;33m\u001b[0m\u001b[1;33m\u001b[0m\u001b[0m\n\u001b[1;32m--> 421\u001b[1;33m             \u001b[0mX\u001b[0m \u001b[1;33m=\u001b[0m \u001b[0mcheck_array\u001b[0m\u001b[1;33m(\u001b[0m\u001b[0mX\u001b[0m\u001b[1;33m,\u001b[0m \u001b[1;33m**\u001b[0m\u001b[0mcheck_params\u001b[0m\u001b[1;33m)\u001b[0m\u001b[1;33m\u001b[0m\u001b[1;33m\u001b[0m\u001b[0m\n\u001b[0m\u001b[0;32m    422\u001b[0m             \u001b[0mout\u001b[0m \u001b[1;33m=\u001b[0m \u001b[0mX\u001b[0m\u001b[1;33m\u001b[0m\u001b[1;33m\u001b[0m\u001b[0m\n\u001b[0;32m    423\u001b[0m         \u001b[1;32melse\u001b[0m\u001b[1;33m:\u001b[0m\u001b[1;33m\u001b[0m\u001b[1;33m\u001b[0m\u001b[0m\n",
      "\u001b[1;32m~\\anaconda3\\lib\\site-packages\\sklearn\\utils\\validation.py\u001b[0m in \u001b[0;36minner_f\u001b[1;34m(*args, **kwargs)\u001b[0m\n\u001b[0;32m     61\u001b[0m             \u001b[0mextra_args\u001b[0m \u001b[1;33m=\u001b[0m \u001b[0mlen\u001b[0m\u001b[1;33m(\u001b[0m\u001b[0margs\u001b[0m\u001b[1;33m)\u001b[0m \u001b[1;33m-\u001b[0m \u001b[0mlen\u001b[0m\u001b[1;33m(\u001b[0m\u001b[0mall_args\u001b[0m\u001b[1;33m)\u001b[0m\u001b[1;33m\u001b[0m\u001b[1;33m\u001b[0m\u001b[0m\n\u001b[0;32m     62\u001b[0m             \u001b[1;32mif\u001b[0m \u001b[0mextra_args\u001b[0m \u001b[1;33m<=\u001b[0m \u001b[1;36m0\u001b[0m\u001b[1;33m:\u001b[0m\u001b[1;33m\u001b[0m\u001b[1;33m\u001b[0m\u001b[0m\n\u001b[1;32m---> 63\u001b[1;33m                 \u001b[1;32mreturn\u001b[0m \u001b[0mf\u001b[0m\u001b[1;33m(\u001b[0m\u001b[1;33m*\u001b[0m\u001b[0margs\u001b[0m\u001b[1;33m,\u001b[0m \u001b[1;33m**\u001b[0m\u001b[0mkwargs\u001b[0m\u001b[1;33m)\u001b[0m\u001b[1;33m\u001b[0m\u001b[1;33m\u001b[0m\u001b[0m\n\u001b[0m\u001b[0;32m     64\u001b[0m \u001b[1;33m\u001b[0m\u001b[0m\n\u001b[0;32m     65\u001b[0m             \u001b[1;31m# extra_args > 0\u001b[0m\u001b[1;33m\u001b[0m\u001b[1;33m\u001b[0m\u001b[1;33m\u001b[0m\u001b[0m\n",
      "\u001b[1;32m~\\anaconda3\\lib\\site-packages\\sklearn\\utils\\validation.py\u001b[0m in \u001b[0;36mcheck_array\u001b[1;34m(array, accept_sparse, accept_large_sparse, dtype, order, copy, force_all_finite, ensure_2d, allow_nd, ensure_min_samples, ensure_min_features, estimator)\u001b[0m\n\u001b[0;32m    591\u001b[0m     \u001b[1;32mif\u001b[0m \u001b[0msp\u001b[0m\u001b[1;33m.\u001b[0m\u001b[0missparse\u001b[0m\u001b[1;33m(\u001b[0m\u001b[0marray\u001b[0m\u001b[1;33m)\u001b[0m\u001b[1;33m:\u001b[0m\u001b[1;33m\u001b[0m\u001b[1;33m\u001b[0m\u001b[0m\n\u001b[0;32m    592\u001b[0m         \u001b[0m_ensure_no_complex_data\u001b[0m\u001b[1;33m(\u001b[0m\u001b[0marray\u001b[0m\u001b[1;33m)\u001b[0m\u001b[1;33m\u001b[0m\u001b[1;33m\u001b[0m\u001b[0m\n\u001b[1;32m--> 593\u001b[1;33m         array = _ensure_sparse_format(array, accept_sparse=accept_sparse,\n\u001b[0m\u001b[0;32m    594\u001b[0m                                       \u001b[0mdtype\u001b[0m\u001b[1;33m=\u001b[0m\u001b[0mdtype\u001b[0m\u001b[1;33m,\u001b[0m \u001b[0mcopy\u001b[0m\u001b[1;33m=\u001b[0m\u001b[0mcopy\u001b[0m\u001b[1;33m,\u001b[0m\u001b[1;33m\u001b[0m\u001b[1;33m\u001b[0m\u001b[0m\n\u001b[0;32m    595\u001b[0m                                       \u001b[0mforce_all_finite\u001b[0m\u001b[1;33m=\u001b[0m\u001b[0mforce_all_finite\u001b[0m\u001b[1;33m,\u001b[0m\u001b[1;33m\u001b[0m\u001b[1;33m\u001b[0m\u001b[0m\n",
      "\u001b[1;32m~\\anaconda3\\lib\\site-packages\\sklearn\\utils\\validation.py\u001b[0m in \u001b[0;36m_ensure_sparse_format\u001b[1;34m(spmatrix, accept_sparse, dtype, copy, force_all_finite, accept_large_sparse)\u001b[0m\n\u001b[0;32m    389\u001b[0m                           % spmatrix.format, stacklevel=2)\n\u001b[0;32m    390\u001b[0m         \u001b[1;32melse\u001b[0m\u001b[1;33m:\u001b[0m\u001b[1;33m\u001b[0m\u001b[1;33m\u001b[0m\u001b[0m\n\u001b[1;32m--> 391\u001b[1;33m             _assert_all_finite(spmatrix.data,\n\u001b[0m\u001b[0;32m    392\u001b[0m                                allow_nan=force_all_finite == 'allow-nan')\n\u001b[0;32m    393\u001b[0m \u001b[1;33m\u001b[0m\u001b[0m\n",
      "\u001b[1;32m~\\anaconda3\\lib\\site-packages\\sklearn\\utils\\validation.py\u001b[0m in \u001b[0;36m_assert_all_finite\u001b[1;34m(X, allow_nan, msg_dtype)\u001b[0m\n\u001b[0;32m    101\u001b[0m                 not allow_nan and not np.isfinite(X).all()):\n\u001b[0;32m    102\u001b[0m             \u001b[0mtype_err\u001b[0m \u001b[1;33m=\u001b[0m \u001b[1;34m'infinity'\u001b[0m \u001b[1;32mif\u001b[0m \u001b[0mallow_nan\u001b[0m \u001b[1;32melse\u001b[0m \u001b[1;34m'NaN, infinity'\u001b[0m\u001b[1;33m\u001b[0m\u001b[1;33m\u001b[0m\u001b[0m\n\u001b[1;32m--> 103\u001b[1;33m             raise ValueError(\n\u001b[0m\u001b[0;32m    104\u001b[0m                     \u001b[0mmsg_err\u001b[0m\u001b[1;33m.\u001b[0m\u001b[0mformat\u001b[0m\u001b[1;33m\u001b[0m\u001b[1;33m\u001b[0m\u001b[0m\n\u001b[0;32m    105\u001b[0m                     (type_err,\n",
      "\u001b[1;31mValueError\u001b[0m: Input contains NaN, infinity or a value too large for dtype('float64')."
     ]
    }
   ],
   "source": [
    "cost =[] \n",
    "for i in range(1, 11): \n",
    "    kmeans = KMeans(n_clusters=i, random_state=0)\n",
    "    kmeans.fit(comments_combined)\n",
    "      \n",
    "    # calculates squared error \n",
    "    # for the clustered points \n",
    "    cost.append(kmeans.inertia_)      \n",
    "  \n",
    "# plot the cost against K values \n",
    "plt.plot(range(1, 11), cost, color ='g', linewidth ='3') \n",
    "plt.xlabel(\"Value of K\") \n",
    "plt.ylabel(\"Sqaured Error (Cost)\") \n",
    "plt.show() # clear the plot "
   ]
  },
  {
   "cell_type": "code",
   "execution_count": 167,
   "metadata": {},
   "outputs": [
    {
     "data": {
      "text/plain": [
       "array(<15451x240 sparse matrix of type '<class 'numpy.float64'>'\n",
       "\twith 355292 stored elements in Compressed Sparse Row format>,\n",
       "      dtype=object)"
      ]
     },
     "execution_count": 167,
     "metadata": {},
     "output_type": "execute_result"
    }
   ],
   "source": [
    "comments_combined_array"
   ]
  },
  {
   "cell_type": "code",
   "execution_count": 161,
   "metadata": {},
   "outputs": [
    {
     "ename": "TypeError",
     "evalue": "ufunc 'isfinite' not supported for the input types, and the inputs could not be safely coerced to any supported types according to the casting rule ''safe''",
     "output_type": "error",
     "traceback": [
      "\u001b[1;31m---------------------------------------------------------------------------\u001b[0m",
      "\u001b[1;31mTypeError\u001b[0m                                 Traceback (most recent call last)",
      "\u001b[1;32m<ipython-input-161-a280498c59df>\u001b[0m in \u001b[0;36m<module>\u001b[1;34m\u001b[0m\n\u001b[1;32m----> 1\u001b[1;33m \u001b[0mnp\u001b[0m\u001b[1;33m.\u001b[0m\u001b[0mall\u001b[0m\u001b[1;33m(\u001b[0m\u001b[0mnp\u001b[0m\u001b[1;33m.\u001b[0m\u001b[0misfinite\u001b[0m\u001b[1;33m(\u001b[0m\u001b[0mcomments_combined\u001b[0m\u001b[1;33m)\u001b[0m\u001b[1;33m)\u001b[0m\u001b[1;33m\u001b[0m\u001b[1;33m\u001b[0m\u001b[0m\n\u001b[0m",
      "\u001b[1;31mTypeError\u001b[0m: ufunc 'isfinite' not supported for the input types, and the inputs could not be safely coerced to any supported types according to the casting rule ''safe''"
     ]
    }
   ],
   "source": [
    "np.all(np.isfinite(comments_combined))"
   ]
  },
  {
   "cell_type": "code",
   "execution_count": 147,
   "metadata": {},
   "outputs": [
    {
     "name": "stdout",
     "output_type": "stream",
     "text": [
      "Cluster 0\n",
      "et\n",
      "la\n",
      "taille\n",
      "la taille\n",
      "fidèle la taille\n",
      "fidèle la\n",
      "fidèle\n",
      "la taille et\n",
      "taille et\n",
      "se\n",
      "\n",
      "Cluster 1\n",
      "dress\n",
      "love\n",
      "cute\n",
      "size\n",
      "fits\n",
      "love dress\n",
      "material\n",
      "perfect\n",
      "really\n",
      "like\n",
      "\n",
      "Cluster 2\n",
      "material\n",
      "fits\n",
      "size\n",
      "comfortable\n",
      "se\n",
      "fantastic\n",
      "fantastic material\n",
      "comfortable fantastic\n",
      "comfortable fantastic material\n",
      "como\n",
      "\n",
      "Cluster 3\n",
      "material\n",
      "comfortable\n",
      "fantastic\n",
      "comfortable fantastic\n",
      "fantastic material\n",
      "comfortable fantastic material\n",
      "size\n",
      "fits\n",
      "true\n",
      "true size\n",
      "\n",
      "Cluster 4\n",
      "like\n",
      "exaclty like\n",
      "exaclty\n",
      "looks\n",
      "pictures\n",
      "like pictures\n",
      "exaclty like pictures\n",
      "looks exaclty\n",
      "looks exaclty like\n",
      "cute\n",
      "\n",
      "Cluster 5\n",
      "cute\n",
      "super\n",
      "super cute\n",
      "love\n",
      "fits\n",
      "material\n",
      "comfortable\n",
      "size\n",
      "fantastic\n",
      "fantastic material\n",
      "\n"
     ]
    }
   ],
   "source": [
    "true_k = 6\n",
    "\n",
    "model = KMeans(n_clusters=true_k, init=\"k-means++\", max_iter=100, n_init=1)\n",
    "\n",
    "model.fit(comments_matrix)\n",
    "\n",
    "order_centroids = model.cluster_centers_.argsort()[:, ::-1]\n",
    "terms = vectorizer.get_feature_names()\n",
    "\n",
    "i = 0\n",
    "for cluster in order_centroids:\n",
    "    print (f\"Cluster {i}\")\n",
    "    for keyword in cluster[0:10]:\n",
    "        print (terms[keyword])\n",
    "    print (\"\")\n",
    "    i=i+1"
   ]
  },
  {
   "cell_type": "code",
   "execution_count": 148,
   "metadata": {},
   "outputs": [],
   "source": [
    "## visualizing cluster\n",
    "\n",
    "import matplotlib.pyplot as plt\n",
    "from sklearn.decomposition import PCA\n",
    "\n",
    "kmean_indices = model.fit_predict(X1)\n",
    "\n",
    "pca = PCA(n_components=2)\n",
    "scatter_plot_points = pca.fit_transform(X1.toarray())"
   ]
  },
  {
   "cell_type": "code",
   "execution_count": 100,
   "metadata": {},
   "outputs": [
    {
     "ename": "ValueError",
     "evalue": "Length of values does not match length of index",
     "output_type": "error",
     "traceback": [
      "\u001b[1;31m--------------------------------------------------------------\u001b[0m",
      "\u001b[1;31mValueError\u001b[0m                   Traceback (most recent call last)",
      "\u001b[1;32m<ipython-input-100-8979c213be01>\u001b[0m in \u001b[0;36m<module>\u001b[1;34m\u001b[0m\n\u001b[1;32m----> 1\u001b[1;33m \u001b[0mreviews_cleaned\u001b[0m\u001b[1;33m[\u001b[0m\u001b[1;34m'kmeans6'\u001b[0m\u001b[1;33m]\u001b[0m \u001b[1;33m=\u001b[0m \u001b[0mkmeans\u001b[0m\u001b[1;33m.\u001b[0m\u001b[0mlabels_\u001b[0m\u001b[1;33m\u001b[0m\u001b[1;33m\u001b[0m\u001b[0m\n\u001b[0m",
      "\u001b[1;32m~\\anaconda3\\lib\\site-packages\\pandas\\core\\frame.py\u001b[0m in \u001b[0;36m__setitem__\u001b[1;34m(self, key, value)\u001b[0m\n\u001b[0;32m   2936\u001b[0m         \u001b[1;32melse\u001b[0m\u001b[1;33m:\u001b[0m\u001b[1;33m\u001b[0m\u001b[1;33m\u001b[0m\u001b[0m\n\u001b[0;32m   2937\u001b[0m             \u001b[1;31m# set column\u001b[0m\u001b[1;33m\u001b[0m\u001b[1;33m\u001b[0m\u001b[1;33m\u001b[0m\u001b[0m\n\u001b[1;32m-> 2938\u001b[1;33m             \u001b[0mself\u001b[0m\u001b[1;33m.\u001b[0m\u001b[0m_set_item\u001b[0m\u001b[1;33m(\u001b[0m\u001b[0mkey\u001b[0m\u001b[1;33m,\u001b[0m \u001b[0mvalue\u001b[0m\u001b[1;33m)\u001b[0m\u001b[1;33m\u001b[0m\u001b[1;33m\u001b[0m\u001b[0m\n\u001b[0m\u001b[0;32m   2939\u001b[0m \u001b[1;33m\u001b[0m\u001b[0m\n\u001b[0;32m   2940\u001b[0m     \u001b[1;32mdef\u001b[0m \u001b[0m_setitem_slice\u001b[0m\u001b[1;33m(\u001b[0m\u001b[0mself\u001b[0m\u001b[1;33m,\u001b[0m \u001b[0mkey\u001b[0m\u001b[1;33m,\u001b[0m \u001b[0mvalue\u001b[0m\u001b[1;33m)\u001b[0m\u001b[1;33m:\u001b[0m\u001b[1;33m\u001b[0m\u001b[1;33m\u001b[0m\u001b[0m\n",
      "\u001b[1;32m~\\anaconda3\\lib\\site-packages\\pandas\\core\\frame.py\u001b[0m in \u001b[0;36m_set_item\u001b[1;34m(self, key, value)\u001b[0m\n\u001b[0;32m   2998\u001b[0m \u001b[1;33m\u001b[0m\u001b[0m\n\u001b[0;32m   2999\u001b[0m         \u001b[0mself\u001b[0m\u001b[1;33m.\u001b[0m\u001b[0m_ensure_valid_index\u001b[0m\u001b[1;33m(\u001b[0m\u001b[0mvalue\u001b[0m\u001b[1;33m)\u001b[0m\u001b[1;33m\u001b[0m\u001b[1;33m\u001b[0m\u001b[0m\n\u001b[1;32m-> 3000\u001b[1;33m         \u001b[0mvalue\u001b[0m \u001b[1;33m=\u001b[0m \u001b[0mself\u001b[0m\u001b[1;33m.\u001b[0m\u001b[0m_sanitize_column\u001b[0m\u001b[1;33m(\u001b[0m\u001b[0mkey\u001b[0m\u001b[1;33m,\u001b[0m \u001b[0mvalue\u001b[0m\u001b[1;33m)\u001b[0m\u001b[1;33m\u001b[0m\u001b[1;33m\u001b[0m\u001b[0m\n\u001b[0m\u001b[0;32m   3001\u001b[0m         \u001b[0mNDFrame\u001b[0m\u001b[1;33m.\u001b[0m\u001b[0m_set_item\u001b[0m\u001b[1;33m(\u001b[0m\u001b[0mself\u001b[0m\u001b[1;33m,\u001b[0m \u001b[0mkey\u001b[0m\u001b[1;33m,\u001b[0m \u001b[0mvalue\u001b[0m\u001b[1;33m)\u001b[0m\u001b[1;33m\u001b[0m\u001b[1;33m\u001b[0m\u001b[0m\n\u001b[0;32m   3002\u001b[0m \u001b[1;33m\u001b[0m\u001b[0m\n",
      "\u001b[1;32m~\\anaconda3\\lib\\site-packages\\pandas\\core\\frame.py\u001b[0m in \u001b[0;36m_sanitize_column\u001b[1;34m(self, key, value, broadcast)\u001b[0m\n\u001b[0;32m   3634\u001b[0m \u001b[1;33m\u001b[0m\u001b[0m\n\u001b[0;32m   3635\u001b[0m             \u001b[1;31m# turn me into an ndarray\u001b[0m\u001b[1;33m\u001b[0m\u001b[1;33m\u001b[0m\u001b[1;33m\u001b[0m\u001b[0m\n\u001b[1;32m-> 3636\u001b[1;33m             \u001b[0mvalue\u001b[0m \u001b[1;33m=\u001b[0m \u001b[0msanitize_index\u001b[0m\u001b[1;33m(\u001b[0m\u001b[0mvalue\u001b[0m\u001b[1;33m,\u001b[0m \u001b[0mself\u001b[0m\u001b[1;33m.\u001b[0m\u001b[0mindex\u001b[0m\u001b[1;33m,\u001b[0m \u001b[0mcopy\u001b[0m\u001b[1;33m=\u001b[0m\u001b[1;32mFalse\u001b[0m\u001b[1;33m)\u001b[0m\u001b[1;33m\u001b[0m\u001b[1;33m\u001b[0m\u001b[0m\n\u001b[0m\u001b[0;32m   3637\u001b[0m             \u001b[1;32mif\u001b[0m \u001b[1;32mnot\u001b[0m \u001b[0misinstance\u001b[0m\u001b[1;33m(\u001b[0m\u001b[0mvalue\u001b[0m\u001b[1;33m,\u001b[0m \u001b[1;33m(\u001b[0m\u001b[0mnp\u001b[0m\u001b[1;33m.\u001b[0m\u001b[0mndarray\u001b[0m\u001b[1;33m,\u001b[0m \u001b[0mIndex\u001b[0m\u001b[1;33m)\u001b[0m\u001b[1;33m)\u001b[0m\u001b[1;33m:\u001b[0m\u001b[1;33m\u001b[0m\u001b[1;33m\u001b[0m\u001b[0m\n\u001b[0;32m   3638\u001b[0m                 \u001b[1;32mif\u001b[0m \u001b[0misinstance\u001b[0m\u001b[1;33m(\u001b[0m\u001b[0mvalue\u001b[0m\u001b[1;33m,\u001b[0m \u001b[0mlist\u001b[0m\u001b[1;33m)\u001b[0m \u001b[1;32mand\u001b[0m \u001b[0mlen\u001b[0m\u001b[1;33m(\u001b[0m\u001b[0mvalue\u001b[0m\u001b[1;33m)\u001b[0m \u001b[1;33m>\u001b[0m \u001b[1;36m0\u001b[0m\u001b[1;33m:\u001b[0m\u001b[1;33m\u001b[0m\u001b[1;33m\u001b[0m\u001b[0m\n",
      "\u001b[1;32m~\\anaconda3\\lib\\site-packages\\pandas\\core\\internals\\construction.py\u001b[0m in \u001b[0;36msanitize_index\u001b[1;34m(data, index, copy)\u001b[0m\n\u001b[0;32m    609\u001b[0m \u001b[1;33m\u001b[0m\u001b[0m\n\u001b[0;32m    610\u001b[0m     \u001b[1;32mif\u001b[0m \u001b[0mlen\u001b[0m\u001b[1;33m(\u001b[0m\u001b[0mdata\u001b[0m\u001b[1;33m)\u001b[0m \u001b[1;33m!=\u001b[0m \u001b[0mlen\u001b[0m\u001b[1;33m(\u001b[0m\u001b[0mindex\u001b[0m\u001b[1;33m)\u001b[0m\u001b[1;33m:\u001b[0m\u001b[1;33m\u001b[0m\u001b[1;33m\u001b[0m\u001b[0m\n\u001b[1;32m--> 611\u001b[1;33m         \u001b[1;32mraise\u001b[0m \u001b[0mValueError\u001b[0m\u001b[1;33m(\u001b[0m\u001b[1;34m\"Length of values does not match length of index\"\u001b[0m\u001b[1;33m)\u001b[0m\u001b[1;33m\u001b[0m\u001b[1;33m\u001b[0m\u001b[0m\n\u001b[0m\u001b[0;32m    612\u001b[0m \u001b[1;33m\u001b[0m\u001b[0m\n\u001b[0;32m    613\u001b[0m     \u001b[1;32mif\u001b[0m \u001b[0misinstance\u001b[0m\u001b[1;33m(\u001b[0m\u001b[0mdata\u001b[0m\u001b[1;33m,\u001b[0m \u001b[0mABCIndexClass\u001b[0m\u001b[1;33m)\u001b[0m \u001b[1;32mand\u001b[0m \u001b[1;32mnot\u001b[0m \u001b[0mcopy\u001b[0m\u001b[1;33m:\u001b[0m\u001b[1;33m\u001b[0m\u001b[1;33m\u001b[0m\u001b[0m\n",
      "\u001b[1;31mValueError\u001b[0m: Length of values does not match length of index"
     ]
    }
   ],
   "source": [
    "reviews_cleaned['kmeans6'] = kmeans.labels_"
   ]
  },
  {
   "cell_type": "code",
   "execution_count": 51,
   "metadata": {},
   "outputs": [
    {
     "name": "stderr",
     "output_type": "stream",
     "text": [
      "No handles with labels found to put in legend.\n"
     ]
    },
    {
     "data": {
      "text/plain": [
       "<matplotlib.legend.Legend at 0xcc662b0>"
      ]
     },
     "execution_count": 51,
     "metadata": {},
     "output_type": "execute_result"
    },
    {
     "data": {
      "image/png": "[encoded data removed]",
      "text/plain": [
       "<Figure size 360x360 with 1 Axes>"
      ]
     },
     "metadata": {
      "needs_background": "light"
     },
     "output_type": "display_data"
    }
   ],
   "source": [
    "\n",
    "colors = [\"r\", \"b\", \"m\", \"y\", \"c\",\"g\"]\n",
    "\n",
    "x_axis = [o[0] for o in scatter_plot_points]\n",
    "y_axis = [o[1] for o in scatter_plot_points]\n",
    "\n",
    "\n",
    "fig, ax = plt.subplots(figsize=(5,5))\n",
    "ax.scatter(x_axis, y_axis, c=[colors[d] for d in kmean_indices])\n",
    "plt.xlabel('PCA1')\n",
    "plt.ylabel('PCA2')\n",
    "plt.title('Clusters of Text Data with PCA')\n",
    "ax.legend()"
   ]
  },
  {
   "cell_type": "code",
   "execution_count": 48,
   "metadata": {},
   "outputs": [
    {
     "data": {
      "text/plain": [
       "array([1, 0, 2, ..., 1, 1, 1])"
      ]
     },
     "execution_count": 48,
     "metadata": {},
     "output_type": "execute_result"
    }
   ],
   "source": [
    "kmean_indices"
   ]
  },
  {
   "cell_type": "code",
   "execution_count": 52,
   "metadata": {},
   "outputs": [
    {
     "name": "stderr",
     "output_type": "stream",
     "text": [
      "C:\\Users\\m2mar\\anaconda3\\lib\\site-packages\\seaborn\\distributions.py:369: UserWarning: Default bandwidth for data is 0; skipping density estimation.\n",
      "  warnings.warn(msg, UserWarning)\n"
     ]
    },
    {
     "data": {
      "text/plain": [
       "<matplotlib.axes._subplots.AxesSubplot at 0xc688568>"
      ]
     },
     "execution_count": 52,
     "metadata": {},
     "output_type": "execute_result"
    },
    {
     "data": {
      "image/png": "[encoded data removed]",
      "text/plain": [
       "<Figure size 864x864 with 4 Axes>"
      ]
     },
     "metadata": {
      "needs_background": "light"
     },
     "output_type": "display_data"
    }
   ],
   "source": [
    "import seaborn as sns\n",
    "missing_cols = ['Height','Waist','Overall Fit']\n",
    "\n",
    "fig, ax = plt.subplots(4,1,figsize=(12,12))\n",
    "ax = ax.ravel()\n",
    "count=0\n",
    "for cat in missing_cols:\n",
    "    ar = sns.distplot(reviews_cleaned[cat],ax=ax[count])\n",
    "    count+=1 \n",
    "sns.countplot(reviews_cleaned['Size'],ax=ax[count])"
   ]
  },
  {
   "cell_type": "code",
   "execution_count": 64,
   "metadata": {},
   "outputs": [
    {
     "data": {
      "text/plain": [
       "<matplotlib.axes._subplots.AxesSubplot at 0x165c6ec8>"
      ]
     },
     "execution_count": 64,
     "metadata": {},
     "output_type": "execute_result"
    },
    {
     "data": {
      "image/png": "[encoded data removed]",
      "text/plain": [
       "<Figure size 432x288 with 1 Axes>"
      ]
     },
     "metadata": {
      "needs_background": "light"
     },
     "output_type": "display_data"
    }
   ],
   "source": [
    "reviews_cleaned['Color'].value_counts(normalize=True).sort_values().plot(kind = 'barh')"
   ]
  },
  {
   "cell_type": "code",
   "execution_count": 65,
   "metadata": {},
   "outputs": [
    {
     "data": {
      "text/plain": [
       "<matplotlib.axes._subplots.AxesSubplot at 0x165c5c40>"
      ]
     },
     "execution_count": 65,
     "metadata": {},
     "output_type": "execute_result"
    },
    {
     "data": {
      "image/png": "[encoded data removed]",
      "text/plain": [
       "<Figure size 432x288 with 1 Axes>"
      ]
     },
     "metadata": {
      "needs_background": "light"
     },
     "output_type": "display_data"
    }
   ],
   "source": [
    "reviews_cleaned['Color'].value_counts(normalize=True)[:10].sort_values().plot(kind = 'barh')"
   ]
  },
  {
   "cell_type": "code",
   "execution_count": 77,
   "metadata": {},
   "outputs": [
    {
     "ename": "TypeError",
     "evalue": "no numeric data to plot",
     "output_type": "error",
     "traceback": [
      "\u001b[1;31m---------------------------------------------------------------------------\u001b[0m",
      "\u001b[1;31mTypeError\u001b[0m                                 Traceback (most recent call last)",
      "\u001b[1;32m<ipython-input-77-407b31e923df>\u001b[0m in \u001b[0;36m<module>\u001b[1;34m\u001b[0m\n\u001b[0;32m      1\u001b[0m \u001b[0mcolor_conversion\u001b[0m \u001b[1;33m=\u001b[0m \u001b[0mreviews_cleaned\u001b[0m\u001b[1;33m[\u001b[0m\u001b[1;34m'Color'\u001b[0m\u001b[1;33m]\u001b[0m\u001b[1;33m.\u001b[0m\u001b[0mvalue_counts\u001b[0m\u001b[1;33m(\u001b[0m\u001b[1;33m)\u001b[0m\u001b[1;33m[\u001b[0m\u001b[1;33m:\u001b[0m\u001b[1;36m6\u001b[0m\u001b[1;33m]\u001b[0m\u001b[1;33m.\u001b[0m\u001b[0mindex\u001b[0m\u001b[1;33m.\u001b[0m\u001b[0mvalues\u001b[0m\u001b[1;33m\u001b[0m\u001b[1;33m\u001b[0m\u001b[0m\n\u001b[1;32m----> 2\u001b[1;33m \u001b[0mreviews_cleaned\u001b[0m\u001b[1;33m[\u001b[0m\u001b[1;34m'Color'\u001b[0m\u001b[1;33m]\u001b[0m\u001b[1;33m.\u001b[0m\u001b[0mreplace\u001b[0m\u001b[1;33m(\u001b[0m\u001b[0mcolor_conversion\u001b[0m\u001b[1;33m,\u001b[0m \u001b[0mnp\u001b[0m\u001b[1;33m.\u001b[0m\u001b[0marray\u001b[0m\u001b[1;33m(\u001b[0m\u001b[1;36m6\u001b[0m\u001b[1;33m)\u001b[0m\u001b[1;33m)\u001b[0m\u001b[1;33m.\u001b[0m\u001b[0mplot\u001b[0m\u001b[1;33m(\u001b[0m\u001b[0mkind\u001b[0m \u001b[1;33m=\u001b[0m \u001b[1;34m'barh'\u001b[0m\u001b[1;33m)\u001b[0m\u001b[1;33m\u001b[0m\u001b[1;33m\u001b[0m\u001b[0m\n\u001b[0m",
      "\u001b[1;32m~\\anaconda3\\lib\\site-packages\\pandas\\plotting\\_core.py\u001b[0m in \u001b[0;36m__call__\u001b[1;34m(self, *args, **kwargs)\u001b[0m\n\u001b[0;32m    845\u001b[0m                     \u001b[0mdata\u001b[0m\u001b[1;33m.\u001b[0m\u001b[0mcolumns\u001b[0m \u001b[1;33m=\u001b[0m \u001b[0mlabel_name\u001b[0m\u001b[1;33m\u001b[0m\u001b[1;33m\u001b[0m\u001b[0m\n\u001b[0;32m    846\u001b[0m \u001b[1;33m\u001b[0m\u001b[0m\n\u001b[1;32m--> 847\u001b[1;33m         \u001b[1;32mreturn\u001b[0m \u001b[0mplot_backend\u001b[0m\u001b[1;33m.\u001b[0m\u001b[0mplot\u001b[0m\u001b[1;33m(\u001b[0m\u001b[0mdata\u001b[0m\u001b[1;33m,\u001b[0m \u001b[0mkind\u001b[0m\u001b[1;33m=\u001b[0m\u001b[0mkind\u001b[0m\u001b[1;33m,\u001b[0m \u001b[1;33m**\u001b[0m\u001b[0mkwargs\u001b[0m\u001b[1;33m)\u001b[0m\u001b[1;33m\u001b[0m\u001b[1;33m\u001b[0m\u001b[0m\n\u001b[0m\u001b[0;32m    848\u001b[0m \u001b[1;33m\u001b[0m\u001b[0m\n\u001b[0;32m    849\u001b[0m     \u001b[0m__call__\u001b[0m\u001b[1;33m.\u001b[0m\u001b[0m__doc__\u001b[0m \u001b[1;33m=\u001b[0m \u001b[0m__doc__\u001b[0m\u001b[1;33m\u001b[0m\u001b[1;33m\u001b[0m\u001b[0m\n",
      "\u001b[1;32m~\\anaconda3\\lib\\site-packages\\pandas\\plotting\\_matplotlib\\__init__.py\u001b[0m in \u001b[0;36mplot\u001b[1;34m(data, kind, **kwargs)\u001b[0m\n\u001b[0;32m     59\u001b[0m             \u001b[0mkwargs\u001b[0m\u001b[1;33m[\u001b[0m\u001b[1;34m\"ax\"\u001b[0m\u001b[1;33m]\u001b[0m \u001b[1;33m=\u001b[0m \u001b[0mgetattr\u001b[0m\u001b[1;33m(\u001b[0m\u001b[0max\u001b[0m\u001b[1;33m,\u001b[0m \u001b[1;34m\"left_ax\"\u001b[0m\u001b[1;33m,\u001b[0m \u001b[0max\u001b[0m\u001b[1;33m)\u001b[0m\u001b[1;33m\u001b[0m\u001b[1;33m\u001b[0m\u001b[0m\n\u001b[0;32m     60\u001b[0m     \u001b[0mplot_obj\u001b[0m \u001b[1;33m=\u001b[0m \u001b[0mPLOT_CLASSES\u001b[0m\u001b[1;33m[\u001b[0m\u001b[0mkind\u001b[0m\u001b[1;33m]\u001b[0m\u001b[1;33m(\u001b[0m\u001b[0mdata\u001b[0m\u001b[1;33m,\u001b[0m \u001b[1;33m**\u001b[0m\u001b[0mkwargs\u001b[0m\u001b[1;33m)\u001b[0m\u001b[1;33m\u001b[0m\u001b[1;33m\u001b[0m\u001b[0m\n\u001b[1;32m---> 61\u001b[1;33m     \u001b[0mplot_obj\u001b[0m\u001b[1;33m.\u001b[0m\u001b[0mgenerate\u001b[0m\u001b[1;33m(\u001b[0m\u001b[1;33m)\u001b[0m\u001b[1;33m\u001b[0m\u001b[1;33m\u001b[0m\u001b[0m\n\u001b[0m\u001b[0;32m     62\u001b[0m     \u001b[0mplot_obj\u001b[0m\u001b[1;33m.\u001b[0m\u001b[0mdraw\u001b[0m\u001b[1;33m(\u001b[0m\u001b[1;33m)\u001b[0m\u001b[1;33m\u001b[0m\u001b[1;33m\u001b[0m\u001b[0m\n\u001b[0;32m     63\u001b[0m     \u001b[1;32mreturn\u001b[0m \u001b[0mplot_obj\u001b[0m\u001b[1;33m.\u001b[0m\u001b[0mresult\u001b[0m\u001b[1;33m\u001b[0m\u001b[1;33m\u001b[0m\u001b[0m\n",
      "\u001b[1;32m~\\anaconda3\\lib\\site-packages\\pandas\\plotting\\_matplotlib\\core.py\u001b[0m in \u001b[0;36mgenerate\u001b[1;34m(self)\u001b[0m\n\u001b[0;32m    259\u001b[0m     \u001b[1;32mdef\u001b[0m \u001b[0mgenerate\u001b[0m\u001b[1;33m(\u001b[0m\u001b[0mself\u001b[0m\u001b[1;33m)\u001b[0m\u001b[1;33m:\u001b[0m\u001b[1;33m\u001b[0m\u001b[1;33m\u001b[0m\u001b[0m\n\u001b[0;32m    260\u001b[0m         \u001b[0mself\u001b[0m\u001b[1;33m.\u001b[0m\u001b[0m_args_adjust\u001b[0m\u001b[1;33m(\u001b[0m\u001b[1;33m)\u001b[0m\u001b[1;33m\u001b[0m\u001b[1;33m\u001b[0m\u001b[0m\n\u001b[1;32m--> 261\u001b[1;33m         \u001b[0mself\u001b[0m\u001b[1;33m.\u001b[0m\u001b[0m_compute_plot_data\u001b[0m\u001b[1;33m(\u001b[0m\u001b[1;33m)\u001b[0m\u001b[1;33m\u001b[0m\u001b[1;33m\u001b[0m\u001b[0m\n\u001b[0m\u001b[0;32m    262\u001b[0m         \u001b[0mself\u001b[0m\u001b[1;33m.\u001b[0m\u001b[0m_setup_subplots\u001b[0m\u001b[1;33m(\u001b[0m\u001b[1;33m)\u001b[0m\u001b[1;33m\u001b[0m\u001b[1;33m\u001b[0m\u001b[0m\n\u001b[0;32m    263\u001b[0m         \u001b[0mself\u001b[0m\u001b[1;33m.\u001b[0m\u001b[0m_make_plot\u001b[0m\u001b[1;33m(\u001b[0m\u001b[1;33m)\u001b[0m\u001b[1;33m\u001b[0m\u001b[1;33m\u001b[0m\u001b[0m\n",
      "\u001b[1;32m~\\anaconda3\\lib\\site-packages\\pandas\\plotting\\_matplotlib\\core.py\u001b[0m in \u001b[0;36m_compute_plot_data\u001b[1;34m(self)\u001b[0m\n\u001b[0;32m    408\u001b[0m         \u001b[1;31m# no non-numeric frames or series allowed\u001b[0m\u001b[1;33m\u001b[0m\u001b[1;33m\u001b[0m\u001b[1;33m\u001b[0m\u001b[0m\n\u001b[0;32m    409\u001b[0m         \u001b[1;32mif\u001b[0m \u001b[0mis_empty\u001b[0m\u001b[1;33m:\u001b[0m\u001b[1;33m\u001b[0m\u001b[1;33m\u001b[0m\u001b[0m\n\u001b[1;32m--> 410\u001b[1;33m             \u001b[1;32mraise\u001b[0m \u001b[0mTypeError\u001b[0m\u001b[1;33m(\u001b[0m\u001b[1;34m\"no numeric data to plot\"\u001b[0m\u001b[1;33m)\u001b[0m\u001b[1;33m\u001b[0m\u001b[1;33m\u001b[0m\u001b[0m\n\u001b[0m\u001b[0;32m    411\u001b[0m \u001b[1;33m\u001b[0m\u001b[0m\n\u001b[0;32m    412\u001b[0m         \u001b[1;31m# GH25587: cast ExtensionArray of pandas (IntegerArray, etc.) to\u001b[0m\u001b[1;33m\u001b[0m\u001b[1;33m\u001b[0m\u001b[1;33m\u001b[0m\u001b[0m\n",
      "\u001b[1;31mTypeError\u001b[0m: no numeric data to plot"
     ]
    }
   ],
   "source": [
    "color_conversion = reviews_cleaned['Color'].value_counts()[:6].index.values\n",
    "reviews_cleaned['Color'].replace(color_conversion, np.array(6)).plot(kind = 'barh')"
   ]
  },
  {
   "cell_type": "code",
   "execution_count": 78,
   "metadata": {},
   "outputs": [
    {
     "data": {
      "text/plain": [
       "0               1340\n",
       "1               1260\n",
       "2               1158\n",
       "3               1037\n",
       "4                920\n",
       "                ... \n",
       "SALAD GREEN        1\n",
       "JUNGLE GREEN       1\n",
       "BEAN RED           1\n",
       "OCEAN BLUE         1\n",
       "BROWN SUGAR        1\n",
       "Name: Color, Length: 111, dtype: int64"
      ]
     },
     "execution_count": 78,
     "metadata": {},
     "output_type": "execute_result"
    }
   ],
   "source": [
    "reviews_cleaned['Color'].replace(color_conversion, np.arange(6),inplace=True)\n",
    "color_conversion = reviews_cleaned['Color'].value_counts()[:6].index.values\n",
    "reviews_cleaned['Color'].replace(color_conversion, np.array(6)).plot(kind = 'barh')\n",
    "reviews_cleaned['Color'].value_counts()"
   ]
  },
  {
   "cell_type": "code",
   "execution_count": 80,
   "metadata": {},
   "outputs": [],
   "source": [
    "reviews_cleaned.loc[~reviews_cleaned['Color'].isin(color_conversion), \"Color\"] = 6"
   ]
  },
  {
   "cell_type": "code",
   "execution_count": 81,
   "metadata": {},
   "outputs": [
    {
     "data": {
      "text/plain": [
       "6    15452\n",
       "Name: Color, dtype: int64"
      ]
     },
     "execution_count": 81,
     "metadata": {},
     "output_type": "execute_result"
    }
   ],
   "source": [
    "reviews_cleaned.loc[~reviews_cleaned['Color'].isin(color_conversion), \"Color\"] = 6\n",
    "reviews_cleaned['Color'].value_counts()"
   ]
  },
  {
   "cell_type": "code",
   "execution_count": null,
   "metadata": {},
   "outputs": [],
   "source": [
    "We will create unique integer labels for the top 6 colors and label the rest of the colors the same."
   ]
  },
  {
   "cell_type": "code",
   "execution_count": null,
   "metadata": {},
   "outputs": [],
   "source": [
    "from sklearn.preprocessing import StandardScaler\n",
    "\n",
    "reviews_standardized = reviews_cleaned[['Individual Rating','Number of Pictures','Time (numerical)','Date (ordinal)']]\n",
    "scaler = StandardScaler()\n",
    "scaler.fit_transform(reviews_standardized)\n",
    "reviews_standardized = pd.DataFrame(scaler.fit_transform(reviews_standardized), columns=reviews_standardized.columns, index=reviews_standardized.index)"
   ]
  },
  {
   "cell_type": "code",
   "execution_count": null,
   "metadata": {},
   "outputs": [],
   "source": [
    "rev"
   ]
  }
 ],
 "metadata": {
  "kernelspec": {
   "display_name": "Python 3",
   "language": "python",
   "name": "python3"
  },
  "language_info": {
   "codemirror_mode": {
    "name": "ipython",
    "version": 3
   },
   "file_extension": ".py",
   "mimetype": "text/x-python",
   "name": "python",
   "nbconvert_exporter": "python",
   "pygments_lexer": "ipython3",
   "version": "3.8.3"
  }
 },
 "nbformat": 4,
 "nbformat_minor": 4
}
