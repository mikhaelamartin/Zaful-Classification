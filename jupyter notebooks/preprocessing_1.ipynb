{
 "cells": [
  {
   "cell_type": "code",
   "execution_count": 18,
   "metadata": {},
   "outputs": [],
   "source": [
    "import numpy as np\n",
    "import pandas as pd\n",
    "import matplotlib\n",
    "import csv\n",
    "import datetime as dt\n",
    "import re\n",
    "\n",
    "import seaborn as sns\n",
    "import matplotlib.pyplot as plt\n",
    "from scipy import stats\n",
    "\n",
    "from sklearn.model_selection import train_test_split\n",
    "import random\n",
    "\n",
    "from collections import Counter\n",
    "\n",
    "from sklearn.linear_model import LogisticRegression\n",
    "from sklearn import preprocessing\n",
    "\n",
    "import matplotlib.pyplot as plt\n",
    "import seaborn as sns\n",
    "from sklearn import metrics\n",
    "\n",
    "from sklearn import tree\n",
    "from sklearn.cluster import KMeans\n",
    "from sklearn.preprocessing import StandardScaler\n",
    "from sklearn.preprocessing import MinMaxScaler\n",
    "\n",
    "import pandas as pd\n",
    "from sklearn.tree import DecisionTreeClassifier # Import Decision Tree Classifier\n",
    "from sklearn.model_selection import train_test_split # Import train_test_split function\n",
    "from sklearn import metrics #Import scikit-learn metrics module for accuracy calculation\n",
    "\n",
    "from sklearn.cluster import KMeans\n",
    "import itertools\n",
    "\n",
    "from collections import Iterable\n",
    "\n",
    "import nltk\n",
    "from nltk.corpus import stopwords\n",
    "\n",
    "from sklearn.feature_extraction.text import CountVectorizer\n",
    "from sklearn.feature_extraction.text import TfidfVectorizer\n",
    "\n",
    "import pandas as pd\n",
    "import string\n",
    "import seaborn as sns\n",
    "from wordcloud import WordCloud\n",
    "\n",
    "from nltk.collocations import *\n",
    "from wordcloud import WordCloud\n",
    "from sklearn.linear_model import LinearRegression, Lasso, Ridge\n",
    "from sklearn.metrics import mean_squared_error, mean_absolute_error\n",
    "from sklearn.model_selection import cross_val_score\n",
    "\n",
    "import random\n",
    "\n",
    "import statsmodels.api as sm\n",
    "\n",
    "from sklearn.metrics import classification_report\n",
    "from sklearn.metrics import recall_score, f1_score,precision_recall_curve,precision_score, accuracy_score\n",
    "\n",
    "from numpy import mean\n",
    "from numpy import std\n",
    "from sklearn.datasets import make_classification\n",
    "from sklearn.model_selection import KFold\n",
    "from sklearn.model_selection import cross_val_score\n",
    "from sklearn.linear_model import LogisticRegression\n",
    "\n",
    "from sklearn.metrics import silhouette_score\n",
    "#Import scikit-learn metrics module for accuracy calculation\n",
    "from sklearn import metrics\n",
    "#Import svm model\n",
    "from sklearn import svm\n",
    "from sklearn.model_selection import GridSearchCV \n",
    "from sklearn.neighbors import KNeighborsClassifier\n",
    "\n",
    "# numerical_reviews = ['Individual Rating', 'Number of Pictures', 'Height', 'Waist', 'Hips', 'Date (ordinal)', 'Time (numerical)']\n",
    "cmap = sns.diverging_palette(220, 10, as_cmap=True)\n",
    "\n",
    "from sklearn.model_selection import GridSearchCV\n"
   ]
  },
  {
   "cell_type": "code",
   "execution_count": 8,
   "metadata": {},
   "outputs": [],
   "source": [
    "# Setup\n",
    "item_csv = r\"../data/zaful_floral_dresses_latest.csv\"\n",
    "items = pd.read_csv(item_csv)\n",
    "\n",
    "reviews_csv = r\"../data/zaful_reviews_latest.csv\"\n",
    "reviews = pd.read_csv(reviews_csv)\n",
    "\n",
    "# add sku column to reviews\n",
    "reviews = pd.merge(reviews, items[['SKU','Rank']], how='inner', on=['SKU'])"
   ]
  },
  {
   "cell_type": "code",
   "execution_count": 12,
   "metadata": {},
   "outputs": [
    {
     "data": {
      "text/plain": [
       "SKU                    int64\n",
       "Individual Rating      int64\n",
       "Number of Pictures     int64\n",
       "Comment               object\n",
       "Date Stamp            object\n",
       "Color/Size            object\n",
       "Overall Fit           object\n",
       "Height                object\n",
       "Waist                 object\n",
       "Hips                  object\n",
       "Bust                  object\n",
       "Rank                   int64\n",
       "dtype: object"
      ]
     },
     "execution_count": 12,
     "metadata": {},
     "output_type": "execute_result"
    }
   ],
   "source": [
    "reviews.dtypes"
   ]
  },
  {
   "cell_type": "code",
   "execution_count": 11,
   "metadata": {},
   "outputs": [
    {
     "data": {
      "text/html": [
       "<div>\n",
       "<style scoped>\n",
       "    .dataframe tbody tr th:only-of-type {\n",
       "        vertical-align: middle;\n",
       "    }\n",
       "\n",
       "    .dataframe tbody tr th {\n",
       "        vertical-align: top;\n",
       "    }\n",
       "\n",
       "    .dataframe thead th {\n",
       "        text-align: right;\n",
       "    }\n",
       "</style>\n",
       "<table border=\"1\" class=\"dataframe\">\n",
       "  <thead>\n",
       "    <tr style=\"text-align: right;\">\n",
       "      <th></th>\n",
       "      <th>SKU</th>\n",
       "      <th>Individual Rating</th>\n",
       "      <th>Number of Pictures</th>\n",
       "      <th>Comment</th>\n",
       "      <th>Date Stamp</th>\n",
       "      <th>Color/Size</th>\n",
       "      <th>Overall Fit</th>\n",
       "      <th>Height</th>\n",
       "      <th>Waist</th>\n",
       "      <th>Hips</th>\n",
       "      <th>Bust</th>\n",
       "      <th>Rank</th>\n",
       "    </tr>\n",
       "  </thead>\n",
       "  <tbody>\n",
       "    <tr>\n",
       "      <th>0</th>\n",
       "      <td>461000702</td>\n",
       "      <td>5</td>\n",
       "      <td>5</td>\n",
       "      <td>It is thin but I’ve bought for holiday so I’m ...</td>\n",
       "      <td>Aug. 17 2020 at 02:21:14 AM</td>\n",
       "      <td>Color:RED/Size:M</td>\n",
       "      <td>[&lt;span&gt;Overall Fit: True to Size&lt;/span&gt;</td>\n",
       "      <td>&lt;span&gt;Height: 170CM \\ 5' 7\"&lt;/span&gt;</td>\n",
       "      <td>&lt;span&gt;Waist: 73CM \\ 28.7\"&lt;/span&gt;</td>\n",
       "      <td>&lt;span&gt;Hips: 87CM \\ 34.3\"&lt;/span&gt;</td>\n",
       "      <td>&lt;span&gt;Bust Size: 32C&lt;/span&gt;]</td>\n",
       "      <td>1</td>\n",
       "    </tr>\n",
       "    <tr>\n",
       "      <th>1</th>\n",
       "      <td>461000702</td>\n",
       "      <td>5</td>\n",
       "      <td>4</td>\n",
       "      <td>Absolutely in love with this dress true to siz...</td>\n",
       "      <td>Sep. 13 2020 at 13:30:25 PM</td>\n",
       "      <td>Color:WHITE/Size:S</td>\n",
       "      <td>[&lt;span&gt;Overall Fit: True to Size&lt;/span&gt;</td>\n",
       "      <td>&lt;span&gt;Height: 168CM \\ 5' 6\"&lt;/span&gt;</td>\n",
       "      <td>&lt;span&gt;Waist: 62CM \\ 24.4\"&lt;/span&gt;</td>\n",
       "      <td>&lt;span&gt;Hips: 87CM \\ 34.3\"&lt;/span&gt;</td>\n",
       "      <td>&lt;span&gt;Bust Size: 32D&lt;/span&gt;]</td>\n",
       "      <td>1</td>\n",
       "    </tr>\n",
       "    <tr>\n",
       "      <th>2</th>\n",
       "      <td>461000702</td>\n",
       "      <td>5</td>\n",
       "      <td>4</td>\n",
       "      <td>Tamaño correcto y se quedan bien Cómodo y de m...</td>\n",
       "      <td>Sep. 17 2020 at 11:21:28 AM</td>\n",
       "      <td>Color:RED/Size:M</td>\n",
       "      <td>[&lt;span&gt;Overall Fit: True to Size&lt;/span&gt;</td>\n",
       "      <td>&lt;span&gt;Height: 140CM \\ 4' 7\"&lt;/span&gt;</td>\n",
       "      <td>&lt;span&gt;Waist: 66CM \\ 26\"&lt;/span&gt;</td>\n",
       "      <td>&lt;span&gt;Hips: 95CM \\ 37.4\"&lt;/span&gt;</td>\n",
       "      <td>&lt;span&gt;Bust Size: 32C&lt;/span&gt;]</td>\n",
       "      <td>1</td>\n",
       "    </tr>\n",
       "    <tr>\n",
       "      <th>3</th>\n",
       "      <td>461000702</td>\n",
       "      <td>5</td>\n",
       "      <td>4</td>\n",
       "      <td>True to size and fits well Comfortable and of ...</td>\n",
       "      <td>Aug. 19 2020 at 09:20:53 AM</td>\n",
       "      <td>Color:BLACK/Size:S</td>\n",
       "      <td>[&lt;span&gt;Overall Fit: True to Size&lt;/span&gt;</td>\n",
       "      <td>&lt;span&gt;Height: 163CM \\ 5' 4\"&lt;/span&gt;</td>\n",
       "      <td>&lt;span&gt;Waist: 62CM \\ 24.4\"&lt;/span&gt;</td>\n",
       "      <td>&lt;span&gt;Hips: 75CM \\ 29.5\"&lt;/span&gt;</td>\n",
       "      <td>&lt;span&gt;Bust Size: 32AA&lt;/span&gt;]</td>\n",
       "      <td>1</td>\n",
       "    </tr>\n",
       "    <tr>\n",
       "      <th>4</th>\n",
       "      <td>461000702</td>\n",
       "      <td>5</td>\n",
       "      <td>3</td>\n",
       "      <td>True to size and comfortable. I thought when I...</td>\n",
       "      <td>Jun. 16 2020 at 19:19:40 PM</td>\n",
       "      <td>Color:RED/Size:S</td>\n",
       "      <td>[&lt;span&gt;Overall Fit: True to Size&lt;/span&gt;</td>\n",
       "      <td>&lt;span&gt;Height: 170CM \\ 5' 7\"&lt;/span&gt;</td>\n",
       "      <td>&lt;span&gt;Bust Size: 32AA&lt;/span&gt;]</td>\n",
       "      <td>NaN</td>\n",
       "      <td>NaN</td>\n",
       "      <td>1</td>\n",
       "    </tr>\n",
       "  </tbody>\n",
       "</table>\n",
       "</div>"
      ],
      "text/plain": [
       "         SKU  Individual Rating  Number of Pictures  \\\n",
       "0  461000702                  5                   5   \n",
       "1  461000702                  5                   4   \n",
       "2  461000702                  5                   4   \n",
       "3  461000702                  5                   4   \n",
       "4  461000702                  5                   3   \n",
       "\n",
       "                                             Comment  \\\n",
       "0  It is thin but I’ve bought for holiday so I’m ...   \n",
       "1  Absolutely in love with this dress true to siz...   \n",
       "2  Tamaño correcto y se quedan bien Cómodo y de m...   \n",
       "3  True to size and fits well Comfortable and of ...   \n",
       "4  True to size and comfortable. I thought when I...   \n",
       "\n",
       "                    Date Stamp          Color/Size  \\\n",
       "0  Aug. 17 2020 at 02:21:14 AM    Color:RED/Size:M   \n",
       "1  Sep. 13 2020 at 13:30:25 PM  Color:WHITE/Size:S   \n",
       "2  Sep. 17 2020 at 11:21:28 AM    Color:RED/Size:M   \n",
       "3  Aug. 19 2020 at 09:20:53 AM  Color:BLACK/Size:S   \n",
       "4  Jun. 16 2020 at 19:19:40 PM    Color:RED/Size:S   \n",
       "\n",
       "                               Overall Fit  \\\n",
       "0  [<span>Overall Fit: True to Size</span>   \n",
       "1  [<span>Overall Fit: True to Size</span>   \n",
       "2  [<span>Overall Fit: True to Size</span>   \n",
       "3  [<span>Overall Fit: True to Size</span>   \n",
       "4  [<span>Overall Fit: True to Size</span>   \n",
       "\n",
       "                                Height                              Waist  \\\n",
       "0   <span>Height: 170CM \\ 5' 7\"</span>   <span>Waist: 73CM \\ 28.7\"</span>   \n",
       "1   <span>Height: 168CM \\ 5' 6\"</span>   <span>Waist: 62CM \\ 24.4\"</span>   \n",
       "2   <span>Height: 140CM \\ 4' 7\"</span>     <span>Waist: 66CM \\ 26\"</span>   \n",
       "3   <span>Height: 163CM \\ 5' 4\"</span>   <span>Waist: 62CM \\ 24.4\"</span>   \n",
       "4   <span>Height: 170CM \\ 5' 7\"</span>      <span>Bust Size: 32AA</span>]   \n",
       "\n",
       "                               Hips                            Bust  Rank  \n",
       "0   <span>Hips: 87CM \\ 34.3\"</span>    <span>Bust Size: 32C</span>]     1  \n",
       "1   <span>Hips: 87CM \\ 34.3\"</span>    <span>Bust Size: 32D</span>]     1  \n",
       "2   <span>Hips: 95CM \\ 37.4\"</span>    <span>Bust Size: 32C</span>]     1  \n",
       "3   <span>Hips: 75CM \\ 29.5\"</span>   <span>Bust Size: 32AA</span>]     1  \n",
       "4                               NaN                             NaN     1  "
      ]
     },
     "execution_count": 11,
     "metadata": {},
     "output_type": "execute_result"
    }
   ],
   "source": [
    "reviews.head()"
   ]
  },
  {
   "cell_type": "markdown",
   "metadata": {},
   "source": [
    "# Preparing the Data"
   ]
  },
  {
   "cell_type": "code",
   "execution_count": 3,
   "metadata": {},
   "outputs": [
    {
     "name": "stdout",
     "output_type": "stream",
     "text": [
      "Total Reviews:  15726\n",
      "Number of Items:  519\n",
      "Items without Reviews:  65\n"
     ]
    }
   ],
   "source": [
    "# how many products have reviews?\n",
    "print(\"Total Reviews: \", len(reviews))\n",
    "print(\"Number of Items: \", items['SKU'].nunique())\n",
    "print(\"Items without Reviews: \", len(items[items['Number of Reviews'].isnull()]))"
   ]
  },
  {
   "cell_type": "code",
   "execution_count": 5,
   "metadata": {},
   "outputs": [
    {
     "data": {
      "text/plain": [
       "SKU                    int64\n",
       "Individual Rating      int64\n",
       "Number of Pictures     int64\n",
       "Comment               object\n",
       "Date Stamp            object\n",
       "Color/Size            object\n",
       "Overall Fit           object\n",
       "Height                object\n",
       "Waist                 object\n",
       "Hips                  object\n",
       "Bust                  object\n",
       "Rank                   int64\n",
       "dtype: object"
      ]
     },
     "execution_count": 5,
     "metadata": {},
     "output_type": "execute_result"
    }
   ],
   "source": [
    "reviews.dtypes"
   ]
  },
  {
   "cell_type": "code",
   "execution_count": 6,
   "metadata": {},
   "outputs": [
    {
     "data": {
      "text/plain": [
       "<matplotlib.axes._subplots.AxesSubplot at 0x594ac88>"
      ]
     },
     "execution_count": 6,
     "metadata": {},
     "output_type": "execute_result"
    },
    {
     "data": {
      "image/png": "[encoded data removed]",
      "text/plain": [
       "<Figure size 432x288 with 2 Axes>"
      ]
     },
     "metadata": {
      "needs_background": "light"
     },
     "output_type": "display_data"
    }
   ],
   "source": [
    "sns.heatmap(reviews.isnull())"
   ]
  },
  {
   "cell_type": "code",
   "execution_count": 7,
   "metadata": {},
   "outputs": [
    {
     "ename": "SyntaxError",
     "evalue": "invalid syntax (<ipython-input-7-052d1d8ba30f>, line 3)",
     "output_type": "error",
     "traceback": [
      "\u001b[1;36m  File \u001b[1;32m\"<ipython-input-7-052d1d8ba30f>\"\u001b[1;36m, line \u001b[1;32m3\u001b[0m\n\u001b[1;33m    Drop Hips and Bust.\u001b[0m\n\u001b[1;37m         ^\u001b[0m\n\u001b[1;31mSyntaxError\u001b[0m\u001b[1;31m:\u001b[0m invalid syntax\n"
     ]
    }
   ],
   "source": [
    "## Observations\n",
    "\n",
    "Drop Hips and Bust."
   ]
  },
  {
   "cell_type": "markdown",
   "metadata": {},
   "source": [
    "# Reviews "
   ]
  },
  {
   "cell_type": "markdown",
   "metadata": {},
   "source": [
    "### Fix `Height`, `Waist`, `Hips`, `Bust`', and `Overall Fit` values and strip unnecessary text"
   ]
  },
  {
   "cell_type": "code",
   "execution_count": 250,
   "metadata": {},
   "outputs": [],
   "source": [
    "reviews_cleaned = reviews.copy()\n",
    "\n",
    "def clean_reviews_whhof(df):\n",
    "    # Fill empty values with np.NaN\n",
    "    df = df.replace('[]', ' ')\n",
    "    # Rename rows - measured in cm (height, waist, hips)\n",
    "    df = df.rename(columns = {'Unnamed: 7': 'Height', 'Unnamed: 8': 'Waist', 'Unnamed: 9': 'Hips', 'Unnamed: 10': 'Bust'}, inplace = False)\n",
    "\n",
    "    # replace nan with NaN\n",
    "    df = df.replace('nan',np.NaN)\n",
    "\n",
    "    # Reorganize hips, waist, overall fit, height, bust columns\n",
    "    for record in range(0,len(df)):\n",
    "        # Bust is in height, rest are missing\n",
    "        if df.iloc[record,6:11].isnull().sum() == 3 and not df['Height'].str.contains(\"Height\").fillna(False)[record] :\n",
    "            df.iloc[record, 7] = df.iloc[record, 6] \n",
    "            df.iloc[record, 6] = np.NaN \n",
    "        # Bust is in waist\n",
    "        if df.iloc[record,6:11].isnull().sum() == 2 and df['Waist'].str.contains(\"Height\").fillna(False)[record]:\n",
    "            bust = df.iloc[record, 8] \n",
    "            df.iloc[record, 10] = bust\n",
    "            df.iloc[record, 8] = np.NaN\n",
    "        if df.iloc[record,6:11].isnull().sum() == 1:\n",
    "            # Overall Fit missing\n",
    "            if not df['Overall Fit'].str.contains(\"Overall Fit\").fillna(False)[record]:\n",
    "                df.iloc[record, 10] = df.iloc[record, 9] \n",
    "                df.iloc[record, 9] = df.iloc[record, 8]\n",
    "                df.iloc[record, 8] = df.iloc[record, 7]\n",
    "                df.iloc[record, 7] = df.iloc[record, 6]\n",
    "                df.iloc[record, 6] = np.NaN\n",
    "            # Height missing\n",
    "            elif not df['Height'].str.contains(\"Height\").fillna(False)[record]:\n",
    "                df.iloc[record, 10] = df.iloc[record, 9] \n",
    "                df.iloc[record, 9] = df.iloc[record, 8]\n",
    "                df.iloc[record, 8] = df.iloc[record, 7]\n",
    "                df.iloc[record, 7] = np.NaN\n",
    "            # Waist missing\n",
    "            elif not df['Waist'].str.contains(\"Waist\").fillna(False)[record]:\n",
    "                df.iloc[record, 10] = df.iloc[record, 9] \n",
    "                df.iloc[record, 9] = df.iloc[record, 8]\n",
    "                df.iloc[record, 8] = np.NaN \n",
    "            # Bust missing\n",
    "            elif not df['Bust'].str.contains(\"Bust\").fillna(False)[record]:\n",
    "                df.iloc[record, 9] = df.iloc[record, 10] \n",
    "                df.iloc[record, 10] = np.NaN \n",
    "            # Hips missing\n",
    "            else:\n",
    "                bust = df.iloc[record, 9] \n",
    "                df.iloc[record, 10] = bust\n",
    "                df.iloc[record, 9] = np.NaN\n",
    "\n",
    "    # Extract only the numbers in centimeters\n",
    "    df['Height'] = df['Height'].str.extract(r'(?<!\\d)(\\d{3})(?!\\d)', expand=False)   \n",
    "    df['Waist'] = df['Waist'].str.extract(r'(?<!\\d)(\\d{2})(?!\\d)', expand=False)  \n",
    "    df['Hips'] = df['Hips'].str.extract(r'(?<!\\d)(\\d{2})(?!\\d)', expand=False)  \n",
    "    df['Bust'] = df['Bust'].str.extract(r'(\\d{2}[a-zA-Z]+)', expand=False)\n",
    "    \n",
    "    # Convert bust sizes to cm\n",
    "    bust_conversion = {\"34C\": 92.5,\n",
    "    \"32C\": 87.5,\n",
    "    \"34D\": 95.5,\n",
    "    \"32D\": 90,\n",
    "    \"34B\": 90,\n",
    "    \"32B\": 85,\n",
    "    \"36C\": 98,\n",
    "    \"32AA\": 76,\n",
    "    \"36AA\": 86,\n",
    "    \"32A\": 82.5,\n",
    "    \"34AA\": 81,\n",
    "    \"36D\": 101,\n",
    "    \"38AA\": 81.5,\n",
    "    \"34A\": 87.5,\n",
    "    \"36B\": 95.5,\n",
    "    \"38C\": 103,\n",
    "    \"36A\": 92.5,\n",
    "    \"38B\": 100.5,\n",
    "    \"38A\": 98,\n",
    "    \"38D\": 105.5}\n",
    "    df['Bust'] = df['Bust'].replace(bust_conversion)\n",
    "\n",
    "    # Replace Overall Fit \n",
    "    # 0 - True to Size\n",
    "    # 1 - Large\n",
    "    # -1 - Small\n",
    "    df['Overall Fit'] = df['Overall Fit'].str.extract(r':(.*)<', expand=False).str.strip().replace({'True to Size', 'Small', 'Large'}, {0, -1, 1})\n",
    "    df.at[13,'Overall Fit'] = np.nan\n",
    "    df.at[13,'Height'] = 155\n",
    "    \n",
    "    return df"
   ]
  },
  {
   "cell_type": "code",
   "execution_count": 248,
   "metadata": {},
   "outputs": [],
   "source": [
    "# Separate color and size bought by customer into two columns\n",
    "\n",
    "def reviews_clean_color_size(df):\n",
    "    df['Color'] = df['Color/Size'].str.extract(r':(.*)/', expand=False)\n",
    "    df['Size'] = df['Color/Size'].str.extract(r'Size:(.*)', expand=False)\n",
    "    return df"
   ]
  },
  {
   "cell_type": "markdown",
   "metadata": {},
   "source": [
    "### Add and delete columns: Split `Date Stamp` column into `Date`, `Time`, `Time (numerical)`, and `Date (ordinal)`; add `Total Colors` and `Comment Length` column"
   ]
  },
  {
   "cell_type": "code",
   "execution_count": 211,
   "metadata": {},
   "outputs": [],
   "source": [
    "def reviews_clean_date_time_color_size_comment(df):\n",
    "\n",
    "    # Separate time and date for linear regression purposes\n",
    "    df['Date (ordinal)'] = pd.to_datetime(reviews_cleaned['Date Stamp'].str.extract(r'(.*) at', expand=False)).map(dt.datetime.toordinal)\n",
    "    df['Date'] = pd.to_datetime(reviews_cleaned['Date Stamp'].str.extract(r'(.*) at', expand=False))\n",
    "    df['Time'] = df['Date Stamp'].str.extract(r'at (.*) [a-zA-Z]+', expand=False)\n",
    "\n",
    "    result = []\n",
    "    for i in reviews_cleaned['Time']: \n",
    "        (h, m, s) = i.split(':')\n",
    "        result.append(int(h) * 3600 + int(m) * 60 + int(s))\n",
    "\n",
    "    df['Time (numerical)']  = result\n",
    "\n",
    "    # Delete columns that are no longer needed\n",
    "    df = df.drop(columns=['Color/Size', 'Date Stamp'])\n",
    "\n",
    "    # Number of total colors (including main)\n",
    "    # reviews_cleaned['Total Colors'] = reviews_color_encode.apply(lambda x: len(x))\n",
    "\n",
    "    # Comment Length\n",
    "    df['Comment'] = df.Comment.astype(str)\n",
    "    df['Comment Length'] = df['Comment'].apply(lambda x: len(x))\n",
    "\n",
    "    # change str type to int \n",
    "    df[[\"Height\", \"Waist\",'Hips', 'Bust','Overall Fit']] = df[[\"Height\", \"Waist\",'Hips', 'Bust','Overall Fit']].apply(pd.to_numeric)\n",
    "    \n",
    "    # drop duplicates\n",
    "    df = df.drop_duplicates()\n",
    "    df = df.reset_index()\n",
    "    \n",
    "    return df"
   ]
  },
  {
   "cell_type": "markdown",
   "metadata": {},
   "source": [
    "## Apply Changes"
   ]
  },
  {
   "cell_type": "code",
   "execution_count": 251,
   "metadata": {},
   "outputs": [
    {
     "data": {
      "text/html": [
       "<div>\n",
       "<style scoped>\n",
       "    .dataframe tbody tr th:only-of-type {\n",
       "        vertical-align: middle;\n",
       "    }\n",
       "\n",
       "    .dataframe tbody tr th {\n",
       "        vertical-align: top;\n",
       "    }\n",
       "\n",
       "    .dataframe thead th {\n",
       "        text-align: right;\n",
       "    }\n",
       "</style>\n",
       "<table border=\"1\" class=\"dataframe\">\n",
       "  <thead>\n",
       "    <tr style=\"text-align: right;\">\n",
       "      <th></th>\n",
       "      <th>SKU</th>\n",
       "      <th>Individual Rating</th>\n",
       "      <th>Number of Pictures</th>\n",
       "      <th>Comment</th>\n",
       "      <th>Overall Fit</th>\n",
       "      <th>Height</th>\n",
       "      <th>Waist</th>\n",
       "      <th>Hips</th>\n",
       "      <th>Bust</th>\n",
       "      <th>Rank</th>\n",
       "      <th>Color</th>\n",
       "      <th>Size</th>\n",
       "      <th>Date (ordinal)</th>\n",
       "      <th>Date</th>\n",
       "      <th>Time</th>\n",
       "      <th>Time (numerical)</th>\n",
       "      <th>Comment Length</th>\n",
       "    </tr>\n",
       "  </thead>\n",
       "  <tbody>\n",
       "    <tr>\n",
       "      <th>0</th>\n",
       "      <td>461000702</td>\n",
       "      <td>5</td>\n",
       "      <td>5</td>\n",
       "      <td>It is thin but I’ve bought for holiday so I’m ...</td>\n",
       "      <td>-1.0</td>\n",
       "      <td>170.0</td>\n",
       "      <td>73.0</td>\n",
       "      <td>87.0</td>\n",
       "      <td>87.5</td>\n",
       "      <td>1</td>\n",
       "      <td>RED</td>\n",
       "      <td>M</td>\n",
       "      <td>737654</td>\n",
       "      <td>2020-08-17</td>\n",
       "      <td>02:21:14</td>\n",
       "      <td>8474</td>\n",
       "      <td>138</td>\n",
       "    </tr>\n",
       "  </tbody>\n",
       "</table>\n",
       "</div>"
      ],
      "text/plain": [
       "         SKU  Individual Rating  Number of Pictures  \\\n",
       "0  461000702                  5                   5   \n",
       "\n",
       "                                             Comment  Overall Fit  Height  \\\n",
       "0  It is thin but I’ve bought for holiday so I’m ...         -1.0   170.0   \n",
       "\n",
       "   Waist  Hips  Bust  Rank Color Size  Date (ordinal)       Date      Time  \\\n",
       "0   73.0  87.0  87.5     1   RED    M          737654 2020-08-17  02:21:14   \n",
       "\n",
       "   Time (numerical)  Comment Length  \n",
       "0              8474             138  "
      ]
     },
     "execution_count": 251,
     "metadata": {},
     "output_type": "execute_result"
    }
   ],
   "source": [
    "reviews_cleaned = clean_reviews_whhof(reviews_cleaned)\n",
    "reviews_cleaned = reviews_clean_color_size(reviews_cleaned)\n",
    "reviews_cleaned = reviews_clean_date_time_color_size_comment(reviews_cleaned)\n",
    "reviews_cleaned = reviews_cleaned.drop('index', axis=1)\n",
    "reviews_cleaned.head(1)"
   ]
  },
  {
   "cell_type": "code",
   "execution_count": 13,
   "metadata": {},
   "outputs": [],
   "source": [
    "#reviews_cleaned.to_csv(r'reviews_cleaned_1.csv',index=False)\n",
    "\n",
    "reviews_cleaned = pd.read_csv(r'../data/reviews_cleaned_1.csv')"
   ]
  },
  {
   "cell_type": "code",
   "execution_count": 14,
   "metadata": {},
   "outputs": [
    {
     "data": {
      "text/plain": [
       "SKU                     int64\n",
       "Individual Rating       int64\n",
       "Number of Pictures      int64\n",
       "Comment                object\n",
       "Overall Fit           float64\n",
       "Height                float64\n",
       "Waist                 float64\n",
       "Hips                  float64\n",
       "Bust                  float64\n",
       "Rank                    int64\n",
       "Color                  object\n",
       "Size                   object\n",
       "Date (ordinal)          int64\n",
       "Date                   object\n",
       "Time                   object\n",
       "Time (numerical)        int64\n",
       "Comment Length          int64\n",
       "dtype: object"
      ]
     },
     "execution_count": 14,
     "metadata": {},
     "output_type": "execute_result"
    }
   ],
   "source": [
    "reviews_cleaned.dtypes"
   ]
  },
  {
   "cell_type": "code",
   "execution_count": 16,
   "metadata": {},
   "outputs": [
    {
     "data": {
      "text/plain": [
       "Timestamp('2020-09-18 00:00:00')"
      ]
     },
     "execution_count": 16,
     "metadata": {},
     "output_type": "execute_result"
    }
   ],
   "source": [
    "\n",
    "pd.to_datetime(reviews_cleaned['Date']).max()"
   ]
  },
  {
   "cell_type": "code",
   "execution_count": 13,
   "metadata": {},
   "outputs": [],
   "source": [
    "reviews_cleaned.drop(['Hips','Bust','SKU','Time','Date'],axis=1,inplace=True)"
   ]
  },
  {
   "cell_type": "code",
   "execution_count": 14,
   "metadata": {},
   "outputs": [
    {
     "data": {
      "text/plain": [
       "<matplotlib.axes._subplots.AxesSubplot at 0xfadd18>"
      ]
     },
     "execution_count": 14,
     "metadata": {},
     "output_type": "execute_result"
    },
    {
     "data": {
      "image/png": "[encoded data removed]",
      "text/plain": [
       "<Figure size 432x288 with 2 Axes>"
      ]
     },
     "metadata": {
      "needs_background": "light"
     },
     "output_type": "display_data"
    }
   ],
   "source": [
    "sns.heatmap(reviews_cleaned.corr(method='spearman'))"
   ]
  },
  {
   "cell_type": "code",
   "execution_count": 15,
   "metadata": {},
   "outputs": [
    {
     "name": "stderr",
     "output_type": "stream",
     "text": [
      "C:\\Users\\m2mar\\anaconda3\\lib\\site-packages\\seaborn\\distributions.py:369: UserWarning: Default bandwidth for data is 0; skipping density estimation.\n",
      "  warnings.warn(msg, UserWarning)\n"
     ]
    },
    {
     "data": {
      "text/plain": [
       "<matplotlib.axes._subplots.AxesSubplot at 0x12d3280>"
      ]
     },
     "execution_count": 15,
     "metadata": {},
     "output_type": "execute_result"
    },
    {
     "data": {
      "image/png": "[encoded data removed]",
      "text/plain": [
       "<Figure size 864x864 with 4 Axes>"
      ]
     },
     "metadata": {
      "needs_background": "light"
     },
     "output_type": "display_data"
    }
   ],
   "source": [
    "import seaborn as sns\n",
    "missing_cols = ['Height','Waist','Overall Fit']\n",
    "\n",
    "fig, ax = plt.subplots(4,1,figsize=(12,12))\n",
    "ax = ax.ravel()\n",
    "count=0\n",
    "for cat in missing_cols:\n",
    "    ar = sns.distplot(reviews_cleaned[cat],ax=ax[count])\n",
    "    count+=1 \n",
    "sns.countplot(reviews_cleaned['Size'],ax=ax[count])"
   ]
  },
  {
   "cell_type": "code",
   "execution_count": 257,
   "metadata": {},
   "outputs": [
    {
     "data": {
      "text/plain": [
       "<matplotlib.axes._subplots.AxesSubplot at 0x35102a00>"
      ]
     },
     "execution_count": 257,
     "metadata": {},
     "output_type": "execute_result"
    },
    {
     "data": {
      "image/png": "[encoded data removed]",
      "text/plain": [
       "<Figure size 432x288 with 1 Axes>"
      ]
     },
     "metadata": {
      "needs_background": "light"
     },
     "output_type": "display_data"
    }
   ],
   "source": [
    "reviews_cleaned['Color'].value_counts(normalize=True).sort_values().plot(kind = 'barh')"
   ]
  },
  {
   "cell_type": "code",
   "execution_count": 86,
   "metadata": {},
   "outputs": [
    {
     "data": {
      "text/plain": [
       "<matplotlib.axes._subplots.AxesSubplot at 0x16b1bec8>"
      ]
     },
     "execution_count": 86,
     "metadata": {},
     "output_type": "execute_result"
    },
    {
     "data": {
      "image/png": "[encoded data removed]",
      "text/plain": [
       "<Figure size 432x288 with 1 Axes>"
      ]
     },
     "metadata": {
      "needs_background": "light"
     },
     "output_type": "display_data"
    }
   ],
   "source": [
    "reviews_cleaned['Color'].value_counts(normalize=True)[:10].sort_values().plot(kind = 'barh')"
   ]
  },
  {
   "cell_type": "code",
   "execution_count": 218,
   "metadata": {},
   "outputs": [
    {
     "data": {
      "text/plain": [
       "<matplotlib.axes._subplots.AxesSubplot at 0x31df3b50>"
      ]
     },
     "execution_count": 218,
     "metadata": {},
     "output_type": "execute_result"
    },
    {
     "data": {
      "image/png": "[encoded data removed]",
      "text/plain": [
       "<Figure size 432x288 with 2 Axes>"
      ]
     },
     "metadata": {
      "needs_background": "light"
     },
     "output_type": "display_data"
    }
   ],
   "source": [
    "sns.heatmap(reviews_cleaned.isna())"
   ]
  },
  {
   "cell_type": "code",
   "execution_count": 16,
   "metadata": {},
   "outputs": [
    {
     "name": "stdout",
     "output_type": "stream",
     "text": [
      "Number of Pictures\n",
      "0  missing values\n",
      "\n",
      "Comment\n",
      "1  missing values\n",
      "\n",
      "Height\n",
      "4929  missing values\n",
      "\n",
      "Waist\n",
      "5072  missing values\n",
      "\n",
      "Rank\n",
      "0  missing values\n",
      "\n",
      "Color\n",
      "492  missing values\n",
      "\n",
      "Size\n",
      "492  missing values\n",
      "\n",
      "Date (ordinal)\n",
      "0  missing values\n",
      "\n",
      "Time (numerical)\n",
      "0  missing values\n",
      "\n"
     ]
    }
   ],
   "source": [
    "# Check missing values\n",
    "\n",
    "for i in range(1,11):\n",
    "    if i != 3:\n",
    "        print(reviews_cleaned.columns[i])\n",
    "        print(reviews_cleaned.iloc[:,i].isna().sum(), \" missing values\")\n",
    "        print()\n"
   ]
  },
  {
   "cell_type": "markdown",
   "metadata": {},
   "source": [
    "## Handle Missing Data"
   ]
  },
  {
   "cell_type": "markdown",
   "metadata": {},
   "source": [
    "### Randomly Impute `Overall Fit`, `Color`, `Height`, `Waist`, and `Size`"
   ]
  },
  {
   "cell_type": "markdown",
   "metadata": {},
   "source": [
    "### Create missing columns for columns with missing data"
   ]
  },
  {
   "cell_type": "code",
   "execution_count": 17,
   "metadata": {},
   "outputs": [],
   "source": [
    "def missing_to_random(df, variable):\n",
    "    random_sample=df[variable].dropna().sample(df[variable].isnull().sum(),random_state=0).values\n",
    "    return random_sample\n",
    "reviews_cleaned['missing Overall Fit'] = np.where(reviews_cleaned['Overall Fit'].isna(),1,0)\n",
    "reviews_cleaned['missing Color'] = np.where(reviews_cleaned['Color'].isna(),1,0)\n",
    "reviews_cleaned['missing Size'] = np.where(reviews_cleaned['Size'].isna(),1,0)\n",
    "reviews_cleaned['missing Height'] = np.where(reviews_cleaned['Height'].isna(),1,0)\n",
    "reviews_cleaned['missing Waist'] = np.where(reviews_cleaned['Waist'].isna(),1,0)\n",
    "reviews_cleaned.loc[reviews_cleaned['Overall Fit'].isna(),'Overall Fit'] = missing_to_random(reviews_cleaned,'Overall Fit')\n",
    "reviews_cleaned.loc[reviews_cleaned['Color'].isna(),'Color'] = missing_to_random(reviews_cleaned,'Color')\n",
    "reviews_cleaned.loc[reviews_cleaned['Size'].isna(),'Size'] = missing_to_random(reviews_cleaned,'Size')"
   ]
  },
  {
   "cell_type": "code",
   "execution_count": 30,
   "metadata": {},
   "outputs": [],
   "source": [
    "reviews_cleaned.loc[reviews_cleaned['Height'].isna(),'Height'] = missing_to_random(reviews_cleaned,'Height')\n",
    "reviews_cleaned.loc[reviews_cleaned['Waist'].isna(),'Waist'] = missing_to_random(reviews_cleaned,'Waist')"
   ]
  },
  {
   "cell_type": "code",
   "execution_count": 32,
   "metadata": {},
   "outputs": [
    {
     "data": {
      "text/html": [
       "<div>\n",
       "<style scoped>\n",
       "    .dataframe tbody tr th:only-of-type {\n",
       "        vertical-align: middle;\n",
       "    }\n",
       "\n",
       "    .dataframe tbody tr th {\n",
       "        vertical-align: top;\n",
       "    }\n",
       "\n",
       "    .dataframe thead th {\n",
       "        text-align: right;\n",
       "    }\n",
       "</style>\n",
       "<table border=\"1\" class=\"dataframe\">\n",
       "  <thead>\n",
       "    <tr style=\"text-align: right;\">\n",
       "      <th></th>\n",
       "      <th>Individual Rating</th>\n",
       "      <th>Number of Pictures</th>\n",
       "      <th>Comment</th>\n",
       "      <th>Overall Fit</th>\n",
       "      <th>Height</th>\n",
       "      <th>Waist</th>\n",
       "      <th>Rank</th>\n",
       "      <th>Color</th>\n",
       "      <th>Size</th>\n",
       "      <th>Date (ordinal)</th>\n",
       "      <th>Time (numerical)</th>\n",
       "      <th>Comment Length</th>\n",
       "      <th>missing Overall Fit</th>\n",
       "      <th>missing Color</th>\n",
       "      <th>missing Size</th>\n",
       "      <th>missing Height</th>\n",
       "      <th>missing Waist</th>\n",
       "    </tr>\n",
       "  </thead>\n",
       "  <tbody>\n",
       "    <tr>\n",
       "      <th>0</th>\n",
       "      <td>5</td>\n",
       "      <td>5</td>\n",
       "      <td>It is thin but I’ve bought for holiday so I’m ...</td>\n",
       "      <td>-1.0</td>\n",
       "      <td>170.0</td>\n",
       "      <td>73.0</td>\n",
       "      <td>1</td>\n",
       "      <td>4</td>\n",
       "      <td>2</td>\n",
       "      <td>737654</td>\n",
       "      <td>8474</td>\n",
       "      <td>138</td>\n",
       "      <td>0</td>\n",
       "      <td>0</td>\n",
       "      <td>0</td>\n",
       "      <td>0</td>\n",
       "      <td>0</td>\n",
       "    </tr>\n",
       "    <tr>\n",
       "      <th>1</th>\n",
       "      <td>5</td>\n",
       "      <td>4</td>\n",
       "      <td>Absolutely in love with this dress true to siz...</td>\n",
       "      <td>-1.0</td>\n",
       "      <td>168.0</td>\n",
       "      <td>62.0</td>\n",
       "      <td>1</td>\n",
       "      <td>3</td>\n",
       "      <td>1</td>\n",
       "      <td>737681</td>\n",
       "      <td>48625</td>\n",
       "      <td>283</td>\n",
       "      <td>0</td>\n",
       "      <td>0</td>\n",
       "      <td>0</td>\n",
       "      <td>0</td>\n",
       "      <td>0</td>\n",
       "    </tr>\n",
       "    <tr>\n",
       "      <th>2</th>\n",
       "      <td>5</td>\n",
       "      <td>4</td>\n",
       "      <td>Tamaño correcto y se quedan bien Cómodo y de m...</td>\n",
       "      <td>-1.0</td>\n",
       "      <td>140.0</td>\n",
       "      <td>66.0</td>\n",
       "      <td>1</td>\n",
       "      <td>4</td>\n",
       "      <td>2</td>\n",
       "      <td>737685</td>\n",
       "      <td>40888</td>\n",
       "      <td>147</td>\n",
       "      <td>0</td>\n",
       "      <td>0</td>\n",
       "      <td>0</td>\n",
       "      <td>0</td>\n",
       "      <td>0</td>\n",
       "    </tr>\n",
       "    <tr>\n",
       "      <th>3</th>\n",
       "      <td>5</td>\n",
       "      <td>4</td>\n",
       "      <td>True to size and fits well Comfortable and of ...</td>\n",
       "      <td>-1.0</td>\n",
       "      <td>163.0</td>\n",
       "      <td>62.0</td>\n",
       "      <td>1</td>\n",
       "      <td>1</td>\n",
       "      <td>1</td>\n",
       "      <td>737656</td>\n",
       "      <td>33653</td>\n",
       "      <td>117</td>\n",
       "      <td>0</td>\n",
       "      <td>0</td>\n",
       "      <td>0</td>\n",
       "      <td>0</td>\n",
       "      <td>0</td>\n",
       "    </tr>\n",
       "    <tr>\n",
       "      <th>4</th>\n",
       "      <td>5</td>\n",
       "      <td>3</td>\n",
       "      <td>True to size and comfortable. I thought when I...</td>\n",
       "      <td>-1.0</td>\n",
       "      <td>170.0</td>\n",
       "      <td>32.0</td>\n",
       "      <td>1</td>\n",
       "      <td>4</td>\n",
       "      <td>1</td>\n",
       "      <td>737592</td>\n",
       "      <td>69580</td>\n",
       "      <td>282</td>\n",
       "      <td>0</td>\n",
       "      <td>0</td>\n",
       "      <td>0</td>\n",
       "      <td>0</td>\n",
       "      <td>0</td>\n",
       "    </tr>\n",
       "  </tbody>\n",
       "</table>\n",
       "</div>"
      ],
      "text/plain": [
       "   Individual Rating  Number of Pictures  \\\n",
       "0                  5                   5   \n",
       "1                  5                   4   \n",
       "2                  5                   4   \n",
       "3                  5                   4   \n",
       "4                  5                   3   \n",
       "\n",
       "                                             Comment  Overall Fit  Height  \\\n",
       "0  It is thin but I’ve bought for holiday so I’m ...         -1.0   170.0   \n",
       "1  Absolutely in love with this dress true to siz...         -1.0   168.0   \n",
       "2  Tamaño correcto y se quedan bien Cómodo y de m...         -1.0   140.0   \n",
       "3  True to size and fits well Comfortable and of ...         -1.0   163.0   \n",
       "4  True to size and comfortable. I thought when I...         -1.0   170.0   \n",
       "\n",
       "   Waist  Rank  Color  Size  Date (ordinal)  Time (numerical)  Comment Length  \\\n",
       "0   73.0     1      4     2          737654              8474             138   \n",
       "1   62.0     1      3     1          737681             48625             283   \n",
       "2   66.0     1      4     2          737685             40888             147   \n",
       "3   62.0     1      1     1          737656             33653             117   \n",
       "4   32.0     1      4     1          737592             69580             282   \n",
       "\n",
       "   missing Overall Fit  missing Color  missing Size  missing Height  \\\n",
       "0                    0              0             0               0   \n",
       "1                    0              0             0               0   \n",
       "2                    0              0             0               0   \n",
       "3                    0              0             0               0   \n",
       "4                    0              0             0               0   \n",
       "\n",
       "   missing Waist  \n",
       "0              0  \n",
       "1              0  \n",
       "2              0  \n",
       "3              0  \n",
       "4              0  "
      ]
     },
     "execution_count": 32,
     "metadata": {},
     "output_type": "execute_result"
    }
   ],
   "source": [
    "reviews_cleaned.head()"
   ]
  },
  {
   "cell_type": "code",
   "execution_count": 19,
   "metadata": {},
   "outputs": [
    {
     "data": {
      "text/plain": [
       "0    14960\n",
       "1      492\n",
       "Name: missing Size, dtype: int64"
      ]
     },
     "execution_count": 19,
     "metadata": {},
     "output_type": "execute_result"
    }
   ],
   "source": [
    "reviews_cleaned['missing Size'].value_counts()"
   ]
  },
  {
   "cell_type": "code",
   "execution_count": 20,
   "metadata": {},
   "outputs": [
    {
     "data": {
      "text/plain": [
       "-1.0    13453\n",
       " 0.0     1166\n",
       " 1.0      833\n",
       "Name: Overall Fit, dtype: int64"
      ]
     },
     "execution_count": 20,
     "metadata": {},
     "output_type": "execute_result"
    }
   ],
   "source": [
    "reviews_cleaned['Overall Fit'].value_counts()"
   ]
  },
  {
   "cell_type": "code",
   "execution_count": 33,
   "metadata": {},
   "outputs": [
    {
     "data": {
      "text/plain": [
       "<matplotlib.axes._subplots.AxesSubplot at 0xc23c688>"
      ]
     },
     "execution_count": 33,
     "metadata": {},
     "output_type": "execute_result"
    },
    {
     "data": {
      "image/png": "[encoded data removed]",
      "text/plain": [
       "<Figure size 432x288 with 2 Axes>"
      ]
     },
     "metadata": {
      "needs_background": "light"
     },
     "output_type": "display_data"
    }
   ],
   "source": [
    "sns.heatmap(reviews_cleaned.isna())"
   ]
  },
  {
   "cell_type": "markdown",
   "metadata": {},
   "source": [
    "### Normalize Non-Text Features"
   ]
  },
  {
   "cell_type": "markdown",
   "metadata": {},
   "source": [
    "#### Convert `Color` Type to Integers"
   ]
  },
  {
   "cell_type": "code",
   "execution_count": 22,
   "metadata": {},
   "outputs": [],
   "source": [
    "color_conversion = reviews_cleaned['Color'].value_counts()[:6].index.values\n",
    "reviews_cleaned['Color'].replace(color_conversion, np.arange(6),inplace=True)\n",
    "reviews_cleaned.loc[~reviews_cleaned['Color'].isin([0,1,2,3,4,5,6,np.nan]), \"Color\"] = 6"
   ]
  },
  {
   "cell_type": "code",
   "execution_count": 23,
   "metadata": {},
   "outputs": [
    {
     "data": {
      "text/plain": [
       "6    8750\n",
       "0    1381\n",
       "1    1309\n",
       "2    1196\n",
       "3    1075\n",
       "4     948\n",
       "5     793\n",
       "Name: Color, dtype: int64"
      ]
     },
     "execution_count": 23,
     "metadata": {},
     "output_type": "execute_result"
    }
   ],
   "source": [
    "reviews_cleaned['Color'].value_counts()"
   ]
  },
  {
   "cell_type": "code",
   "execution_count": 25,
   "metadata": {},
   "outputs": [
    {
     "data": {
      "text/html": [
       "<div>\n",
       "<style scoped>\n",
       "    .dataframe tbody tr th:only-of-type {\n",
       "        vertical-align: middle;\n",
       "    }\n",
       "\n",
       "    .dataframe tbody tr th {\n",
       "        vertical-align: top;\n",
       "    }\n",
       "\n",
       "    .dataframe thead th {\n",
       "        text-align: right;\n",
       "    }\n",
       "</style>\n",
       "<table border=\"1\" class=\"dataframe\">\n",
       "  <thead>\n",
       "    <tr style=\"text-align: right;\">\n",
       "      <th></th>\n",
       "      <th>Individual Rating</th>\n",
       "      <th>Number of Pictures</th>\n",
       "      <th>Comment</th>\n",
       "      <th>Overall Fit</th>\n",
       "      <th>Height</th>\n",
       "      <th>Waist</th>\n",
       "      <th>Rank</th>\n",
       "      <th>Color</th>\n",
       "      <th>Size</th>\n",
       "      <th>Date (ordinal)</th>\n",
       "      <th>Time (numerical)</th>\n",
       "      <th>Comment Length</th>\n",
       "      <th>missing Overall Fit</th>\n",
       "      <th>missing Color</th>\n",
       "      <th>missing Size</th>\n",
       "      <th>missing Height</th>\n",
       "      <th>missing Waist</th>\n",
       "    </tr>\n",
       "  </thead>\n",
       "  <tbody>\n",
       "    <tr>\n",
       "      <th>0</th>\n",
       "      <td>5</td>\n",
       "      <td>5</td>\n",
       "      <td>It is thin but I’ve bought for holiday so I’m ...</td>\n",
       "      <td>-1.0</td>\n",
       "      <td>170.0</td>\n",
       "      <td>73.0</td>\n",
       "      <td>1</td>\n",
       "      <td>4</td>\n",
       "      <td>M</td>\n",
       "      <td>737654</td>\n",
       "      <td>8474</td>\n",
       "      <td>138</td>\n",
       "      <td>0</td>\n",
       "      <td>0</td>\n",
       "      <td>0</td>\n",
       "      <td>0</td>\n",
       "      <td>0</td>\n",
       "    </tr>\n",
       "    <tr>\n",
       "      <th>1</th>\n",
       "      <td>5</td>\n",
       "      <td>4</td>\n",
       "      <td>Absolutely in love with this dress true to siz...</td>\n",
       "      <td>-1.0</td>\n",
       "      <td>168.0</td>\n",
       "      <td>62.0</td>\n",
       "      <td>1</td>\n",
       "      <td>3</td>\n",
       "      <td>S</td>\n",
       "      <td>737681</td>\n",
       "      <td>48625</td>\n",
       "      <td>283</td>\n",
       "      <td>0</td>\n",
       "      <td>0</td>\n",
       "      <td>0</td>\n",
       "      <td>0</td>\n",
       "      <td>0</td>\n",
       "    </tr>\n",
       "    <tr>\n",
       "      <th>2</th>\n",
       "      <td>5</td>\n",
       "      <td>4</td>\n",
       "      <td>Tamaño correcto y se quedan bien Cómodo y de m...</td>\n",
       "      <td>-1.0</td>\n",
       "      <td>140.0</td>\n",
       "      <td>66.0</td>\n",
       "      <td>1</td>\n",
       "      <td>4</td>\n",
       "      <td>M</td>\n",
       "      <td>737685</td>\n",
       "      <td>40888</td>\n",
       "      <td>147</td>\n",
       "      <td>0</td>\n",
       "      <td>0</td>\n",
       "      <td>0</td>\n",
       "      <td>0</td>\n",
       "      <td>0</td>\n",
       "    </tr>\n",
       "    <tr>\n",
       "      <th>3</th>\n",
       "      <td>5</td>\n",
       "      <td>4</td>\n",
       "      <td>True to size and fits well Comfortable and of ...</td>\n",
       "      <td>-1.0</td>\n",
       "      <td>163.0</td>\n",
       "      <td>62.0</td>\n",
       "      <td>1</td>\n",
       "      <td>1</td>\n",
       "      <td>S</td>\n",
       "      <td>737656</td>\n",
       "      <td>33653</td>\n",
       "      <td>117</td>\n",
       "      <td>0</td>\n",
       "      <td>0</td>\n",
       "      <td>0</td>\n",
       "      <td>0</td>\n",
       "      <td>0</td>\n",
       "    </tr>\n",
       "    <tr>\n",
       "      <th>4</th>\n",
       "      <td>5</td>\n",
       "      <td>3</td>\n",
       "      <td>True to size and comfortable. I thought when I...</td>\n",
       "      <td>-1.0</td>\n",
       "      <td>170.0</td>\n",
       "      <td>32.0</td>\n",
       "      <td>1</td>\n",
       "      <td>4</td>\n",
       "      <td>S</td>\n",
       "      <td>737592</td>\n",
       "      <td>69580</td>\n",
       "      <td>282</td>\n",
       "      <td>0</td>\n",
       "      <td>0</td>\n",
       "      <td>0</td>\n",
       "      <td>0</td>\n",
       "      <td>0</td>\n",
       "    </tr>\n",
       "  </tbody>\n",
       "</table>\n",
       "</div>"
      ],
      "text/plain": [
       "   Individual Rating  Number of Pictures  \\\n",
       "0                  5                   5   \n",
       "1                  5                   4   \n",
       "2                  5                   4   \n",
       "3                  5                   4   \n",
       "4                  5                   3   \n",
       "\n",
       "                                             Comment  Overall Fit  Height  \\\n",
       "0  It is thin but I’ve bought for holiday so I’m ...         -1.0   170.0   \n",
       "1  Absolutely in love with this dress true to siz...         -1.0   168.0   \n",
       "2  Tamaño correcto y se quedan bien Cómodo y de m...         -1.0   140.0   \n",
       "3  True to size and fits well Comfortable and of ...         -1.0   163.0   \n",
       "4  True to size and comfortable. I thought when I...         -1.0   170.0   \n",
       "\n",
       "   Waist  Rank Color Size  Date (ordinal)  Time (numerical)  Comment Length  \\\n",
       "0   73.0     1     4    M          737654              8474             138   \n",
       "1   62.0     1     3    S          737681             48625             283   \n",
       "2   66.0     1     4    M          737685             40888             147   \n",
       "3   62.0     1     1    S          737656             33653             117   \n",
       "4   32.0     1     4    S          737592             69580             282   \n",
       "\n",
       "   missing Overall Fit  missing Color  missing Size  missing Height  \\\n",
       "0                    0              0             0               0   \n",
       "1                    0              0             0               0   \n",
       "2                    0              0             0               0   \n",
       "3                    0              0             0               0   \n",
       "4                    0              0             0               0   \n",
       "\n",
       "   missing Waist  \n",
       "0              0  \n",
       "1              0  \n",
       "2              0  \n",
       "3              0  \n",
       "4              0  "
      ]
     },
     "execution_count": 25,
     "metadata": {},
     "output_type": "execute_result"
    }
   ],
   "source": [
    "reviews_cleaned.head()"
   ]
  },
  {
   "cell_type": "markdown",
   "metadata": {},
   "source": [
    "###  Convert Sizes to Numerical"
   ]
  },
  {
   "cell_type": "code",
   "execution_count": 26,
   "metadata": {},
   "outputs": [],
   "source": [
    "sizes = ['XS', 'S','M','L','XL','2XL','ONE SIZE']\n",
    "# one size equals medium\n",
    "# xs is smallest number, 2xl is biggest number\n",
    "converted_sizes = [0,1,2,3,4,5,2]"
   ]
  },
  {
   "cell_type": "code",
   "execution_count": 27,
   "metadata": {},
   "outputs": [],
   "source": [
    "reviews_cleaned['Size'].replace(sizes, converted_sizes, inplace=True)"
   ]
  },
  {
   "cell_type": "code",
   "execution_count": 28,
   "metadata": {},
   "outputs": [],
   "source": [
    "reviews_cleaned[['Size','Color']] = reviews_cleaned[['Size','Color']].apply(pd.to_numeric)"
   ]
  },
  {
   "cell_type": "code",
   "execution_count": 29,
   "metadata": {},
   "outputs": [
    {
     "data": {
      "text/plain": [
       "Individual Rating        int64\n",
       "Number of Pictures       int64\n",
       "Comment                 object\n",
       "Overall Fit            float64\n",
       "Height                 float64\n",
       "Waist                  float64\n",
       "Rank                     int64\n",
       "Color                    int64\n",
       "Size                     int64\n",
       "Date (ordinal)           int64\n",
       "Time (numerical)         int64\n",
       "Comment Length           int64\n",
       "missing Overall Fit      int32\n",
       "missing Color            int32\n",
       "missing Size             int32\n",
       "missing Height           int32\n",
       "missing Waist            int32\n",
       "dtype: object"
      ]
     },
     "execution_count": 29,
     "metadata": {},
     "output_type": "execute_result"
    }
   ],
   "source": [
    "reviews_cleaned.dtypes"
   ]
  },
  {
   "cell_type": "code",
   "execution_count": 53,
   "metadata": {},
   "outputs": [
    {
     "data": {
      "text/html": [
       "<div>\n",
       "<style scoped>\n",
       "    .dataframe tbody tr th:only-of-type {\n",
       "        vertical-align: middle;\n",
       "    }\n",
       "\n",
       "    .dataframe tbody tr th {\n",
       "        vertical-align: top;\n",
       "    }\n",
       "\n",
       "    .dataframe thead th {\n",
       "        text-align: right;\n",
       "    }\n",
       "</style>\n",
       "<table border=\"1\" class=\"dataframe\">\n",
       "  <thead>\n",
       "    <tr style=\"text-align: right;\">\n",
       "      <th></th>\n",
       "      <th>Individual Rating</th>\n",
       "      <th>Number of Pictures</th>\n",
       "      <th>Comment</th>\n",
       "      <th>Overall Fit</th>\n",
       "      <th>Height</th>\n",
       "      <th>Waist</th>\n",
       "      <th>Rank</th>\n",
       "      <th>Color</th>\n",
       "      <th>Size</th>\n",
       "      <th>Date (ordinal)</th>\n",
       "      <th>Time (numerical)</th>\n",
       "      <th>Comment Length</th>\n",
       "      <th>missing Overall Fit</th>\n",
       "      <th>missing Color</th>\n",
       "      <th>missing Size</th>\n",
       "      <th>missing Height</th>\n",
       "      <th>missing Waist</th>\n",
       "    </tr>\n",
       "  </thead>\n",
       "  <tbody>\n",
       "  </tbody>\n",
       "</table>\n",
       "</div>"
      ],
      "text/plain": [
       "Empty DataFrame\n",
       "Columns: [Individual Rating, Number of Pictures, Comment, Overall Fit, Height, Waist, Rank, Color, Size, Date (ordinal), Time (numerical), Comment Length, missing Overall Fit, missing Color, missing Size, missing Height, missing Waist]\n",
       "Index: []"
      ]
     },
     "execution_count": 53,
     "metadata": {},
     "output_type": "execute_result"
    }
   ],
   "source": [
    "reviews_cleaned[reviews_cleaned['Comment'].isna()]"
   ]
  },
  {
   "cell_type": "code",
   "execution_count": 52,
   "metadata": {},
   "outputs": [],
   "source": [
    "reviews_cleaned.drop(index=13755, axis=0,inplace=True)"
   ]
  },
  {
   "cell_type": "code",
   "execution_count": 5,
   "metadata": {},
   "outputs": [],
   "source": [
    "#reviews_cleaned.to_csv(r'../data/reviews_cleaned_before_normalized.csv',index=False)\n",
    "\n",
    "reviews_cleaned = pd.read_csv(r'../data/reviews_cleaned_before_normalized.csv')"
   ]
  },
  {
   "cell_type": "code",
   "execution_count": 6,
   "metadata": {},
   "outputs": [
    {
     "data": {
      "text/plain": [
       "0        737654\n",
       "1        737681\n",
       "2        737685\n",
       "3        737656\n",
       "4        737592\n",
       "          ...  \n",
       "15446    737307\n",
       "15447    737290\n",
       "15448    737307\n",
       "15449    737648\n",
       "15450    737648\n",
       "Name: Date (ordinal), Length: 15451, dtype: int64"
      ]
     },
     "execution_count": 6,
     "metadata": {},
     "output_type": "execute_result"
    }
   ],
   "source": [
    "reviews_cleaned['Date (ordinal)']"
   ]
  },
  {
   "cell_type": "code",
   "execution_count": 55,
   "metadata": {},
   "outputs": [
    {
     "name": "stdout",
     "output_type": "stream",
     "text": [
      "Number of Pictures\n",
      "0  missing values\n",
      "\n",
      "Comment\n",
      "0  missing values\n",
      "\n",
      "Height\n",
      "0  missing values\n",
      "\n",
      "Waist\n",
      "0  missing values\n",
      "\n",
      "Rank\n",
      "0  missing values\n",
      "\n",
      "Color\n",
      "0  missing values\n",
      "\n",
      "Size\n",
      "0  missing values\n",
      "\n",
      "Date (ordinal)\n",
      "0  missing values\n",
      "\n",
      "Time (numerical)\n",
      "0  missing values\n",
      "\n"
     ]
    }
   ],
   "source": [
    "# Check missing values\n",
    "\n",
    "for i in range(1,11):\n",
    "    if i != 3:\n",
    "        print(reviews_cleaned.columns[i])\n",
    "        print(reviews_cleaned.iloc[:,i].isna().sum(), \" missing values\")\n",
    "        print()"
   ]
  },
  {
   "cell_type": "markdown",
   "metadata": {},
   "source": [
    "## Normalize All Variables (excluding text data)"
   ]
  },
  {
   "cell_type": "code",
   "execution_count": 58,
   "metadata": {},
   "outputs": [],
   "source": [
    "reviews_normalized = reviews_cleaned.loc[:, reviews_cleaned.columns != 'Comment']\n",
    "scaler = MinMaxScaler()\n",
    "scaler.fit_transform(reviews_normalized)\n",
    "reviews_normalized = pd.DataFrame(scaler.fit_transform(reviews_normalized), columns=reviews_normalized.columns, index=reviews_normalized.index)"
   ]
  },
  {
   "cell_type": "code",
   "execution_count": 59,
   "metadata": {},
   "outputs": [
    {
     "data": {
      "text/plain": [
       "0.0    14959\n",
       "1.0      492\n",
       "Name: missing Color, dtype: int64"
      ]
     },
     "execution_count": 59,
     "metadata": {},
     "output_type": "execute_result"
    }
   ],
   "source": [
    "reviews_normalized['missing Color'].value_counts()"
   ]
  },
  {
   "cell_type": "code",
   "execution_count": 60,
   "metadata": {},
   "outputs": [
    {
     "data": {
      "text/plain": [
       "<matplotlib.axes._subplots.AxesSubplot at 0x5dda418>"
      ]
     },
     "execution_count": 60,
     "metadata": {},
     "output_type": "execute_result"
    },
    {
     "data": {
      "image/png": "[encoded data removed]",
      "text/plain": [
       "<Figure size 432x288 with 2 Axes>"
      ]
     },
     "metadata": {
      "needs_background": "light"
     },
     "output_type": "display_data"
    }
   ],
   "source": [
    "sns.heatmap(reviews_cleaned.corr())"
   ]
  },
  {
   "cell_type": "code",
   "execution_count": 61,
   "metadata": {},
   "outputs": [
    {
     "data": {
      "text/html": [
       "<div>\n",
       "<style scoped>\n",
       "    .dataframe tbody tr th:only-of-type {\n",
       "        vertical-align: middle;\n",
       "    }\n",
       "\n",
       "    .dataframe tbody tr th {\n",
       "        vertical-align: top;\n",
       "    }\n",
       "\n",
       "    .dataframe thead th {\n",
       "        text-align: right;\n",
       "    }\n",
       "</style>\n",
       "<table border=\"1\" class=\"dataframe\">\n",
       "  <thead>\n",
       "    <tr style=\"text-align: right;\">\n",
       "      <th></th>\n",
       "      <th>Individual Rating</th>\n",
       "      <th>Number of Pictures</th>\n",
       "      <th>Overall Fit</th>\n",
       "      <th>Height</th>\n",
       "      <th>Waist</th>\n",
       "      <th>Rank</th>\n",
       "      <th>Color</th>\n",
       "      <th>Size</th>\n",
       "      <th>Date (ordinal)</th>\n",
       "      <th>Time (numerical)</th>\n",
       "      <th>Comment Length</th>\n",
       "      <th>missing Overall Fit</th>\n",
       "      <th>missing Color</th>\n",
       "      <th>missing Size</th>\n",
       "      <th>missing Height</th>\n",
       "      <th>missing Waist</th>\n",
       "    </tr>\n",
       "  </thead>\n",
       "  <tbody>\n",
       "  </tbody>\n",
       "</table>\n",
       "</div>"
      ],
      "text/plain": [
       "Empty DataFrame\n",
       "Columns: [Individual Rating, Number of Pictures, Overall Fit, Height, Waist, Rank, Color, Size, Date (ordinal), Time (numerical), Comment Length, missing Overall Fit, missing Color, missing Size, missing Height, missing Waist]\n",
       "Index: []"
      ]
     },
     "execution_count": 61,
     "metadata": {},
     "output_type": "execute_result"
    }
   ],
   "source": [
    "reviews_normalized[reviews_normalized.isna().any(axis=1)]"
   ]
  },
  {
   "cell_type": "code",
   "execution_count": 24,
   "metadata": {},
   "outputs": [],
   "source": [
    "#reviews_normalized.to_csv(r'reviews_normalized.csv',index=False)\n",
    "\n",
    "reviews_normalized = pd.read_csv(r'reviews_normalized.csv')"
   ]
  },
  {
   "cell_type": "code",
   "execution_count": 25,
   "metadata": {},
   "outputs": [
    {
     "data": {
      "text/html": [
       "<div>\n",
       "<style scoped>\n",
       "    .dataframe tbody tr th:only-of-type {\n",
       "        vertical-align: middle;\n",
       "    }\n",
       "\n",
       "    .dataframe tbody tr th {\n",
       "        vertical-align: top;\n",
       "    }\n",
       "\n",
       "    .dataframe thead th {\n",
       "        text-align: right;\n",
       "    }\n",
       "</style>\n",
       "<table border=\"1\" class=\"dataframe\">\n",
       "  <thead>\n",
       "    <tr style=\"text-align: right;\">\n",
       "      <th></th>\n",
       "      <th>Individual Rating</th>\n",
       "      <th>Number of Pictures</th>\n",
       "      <th>Overall Fit</th>\n",
       "      <th>Height</th>\n",
       "      <th>Waist</th>\n",
       "      <th>Rank</th>\n",
       "      <th>Color</th>\n",
       "      <th>Size</th>\n",
       "      <th>Date (ordinal)</th>\n",
       "      <th>Time (numerical)</th>\n",
       "      <th>Comment Length</th>\n",
       "      <th>missing Overall Fit</th>\n",
       "      <th>missing Color</th>\n",
       "      <th>missing Size</th>\n",
       "      <th>missing Height</th>\n",
       "      <th>missing Waist</th>\n",
       "    </tr>\n",
       "  </thead>\n",
       "  <tbody>\n",
       "    <tr>\n",
       "      <th>0</th>\n",
       "      <td>1.0</td>\n",
       "      <td>0.833333</td>\n",
       "      <td>0.0</td>\n",
       "      <td>0.478261</td>\n",
       "      <td>0.611940</td>\n",
       "      <td>0.0</td>\n",
       "      <td>0.666667</td>\n",
       "      <td>0.4</td>\n",
       "      <td>0.982495</td>\n",
       "      <td>0.098029</td>\n",
       "      <td>0.156214</td>\n",
       "      <td>0.0</td>\n",
       "      <td>0.0</td>\n",
       "      <td>0.0</td>\n",
       "      <td>0.0</td>\n",
       "      <td>0.0</td>\n",
       "    </tr>\n",
       "    <tr>\n",
       "      <th>1</th>\n",
       "      <td>1.0</td>\n",
       "      <td>0.666667</td>\n",
       "      <td>0.0</td>\n",
       "      <td>0.449275</td>\n",
       "      <td>0.447761</td>\n",
       "      <td>0.0</td>\n",
       "      <td>0.500000</td>\n",
       "      <td>0.2</td>\n",
       "      <td>0.997265</td>\n",
       "      <td>0.562777</td>\n",
       "      <td>0.321551</td>\n",
       "      <td>0.0</td>\n",
       "      <td>0.0</td>\n",
       "      <td>0.0</td>\n",
       "      <td>0.0</td>\n",
       "      <td>0.0</td>\n",
       "    </tr>\n",
       "    <tr>\n",
       "      <th>2</th>\n",
       "      <td>1.0</td>\n",
       "      <td>0.666667</td>\n",
       "      <td>0.0</td>\n",
       "      <td>0.043478</td>\n",
       "      <td>0.507463</td>\n",
       "      <td>0.0</td>\n",
       "      <td>0.666667</td>\n",
       "      <td>0.4</td>\n",
       "      <td>0.999453</td>\n",
       "      <td>0.473221</td>\n",
       "      <td>0.166477</td>\n",
       "      <td>0.0</td>\n",
       "      <td>0.0</td>\n",
       "      <td>0.0</td>\n",
       "      <td>0.0</td>\n",
       "      <td>0.0</td>\n",
       "    </tr>\n",
       "    <tr>\n",
       "      <th>3</th>\n",
       "      <td>1.0</td>\n",
       "      <td>0.666667</td>\n",
       "      <td>0.0</td>\n",
       "      <td>0.376812</td>\n",
       "      <td>0.447761</td>\n",
       "      <td>0.0</td>\n",
       "      <td>0.166667</td>\n",
       "      <td>0.2</td>\n",
       "      <td>0.983589</td>\n",
       "      <td>0.389476</td>\n",
       "      <td>0.132269</td>\n",
       "      <td>0.0</td>\n",
       "      <td>0.0</td>\n",
       "      <td>0.0</td>\n",
       "      <td>0.0</td>\n",
       "      <td>0.0</td>\n",
       "    </tr>\n",
       "    <tr>\n",
       "      <th>4</th>\n",
       "      <td>1.0</td>\n",
       "      <td>0.500000</td>\n",
       "      <td>0.0</td>\n",
       "      <td>0.478261</td>\n",
       "      <td>0.000000</td>\n",
       "      <td>0.0</td>\n",
       "      <td>0.666667</td>\n",
       "      <td>0.2</td>\n",
       "      <td>0.948578</td>\n",
       "      <td>0.805331</td>\n",
       "      <td>0.320410</td>\n",
       "      <td>0.0</td>\n",
       "      <td>0.0</td>\n",
       "      <td>0.0</td>\n",
       "      <td>0.0</td>\n",
       "      <td>0.0</td>\n",
       "    </tr>\n",
       "  </tbody>\n",
       "</table>\n",
       "</div>"
      ],
      "text/plain": [
       "   Individual Rating  Number of Pictures  Overall Fit    Height     Waist  \\\n",
       "0                1.0            0.833333          0.0  0.478261  0.611940   \n",
       "1                1.0            0.666667          0.0  0.449275  0.447761   \n",
       "2                1.0            0.666667          0.0  0.043478  0.507463   \n",
       "3                1.0            0.666667          0.0  0.376812  0.447761   \n",
       "4                1.0            0.500000          0.0  0.478261  0.000000   \n",
       "\n",
       "   Rank     Color  Size  Date (ordinal)  Time (numerical)  Comment Length  \\\n",
       "0   0.0  0.666667   0.4        0.982495          0.098029        0.156214   \n",
       "1   0.0  0.500000   0.2        0.997265          0.562777        0.321551   \n",
       "2   0.0  0.666667   0.4        0.999453          0.473221        0.166477   \n",
       "3   0.0  0.166667   0.2        0.983589          0.389476        0.132269   \n",
       "4   0.0  0.666667   0.2        0.948578          0.805331        0.320410   \n",
       "\n",
       "   missing Overall Fit  missing Color  missing Size  missing Height  \\\n",
       "0                  0.0            0.0           0.0             0.0   \n",
       "1                  0.0            0.0           0.0             0.0   \n",
       "2                  0.0            0.0           0.0             0.0   \n",
       "3                  0.0            0.0           0.0             0.0   \n",
       "4                  0.0            0.0           0.0             0.0   \n",
       "\n",
       "   missing Waist  \n",
       "0            0.0  \n",
       "1            0.0  \n",
       "2            0.0  \n",
       "3            0.0  \n",
       "4            0.0  "
      ]
     },
     "execution_count": 25,
     "metadata": {},
     "output_type": "execute_result"
    }
   ],
   "source": [
    "reviews_normalized.head()"
   ]
  },
  {
   "cell_type": "code",
   "execution_count": 26,
   "metadata": {},
   "outputs": [
    {
     "name": "stdout",
     "output_type": "stream",
     "text": [
      "10735  non-unique comments\n"
     ]
    }
   ],
   "source": [
    "# How many unique reviews\n",
    "print(reviews_cleaned['Comment'].nunique(), \" non-unique comments\")"
   ]
  },
  {
   "cell_type": "code",
   "execution_count": 27,
   "metadata": {},
   "outputs": [],
   "source": [
    "import string\n",
    "from nltk.corpus import stopwords\n",
    "import re\n",
    "\n",
    "def remove_stops(text, stops):\n",
    "    #removes all stop words\n",
    "    words = text.split()\n",
    "    final = []\n",
    "    for word in words:\n",
    "        if word not in stops:\n",
    "            final.append(word)\n",
    "            \n",
    "    #reassembles the text without stop words\n",
    "    final = \" \".join(final)\n",
    "    \n",
    "    #removes all punctuation\n",
    "    final = final.translate(str.maketrans(\"\", \"\", string.punctuation))\n",
    "    \n",
    "    #removes all numbers\n",
    "    final = \"\".join([i for i in final if not i.isdigit()])\n",
    "    \n",
    "    #eliminates double white spaces\n",
    "    while \"  \" in final:\n",
    "        final = final.replace(\"  \", \" \")\n",
    "    return (final)\n",
    "\n",
    "def clean_docs(docs):\n",
    "    #gets the NLTK's stopword list for English\n",
    "    stops = stopwords.words(\"english\")\n",
    "    \n",
    "    #empty new list to store the cleaned docs\n",
    "    final = []\n",
    "    \n",
    "    #iterate over all docs and cleans them to be a\n",
    "    #single sentence with no unwanted words\n",
    "    for doc in docs:\n",
    "        clean_doc = remove_stops(doc, stops)\n",
    "        final.append(clean_doc)\n",
    "    \n",
    "    return (final)"
   ]
  },
  {
   "cell_type": "code",
   "execution_count": 79,
   "metadata": {},
   "outputs": [],
   "source": [
    "comments = clean_docs(reviews_cleaned[reviews_cleaned['Comment'].notna()]['Comment'])\n",
    "vectorizer = CountVectorizer(min_df=.01,ngram_range=(1,3),max_df=.8,stop_words='english')\n",
    "comments_matrix = vectorizer.fit_transform(comments)"
   ]
  },
  {
   "cell_type": "code",
   "execution_count": 28,
   "metadata": {},
   "outputs": [],
   "source": [
    "comments = clean_docs(reviews_cleaned[reviews_cleaned['Comment'].notna()]['Comment'])\n",
    "tfidfvectorizer = TfidfVectorizer(min_df=.01,ngram_range=(1,3),max_df=.8,stop_words='english')\n",
    "tfidfcomments_matrix = tfidfvectorizer.fit_transform(comments)"
   ]
  },
  {
   "cell_type": "code",
   "execution_count": 29,
   "metadata": {},
   "outputs": [
    {
     "name": "stdout",
     "output_type": "stream",
     "text": [
      "\n",
      "\n",
      "Features : \n",
      " ['absolutely', 'amazing', 'auf', 'aus', 'aux', 'aux photos', 'beautiful', 'beautiful dress', 'bien', 'big', 'bit', 'chest', 'color', 'comfortable', 'comfortable fantastic', 'comfortable fantastic material', 'comfy', 'como', 'como las', 'como las fotos', 'confortable', 'correcto', 'correcto se', 'correcto se quedan', 'cute', 'cute comfortable', 'cute comfortable fantastic', 'cute dress', 'cute fits', 'cute fits love', 'cute looks', 'cute looks exaclty', 'cute love', 'cómodo', 'cómodo material', 'cómodo material fantástico', 'definitely', 'definitely recommend', 'definitely recommend unique', 'definitivamente', 'der', 'design', 'dress', 'el', 'en', 'es', 'est', 'et', 'et se', 'et se porte', 'exaclty', 'exaclty like', 'exaclty like pictures', 'exactamente', 'exactamente como', 'exactamente como las', 'exactement', 'exactement aux', 'exactement aux photos', 'exactly', 'exactly like', 'exactly like pictures', 'expected', 'fabric', 'fantastic', 'fantastic material', 'fantastic material definitely', 'fantastic material looks', 'fantastic material true', 'fantástico', 'favorite', 'fidèle', 'fidèle la', 'fidèle la taille', 'fit', 'fits', 'fits comfortable', 'fits comfortable fantastic', 'fits definitely', 'fits looks', 'fits looks exaclty', 'fits love', 'fits love looks', 'fits perfectly', 'fits super', 'fits super cute', 'flattering', 'foto', 'fotos', 'genau', 'goes', 'goes definitely', 'goes definitely recommend', 'good', 'got', 'great', 'gut', 'im', 'je', 'la', 'la taille', 'la taille et', 'large', 'las', 'las fotos', 'le', 'length', 'les', 'light', 'like', 'like picture', 'like pictures', 'like pictures comfortable', 'like pictures definitely', 'like pictures goes', 'like pictures love', 'like pictures true', 'lindo', 'little', 'long', 'look', 'looks', 'looks exaclty', 'looks exaclty like', 'looks exactly', 'looks exactly like', 'love', 'love comfortable', 'love comfortable fantastic', 'love dress', 'love fits', 'love looks', 'love looks exaclty', 'love true', 'love true size', 'lovely', 'mais', 'material', 'material definitely', 'material definitely recommend', 'material fantástico', 'material looks', 'material looks exaclty', 'material true', 'material true size', 'medium', 'muy', 'nice', 'ordered', 'passt', 'perfect', 'perfectly', 'pero', 'photos', 'picture', 'pictures', 'pictures comfortable', 'pictures comfortable fantastic', 'pictures definitely', 'pictures definitely recommend', 'pictures goes', 'pictures goes definitely', 'pictures love', 'pictures true', 'pictures true size', 'porte', 'porte bien', 'pretty', 'quality', 'que', 'quedan', 'quedan bien', 'really', 'really cute', 'recomiendo', 'recommande', 'recommend', 'recommend unique', 'recommend unique design', 'ressemble', 'ressemble exactement', 'ressemble exactement aux', 'robe', 'se', 'se exactamente', 'se exactamente como', 'se porte', 'se porte bien', 'se quedan', 'se quedan bien', 'short', 'sieht', 'size', 'size comfortable', 'size comfortable fantastic', 'size fits', 'size fits comfortable', 'size fits looks', 'size looks', 'size looks exaclty', 'small', 'straps', 'summer', 'super', 'super cute', 'super cute comfortable', 'super cute fits', 'super cute looks', 'super cute love', 'súper', 'súper lindo', 'taille', 'taille et', 'taille et se', 'tamaño', 'tamaño correcto', 'tamaño correcto se', 'true', 'true size', 'true size comfortable', 'true size fits', 'true size looks', 'très', 'und', 'unique', 'unique design', 'wear', 'wie', 'zaful']\n",
      "229\n",
      "\n",
      "\n",
      "Comments Matrix : \n",
      " [[0.         0.         0.         ... 0.         0.         0.        ]\n",
      " [0.20644253 0.40265986 0.         ... 0.         0.         0.        ]\n",
      " [0.         0.         0.         ... 0.         0.         0.        ]\n",
      " ...\n",
      " [0.         0.         0.         ... 0.         0.         0.        ]\n",
      " [0.         0.73965598 0.         ... 0.         0.         0.        ]\n",
      " [0.         0.73965598 0.         ... 0.         0.         0.        ]]\n"
     ]
    }
   ],
   "source": [
    "tfidffeatures = (tfidfvectorizer.get_feature_names())\n",
    "print(\"\\n\\nFeatures : \\n\", tfidffeatures)\n",
    "print(len(tfidffeatures))\n",
    "print(\"\\n\\nComments Matrix : \\n\", tfidfcomments_matrix.toarray())"
   ]
  },
  {
   "cell_type": "code",
   "execution_count": 80,
   "metadata": {},
   "outputs": [
    {
     "name": "stdout",
     "output_type": "stream",
     "text": [
      "\n",
      "\n",
      "Features : \n",
      " ['absolutely', 'amazing', 'auf', 'aus', 'aux', 'aux photos', 'beautiful', 'beautiful dress', 'bien', 'big', 'bit', 'chest', 'color', 'comfortable', 'comfortable fantastic', 'comfortable fantastic material', 'comfy', 'como', 'como las', 'como las fotos', 'confortable', 'correcto', 'correcto se', 'correcto se quedan', 'cute', 'cute comfortable', 'cute comfortable fantastic', 'cute dress', 'cute fits', 'cute fits love', 'cute looks', 'cute looks exaclty', 'cute love', 'cómodo', 'cómodo material', 'cómodo material fantástico', 'definitely', 'definitely recommend', 'definitely recommend unique', 'definitivamente', 'der', 'design', 'dress', 'el', 'en', 'es', 'est', 'et', 'et se', 'et se porte', 'exaclty', 'exaclty like', 'exaclty like pictures', 'exactamente', 'exactamente como', 'exactamente como las', 'exactement', 'exactement aux', 'exactement aux photos', 'exactly', 'exactly like', 'exactly like pictures', 'expected', 'fabric', 'fantastic', 'fantastic material', 'fantastic material definitely', 'fantastic material looks', 'fantastic material true', 'fantástico', 'favorite', 'fidèle', 'fidèle la', 'fidèle la taille', 'fit', 'fits', 'fits comfortable', 'fits comfortable fantastic', 'fits definitely', 'fits looks', 'fits looks exaclty', 'fits love', 'fits love looks', 'fits perfectly', 'fits super', 'fits super cute', 'flattering', 'foto', 'fotos', 'genau', 'goes', 'goes definitely', 'goes definitely recommend', 'good', 'got', 'great', 'gut', 'im', 'je', 'la', 'la taille', 'la taille et', 'large', 'las', 'las fotos', 'le', 'length', 'les', 'light', 'like', 'like picture', 'like pictures', 'like pictures comfortable', 'like pictures definitely', 'like pictures goes', 'like pictures love', 'like pictures true', 'lindo', 'little', 'long', 'look', 'looks', 'looks exaclty', 'looks exaclty like', 'looks exactly', 'looks exactly like', 'love', 'love comfortable', 'love comfortable fantastic', 'love dress', 'love fits', 'love looks', 'love looks exaclty', 'love true', 'love true size', 'lovely', 'mais', 'material', 'material definitely', 'material definitely recommend', 'material fantástico', 'material looks', 'material looks exaclty', 'material true', 'material true size', 'medium', 'muy', 'nice', 'ordered', 'passt', 'perfect', 'perfectly', 'pero', 'photos', 'picture', 'pictures', 'pictures comfortable', 'pictures comfortable fantastic', 'pictures definitely', 'pictures definitely recommend', 'pictures goes', 'pictures goes definitely', 'pictures love', 'pictures true', 'pictures true size', 'porte', 'porte bien', 'pretty', 'quality', 'que', 'quedan', 'quedan bien', 'really', 'really cute', 'recomiendo', 'recommande', 'recommend', 'recommend unique', 'recommend unique design', 'ressemble', 'ressemble exactement', 'ressemble exactement aux', 'robe', 'se', 'se exactamente', 'se exactamente como', 'se porte', 'se porte bien', 'se quedan', 'se quedan bien', 'short', 'sieht', 'size', 'size comfortable', 'size comfortable fantastic', 'size fits', 'size fits comfortable', 'size fits looks', 'size looks', 'size looks exaclty', 'small', 'straps', 'summer', 'super', 'super cute', 'super cute comfortable', 'super cute fits', 'super cute looks', 'super cute love', 'súper', 'súper lindo', 'taille', 'taille et', 'taille et se', 'tamaño', 'tamaño correcto', 'tamaño correcto se', 'true', 'true size', 'true size comfortable', 'true size fits', 'true size looks', 'très', 'und', 'unique', 'unique design', 'wear', 'wie', 'zaful']\n",
      "229\n",
      "\n",
      "\n",
      "Comments Matrix : \n",
      " [[0 0 0 ... 0 0 0]\n",
      " [1 2 0 ... 0 0 0]\n",
      " [0 0 0 ... 0 0 0]\n",
      " ...\n",
      " [0 0 0 ... 0 0 0]\n",
      " [0 1 0 ... 0 0 0]\n",
      " [0 1 0 ... 0 0 0]]\n"
     ]
    }
   ],
   "source": [
    "features = (vectorizer.get_feature_names())\n",
    "print(\"\\n\\nFeatures : \\n\", features)\n",
    "print(len(features))\n",
    "print(\"\\n\\nComments Matrix : \\n\", comments_matrix.toarray())"
   ]
  },
  {
   "cell_type": "code",
   "execution_count": 81,
   "metadata": {},
   "outputs": [],
   "source": [
    "feature_names = vectorizer.get_feature_names()\n",
    "feature_names.append(['Individual Rating', 'Number of Pictures', 'Overall Fit', 'Height',\n",
    "       'Waist', 'Rank', 'Color', 'Size', 'Date (ordinal)', 'Time (numerical)',\n",
    "       'Comment Length', 'missing Overall Fit', 'missing Color',\n",
    "       'missing Size', 'missing Height', 'missing Waist'])\n",
    "\n",
    "dense = comments_matrix.todense()\n",
    "denselist = dense.tolist()"
   ]
  },
  {
   "cell_type": "code",
   "execution_count": 117,
   "metadata": {},
   "outputs": [
    {
     "data": {
      "text/plain": [
       "['absolutely',\n",
       " 'amazing',\n",
       " 'auf',\n",
       " 'aus',\n",
       " 'aux',\n",
       " 'aux photos',\n",
       " 'beautiful',\n",
       " 'beautiful dress',\n",
       " 'bien',\n",
       " 'big',\n",
       " 'bit',\n",
       " 'chest',\n",
       " 'color',\n",
       " 'comfortable',\n",
       " 'comfortable fantastic',\n",
       " 'comfortable fantastic material',\n",
       " 'comfy',\n",
       " 'como',\n",
       " 'como las',\n",
       " 'como las fotos',\n",
       " 'confortable',\n",
       " 'correcto',\n",
       " 'correcto se',\n",
       " 'correcto se quedan',\n",
       " 'cute',\n",
       " 'cute comfortable',\n",
       " 'cute comfortable fantastic',\n",
       " 'cute dress',\n",
       " 'cute fits',\n",
       " 'cute fits love',\n",
       " 'cute looks',\n",
       " 'cute looks exaclty',\n",
       " 'cute love',\n",
       " 'cómodo',\n",
       " 'cómodo material',\n",
       " 'cómodo material fantástico',\n",
       " 'definitely',\n",
       " 'definitely recommend',\n",
       " 'definitely recommend unique',\n",
       " 'definitivamente',\n",
       " 'der',\n",
       " 'design',\n",
       " 'dress',\n",
       " 'el',\n",
       " 'en',\n",
       " 'es',\n",
       " 'est',\n",
       " 'et',\n",
       " 'et se',\n",
       " 'et se porte',\n",
       " 'exaclty',\n",
       " 'exaclty like',\n",
       " 'exaclty like pictures',\n",
       " 'exactamente',\n",
       " 'exactamente como',\n",
       " 'exactamente como las',\n",
       " 'exactement',\n",
       " 'exactement aux',\n",
       " 'exactement aux photos',\n",
       " 'exactly',\n",
       " 'exactly like',\n",
       " 'exactly like pictures',\n",
       " 'expected',\n",
       " 'fabric',\n",
       " 'fantastic',\n",
       " 'fantastic material',\n",
       " 'fantastic material definitely',\n",
       " 'fantastic material looks',\n",
       " 'fantastic material true',\n",
       " 'fantástico',\n",
       " 'favorite',\n",
       " 'fidèle',\n",
       " 'fidèle la',\n",
       " 'fidèle la taille',\n",
       " 'fit',\n",
       " 'fits',\n",
       " 'fits comfortable',\n",
       " 'fits comfortable fantastic',\n",
       " 'fits definitely',\n",
       " 'fits looks',\n",
       " 'fits looks exaclty',\n",
       " 'fits love',\n",
       " 'fits love looks',\n",
       " 'fits perfectly',\n",
       " 'fits super',\n",
       " 'fits super cute',\n",
       " 'flattering',\n",
       " 'foto',\n",
       " 'fotos',\n",
       " 'genau',\n",
       " 'goes',\n",
       " 'goes definitely',\n",
       " 'goes definitely recommend',\n",
       " 'good',\n",
       " 'got',\n",
       " 'great',\n",
       " 'gut',\n",
       " 'im',\n",
       " 'je',\n",
       " 'la',\n",
       " 'la taille',\n",
       " 'la taille et',\n",
       " 'large',\n",
       " 'las',\n",
       " 'las fotos',\n",
       " 'le',\n",
       " 'length',\n",
       " 'les',\n",
       " 'light',\n",
       " 'like',\n",
       " 'like picture',\n",
       " 'like pictures',\n",
       " 'like pictures comfortable',\n",
       " 'like pictures definitely',\n",
       " 'like pictures goes',\n",
       " 'like pictures love',\n",
       " 'like pictures true',\n",
       " 'lindo',\n",
       " 'little',\n",
       " 'long',\n",
       " 'look',\n",
       " 'looks',\n",
       " 'looks exaclty',\n",
       " 'looks exaclty like',\n",
       " 'looks exactly',\n",
       " 'looks exactly like',\n",
       " 'love',\n",
       " 'love comfortable',\n",
       " 'love comfortable fantastic',\n",
       " 'love dress',\n",
       " 'love fits',\n",
       " 'love looks',\n",
       " 'love looks exaclty',\n",
       " 'love true',\n",
       " 'love true size',\n",
       " 'lovely',\n",
       " 'mais',\n",
       " 'material',\n",
       " 'material definitely',\n",
       " 'material definitely recommend',\n",
       " 'material fantástico',\n",
       " 'material looks',\n",
       " 'material looks exaclty',\n",
       " 'material true',\n",
       " 'material true size',\n",
       " 'medium',\n",
       " 'muy',\n",
       " 'nice',\n",
       " 'ordered',\n",
       " 'passt',\n",
       " 'perfect',\n",
       " 'perfectly',\n",
       " 'pero',\n",
       " 'photos',\n",
       " 'picture',\n",
       " 'pictures',\n",
       " 'pictures comfortable',\n",
       " 'pictures comfortable fantastic',\n",
       " 'pictures definitely',\n",
       " 'pictures definitely recommend',\n",
       " 'pictures goes',\n",
       " 'pictures goes definitely',\n",
       " 'pictures love',\n",
       " 'pictures true',\n",
       " 'pictures true size',\n",
       " 'porte',\n",
       " 'porte bien',\n",
       " 'pretty',\n",
       " 'quality',\n",
       " 'que',\n",
       " 'quedan',\n",
       " 'quedan bien',\n",
       " 'really',\n",
       " 'really cute',\n",
       " 'recomiendo',\n",
       " 'recommande',\n",
       " 'recommend',\n",
       " 'recommend unique',\n",
       " 'recommend unique design',\n",
       " 'ressemble',\n",
       " 'ressemble exactement',\n",
       " 'ressemble exactement aux',\n",
       " 'robe',\n",
       " 'se',\n",
       " 'se exactamente',\n",
       " 'se exactamente como',\n",
       " 'se porte',\n",
       " 'se porte bien',\n",
       " 'se quedan',\n",
       " 'se quedan bien',\n",
       " 'short',\n",
       " 'sieht',\n",
       " 'size',\n",
       " 'size comfortable',\n",
       " 'size comfortable fantastic',\n",
       " 'size fits',\n",
       " 'size fits comfortable',\n",
       " 'size fits looks',\n",
       " 'size looks',\n",
       " 'size looks exaclty',\n",
       " 'small',\n",
       " 'straps',\n",
       " 'summer',\n",
       " 'super',\n",
       " 'super cute',\n",
       " 'super cute comfortable',\n",
       " 'super cute fits',\n",
       " 'super cute looks',\n",
       " 'super cute love',\n",
       " 'súper',\n",
       " 'súper lindo',\n",
       " 'taille',\n",
       " 'taille et',\n",
       " 'taille et se',\n",
       " 'tamaño',\n",
       " 'tamaño correcto',\n",
       " 'tamaño correcto se',\n",
       " 'true',\n",
       " 'true size',\n",
       " 'true size comfortable',\n",
       " 'true size fits',\n",
       " 'true size looks',\n",
       " 'très',\n",
       " 'und',\n",
       " 'unique',\n",
       " 'unique design',\n",
       " 'wear',\n",
       " 'wie',\n",
       " 'zaful',\n",
       " 'Individual Rating',\n",
       " 'Number of Pictures',\n",
       " 'Overall Fit',\n",
       " 'Height',\n",
       " 'Waist',\n",
       " 'Rank',\n",
       " 'Color',\n",
       " 'Size',\n",
       " 'Date (ordinal)',\n",
       " 'Time (numerical)',\n",
       " 'Comment Length',\n",
       " 'missing Overall Fit',\n",
       " 'missing Color',\n",
       " 'missing Size',\n",
       " 'missing Height',\n",
       " 'missing Waist']"
      ]
     },
     "execution_count": 117,
     "metadata": {},
     "output_type": "execute_result"
    }
   ],
   "source": [
    "feature_names = vectorizer.get_feature_names()\n",
    "feature_names.extend(['Individual Rating', 'Number of Pictures', 'Overall Fit', 'Height',\n",
    "       'Waist', 'Rank', 'Color', 'Size', 'Date (ordinal)', 'Time (numerical)',\n",
    "       'Comment Length', 'missing Overall Fit', 'missing Color',\n",
    "       'missing Size', 'missing Height', 'missing Waist'])\n",
    "feature_names"
   ]
  },
  {
   "cell_type": "code",
   "execution_count": 109,
   "metadata": {},
   "outputs": [],
   "source": [
    "feature_names.append(reviews_normalized.columns)"
   ]
  },
  {
   "cell_type": "code",
   "execution_count": 82,
   "metadata": {},
   "outputs": [
    {
     "data": {
      "text/plain": [
       "scipy.sparse.csr.csr_matrix"
      ]
     },
     "execution_count": 82,
     "metadata": {},
     "output_type": "execute_result"
    }
   ],
   "source": [
    "type(comments_matrix)"
   ]
  },
  {
   "cell_type": "code",
   "execution_count": 85,
   "metadata": {},
   "outputs": [],
   "source": [
    "from scipy.sparse import csr_matrix\n",
    "comments_combined = csr_matrix(np.concatenate([denselist, reviews_normalized], axis=1))"
   ]
  },
  {
   "cell_type": "code",
   "execution_count": 103,
   "metadata": {},
   "outputs": [
    {
     "data": {
      "text/plain": [
       "<15451x245 sparse matrix of type '<class 'numpy.float64'>'\n",
       "\twith 326262 stored elements in Compressed Sparse Row format>"
      ]
     },
     "execution_count": 103,
     "metadata": {},
     "output_type": "execute_result"
    }
   ],
   "source": [
    "comments_combined"
   ]
  },
  {
   "cell_type": "code",
   "execution_count": 86,
   "metadata": {},
   "outputs": [],
   "source": [
    "comments_combined_array = np.array(comments_combined)"
   ]
  },
  {
   "cell_type": "code",
   "execution_count": 84,
   "metadata": {},
   "outputs": [
    {
     "data": {
      "text/plain": [
       "<15451x229 sparse matrix of type '<class 'numpy.int64'>'\n",
       "\twith 185331 stored elements in Compressed Sparse Row format>"
      ]
     },
     "execution_count": 84,
     "metadata": {},
     "output_type": "execute_result"
    }
   ],
   "source": [
    "comments_matrix"
   ]
  },
  {
   "cell_type": "code",
   "execution_count": 83,
   "metadata": {},
   "outputs": [
    {
     "name": "stdout",
     "output_type": "stream",
     "text": [
      "Original Text:\n",
      "It thin I’ve bought holiday I’m happy it’s like that Makes boobs look huge which not light I love\n",
      "\n",
      "Cleaned Text:\n"
     ]
    },
    {
     "ename": "NotImplementedError",
     "evalue": "adding a nonzero scalar to a sparse matrix is not supported",
     "output_type": "error",
     "traceback": [
      "\u001b[1;31m----\u001b[0m",
      "\u001b[1;31mNotImplementedError\u001b[0mTraceback (most recent call last)",
      "\u001b[1;32m<ipython-input-83-3f443f57e3d7>\u001b[0m in \u001b[0;36m<module>\u001b[1;34m\u001b[0m\n\u001b[0;32m      3\u001b[0m \u001b[1;33m\u001b[0m\u001b[0m\n\u001b[0;32m      4\u001b[0m \u001b[0mprint\u001b[0m \u001b[1;33m(\u001b[0m\u001b[1;34m\"Cleaned Text:\"\u001b[0m\u001b[1;33m)\u001b[0m\u001b[1;33m\u001b[0m\u001b[1;33m\u001b[0m\u001b[0m\n\u001b[1;32m----> 5\u001b[1;33m \u001b[0mprint\u001b[0m \u001b[1;33m(\u001b[0m\u001b[0mcomments_matrix\u001b[0m\u001b[1;33m[\u001b[0m\u001b[1;36m0\u001b[0m\u001b[1;33m]\u001b[0m\u001b[1;33m+\u001b[0m\u001b[1;34m\"\\n\"\u001b[0m\u001b[1;33m)\u001b[0m\u001b[1;33m\u001b[0m\u001b[1;33m\u001b[0m\u001b[0m\n\u001b[0m",
      "\u001b[1;32m~\\anaconda3\\lib\\site-packages\\scipy\\sparse\\base.py\u001b[0m in \u001b[0;36m__add__\u001b[1;34m(self, other)\u001b[0m\n\u001b[0;32m    408\u001b[0m                 \u001b[1;32mreturn\u001b[0m \u001b[0mself\u001b[0m\u001b[1;33m.\u001b[0m\u001b[0mcopy\u001b[0m\u001b[1;33m(\u001b[0m\u001b[1;33m)\u001b[0m\u001b[1;33m\u001b[0m\u001b[1;33m\u001b[0m\u001b[0m\n\u001b[0;32m    409\u001b[0m             \u001b[1;31m# Now we would add this scalar to every element.\u001b[0m\u001b[1;33m\u001b[0m\u001b[1;33m\u001b[0m\u001b[1;33m\u001b[0m\u001b[0m\n\u001b[1;32m--> 410\u001b[1;33m             raise NotImplementedError('adding a nonzero scalar to a '\n\u001b[0m\u001b[0;32m    411\u001b[0m                                       'sparse matrix is not supported')\n\u001b[0;32m    412\u001b[0m         \u001b[1;32melif\u001b[0m \u001b[0misspmatrix\u001b[0m\u001b[1;33m(\u001b[0m\u001b[0mother\u001b[0m\u001b[1;33m)\u001b[0m\u001b[1;33m:\u001b[0m\u001b[1;33m\u001b[0m\u001b[1;33m\u001b[0m\u001b[0m\n",
      "\u001b[1;31mNotImplementedError\u001b[0m: adding a nonzero scalar to a sparse matrix is not supported"
     ]
    }
   ],
   "source": [
    "print (\"Original Text:\")\n",
    "print (comments[0]+\"\\n\")\n",
    "\n",
    "print (\"Cleaned Text:\")\n",
    "print (comments_matrix[0]+\"\\n\")\n"
   ]
  },
  {
   "cell_type": "code",
   "execution_count": 122,
   "metadata": {},
   "outputs": [
    {
     "data": {
      "image/png": "[encoded data removed]",
      "text/plain": [
       "<Figure size 432x288 with 1 Axes>"
      ]
     },
     "metadata": {
      "needs_background": "light"
     },
     "output_type": "display_data"
    }
   ],
   "source": [
    "cost =[] \n",
    "for i in range(1, 11): \n",
    "    kmeans = KMeans(n_clusters=i, random_state=0)\n",
    "    kmeans.fit(comments_combined)\n",
    "      \n",
    "    # calculates squared error \n",
    "    # for the clustered points \n",
    "    cost.append(kmeans.inertia_)      \n",
    "  \n",
    "# plot the cost against K values \n",
    "plt.plot(range(1, 11), cost, color ='g', linewidth ='3') \n",
    "plt.xlabel(\"Value of K\") \n",
    "plt.ylabel(\"Sqaured Error (Cost)\") \n",
    "plt.show() # clear the plot "
   ]
  },
  {
   "cell_type": "code",
   "execution_count": 125,
   "metadata": {},
   "outputs": [],
   "source": [
    "## visualizing cluster\n",
    "\n",
    "import matplotlib.pyplot as plt\n",
    "from sklearn.decomposition import PCA\n",
    "\n",
    "kmean_indices = model.fit_predict(comments_combined)\n",
    "\n",
    "pca = PCA(n_components=2)\n",
    "scatter_plot_points = pca.fit_transform(comments_combined.toarray())"
   ]
  },
  {
   "cell_type": "code",
   "execution_count": 142,
   "metadata": {},
   "outputs": [
    {
     "data": {
      "text/plain": [
       "array([4, 5, 4, ..., 4, 4, 4])"
      ]
     },
     "execution_count": 142,
     "metadata": {},
     "output_type": "execute_result"
    }
   ],
   "source": [
    "model.labels_"
   ]
  },
  {
   "cell_type": "code",
   "execution_count": 143,
   "metadata": {},
   "outputs": [],
   "source": [
    "reviews_normalized['kmeans7'] = model.labels_"
   ]
  },
  {
   "cell_type": "code",
   "execution_count": 144,
   "metadata": {},
   "outputs": [
    {
     "data": {
      "text/plain": [
       "4    5918\n",
       "1    3482\n",
       "3    2140\n",
       "6    1366\n",
       "0    1218\n",
       "5    1093\n",
       "2     234\n",
       "Name: kmeans7, dtype: int64"
      ]
     },
     "execution_count": 144,
     "metadata": {},
     "output_type": "execute_result"
    }
   ],
   "source": [
    "reviews_normalized['kmeans7'].value_counts()"
   ]
  },
  {
   "cell_type": "code",
   "execution_count": 139,
   "metadata": {},
   "outputs": [
    {
     "name": "stdout",
     "output_type": "stream",
     "text": [
      "red - cluster 0\n",
      "blue - cluster 1\n",
      "magenta - cluster 2\n",
      "yellow - cluster 3\n",
      "cyan - cluster 4\n",
      "green - cluster 5\n",
      "black - cluster 6\n"
     ]
    },
    {
     "data": {
      "image/png": "[encoded data removed]",
      "text/plain": [
       "<Figure size 360x360 with 1 Axes>"
      ]
     },
     "metadata": {
      "needs_background": "light"
     },
     "output_type": "display_data"
    }
   ],
   "source": [
    "\n",
    "colors = [\"r\", \"b\", \"m\", \"y\", \"c\",\"g\",\"k\"]\n",
    "\n",
    "x_axis = [o[0] for o in scatter_plot_points]\n",
    "y_axis = [o[1] for o in scatter_plot_points]\n",
    "\n",
    "\n",
    "fig, ax = plt.subplots(figsize=(5,5))\n",
    "ax.scatter(x_axis, y_axis, c=[colors[d] for d in kmean_indices])\n",
    "plt.xlabel('PCA1')\n",
    "plt.ylabel('PCA2')\n",
    "plt.title('Clusters of Text Data with PCA')\n",
    "print('red - cluster 0')\n",
    "print('blue - cluster 1')\n",
    "print('magenta - cluster 2')\n",
    "print('olive - cluster 3')\n",
    "print('cyan - cluster 4')\n",
    "print('green - cluster 5')\n",
    "print('black - cluster 6')"
   ]
  },
  {
   "cell_type": "code",
   "execution_count": 123,
   "metadata": {},
   "outputs": [
    {
     "name": "stdout",
     "output_type": "stream",
     "text": [
      "Cluster 0\n",
      "Individual Rating\n",
      "Date (ordinal)\n",
      "Color\n",
      "Time (numerical)\n",
      "Rank\n",
      "Size\n",
      "missing Waist\n",
      "missing Height\n",
      "dress\n",
      "material\n",
      "\n",
      "Cluster 1\n",
      "material\n",
      "fantastic\n",
      "fantastic material\n",
      "comfortable\n",
      "comfortable fantastic\n",
      "comfortable fantastic material\n",
      "like\n",
      "looks\n",
      "pictures\n",
      "like pictures\n",
      "\n",
      "Cluster 2\n",
      "super\n",
      "cute\n",
      "super cute\n",
      "like\n",
      "Individual Rating\n",
      "pictures\n",
      "like pictures\n",
      "looks\n",
      "exaclty like\n",
      "exaclty\n",
      "\n",
      "Cluster 3\n",
      "material\n",
      "size\n",
      "comfortable\n",
      "fits\n",
      "true size\n",
      "true\n",
      "fantastic\n",
      "fantastic material\n",
      "comfortable fantastic material\n",
      "comfortable fantastic\n",
      "\n",
      "Cluster 4\n",
      "like\n",
      "exaclty\n",
      "exaclty like\n",
      "looks\n",
      "pictures\n",
      "like pictures\n",
      "exaclty like pictures\n",
      "Individual Rating\n",
      "looks exaclty\n",
      "looks exaclty like\n",
      "\n",
      "Cluster 5\n",
      "size\n",
      "true\n",
      "fits\n",
      "true size\n",
      "like\n",
      "Individual Rating\n",
      "looks\n",
      "pictures\n",
      "like pictures\n",
      "size fits\n",
      "\n",
      "Cluster 6\n",
      "size\n",
      "love\n",
      "true\n",
      "true size\n",
      "like\n",
      "pictures\n",
      "cute\n",
      "like pictures\n",
      "exaclty like pictures\n",
      "exaclty\n",
      "\n"
     ]
    }
   ],
   "source": [
    "true_k = 7\n",
    "\n",
    "model = KMeans(n_clusters=true_k, init=\"k-means++\", max_iter=100, n_init=1)\n",
    "\n",
    "model.fit(comments_combined)\n",
    "\n",
    "order_centroids = model.cluster_centers_.argsort()[:, ::-1]\n",
    "terms = feature_names\n",
    "i=0\n",
    "\n",
    "for cluster in order_centroids:\n",
    "    print (f\"Cluster {i}\")\n",
    "    for keyword in cluster[0:10]:\n",
    "        print (terms[keyword])\n",
    "    print (\"\")\n",
    "    i=i+1"
   ]
  },
  {
   "cell_type": "markdown",
   "metadata": {},
   "source": [
    "## Observations\n",
    "\n",
    "Cluster 0: Based off the most common column values, it seems that samples in this cluster were grouped because they appeared at similar dates and had a smaller amount of missing values for Height and Waist. These similarities could indicate that the reviews were due to bots that spammed similar reviews at a specific time period. The word 'dress' appeared frequently in this cluster but not any other cluster. Smaller overall fit meaning people found the size to be true to size than large.\n",
    "\n",
    "Cluster 1: The most prominent words were variations of each other. This cluster may be highly prone to fake. Smaller average number of pictures. More missing Overall Fit. Almost all of them had missing Height and Waist.nd posted at a date different from the average.\n",
    "\n",
    "Cluster 2:\n",
    "\n",
    "Cluster 3:\n",
    "\n",
    "Cluster 4:\n",
    "\n",
    "Cluster 6 has the most variance in PCA1 so this cluster has less similar features with each other than other clusters a\n",
    "\n",
    "Cluster 0,1, and 4 (red, blue, and cyan) overalp a lot in regards to PCA1 so they are more similar to each other than other clusters.]\n",
    "\n",
    "Cluster 2 has the least amount of samples."
   ]
  },
  {
   "cell_type": "code",
   "execution_count": 146,
   "metadata": {},
   "outputs": [
    {
     "data": {
      "text/html": [
       "<div>\n",
       "<style scoped>\n",
       "    .dataframe tbody tr th:only-of-type {\n",
       "        vertical-align: middle;\n",
       "    }\n",
       "\n",
       "    .dataframe tbody tr th {\n",
       "        vertical-align: top;\n",
       "    }\n",
       "\n",
       "    .dataframe thead th {\n",
       "        text-align: right;\n",
       "    }\n",
       "</style>\n",
       "<table border=\"1\" class=\"dataframe\">\n",
       "  <thead>\n",
       "    <tr style=\"text-align: right;\">\n",
       "      <th></th>\n",
       "      <th>Individual Rating</th>\n",
       "      <th>Number of Pictures</th>\n",
       "      <th>Overall Fit</th>\n",
       "      <th>Height</th>\n",
       "      <th>Waist</th>\n",
       "      <th>Rank</th>\n",
       "      <th>Color</th>\n",
       "      <th>Size</th>\n",
       "      <th>Date (ordinal)</th>\n",
       "      <th>Time (numerical)</th>\n",
       "      <th>Comment Length</th>\n",
       "      <th>missing Overall Fit</th>\n",
       "      <th>missing Color</th>\n",
       "      <th>missing Size</th>\n",
       "      <th>missing Height</th>\n",
       "      <th>missing Waist</th>\n",
       "      <th>kmeans7</th>\n",
       "    </tr>\n",
       "  </thead>\n",
       "  <tbody>\n",
       "    <tr>\n",
       "      <th>count</th>\n",
       "      <td>15451.000000</td>\n",
       "      <td>15451.000000</td>\n",
       "      <td>15451.000000</td>\n",
       "      <td>15451.000000</td>\n",
       "      <td>15451.000000</td>\n",
       "      <td>15451.000000</td>\n",
       "      <td>15451.000000</td>\n",
       "      <td>15451.000000</td>\n",
       "      <td>15451.000000</td>\n",
       "      <td>15451.000000</td>\n",
       "      <td>15451.000000</td>\n",
       "      <td>15451.000000</td>\n",
       "      <td>15451.000000</td>\n",
       "      <td>15451.000000</td>\n",
       "      <td>15451.000000</td>\n",
       "      <td>15451.000000</td>\n",
       "      <td>15451.000000</td>\n",
       "    </tr>\n",
       "    <tr>\n",
       "      <th>mean</th>\n",
       "      <td>0.976911</td>\n",
       "      <td>0.067622</td>\n",
       "      <td>0.091645</td>\n",
       "      <td>0.201649</td>\n",
       "      <td>0.196834</td>\n",
       "      <td>0.427760</td>\n",
       "      <td>0.724624</td>\n",
       "      <td>0.379186</td>\n",
       "      <td>0.872812</td>\n",
       "      <td>0.498009</td>\n",
       "      <td>0.097172</td>\n",
       "      <td>0.215391</td>\n",
       "      <td>0.031843</td>\n",
       "      <td>0.031843</td>\n",
       "      <td>0.318944</td>\n",
       "      <td>0.328199</td>\n",
       "      <td>3.087373</td>\n",
       "    </tr>\n",
       "    <tr>\n",
       "      <th>std</th>\n",
       "      <td>0.074695</td>\n",
       "      <td>0.127723</td>\n",
       "      <td>0.253740</td>\n",
       "      <td>0.226074</td>\n",
       "      <td>0.271424</td>\n",
       "      <td>0.289598</td>\n",
       "      <td>0.363907</td>\n",
       "      <td>0.185623</td>\n",
       "      <td>0.126467</td>\n",
       "      <td>0.262715</td>\n",
       "      <td>0.065126</td>\n",
       "      <td>0.411106</td>\n",
       "      <td>0.175587</td>\n",
       "      <td>0.175587</td>\n",
       "      <td>0.466082</td>\n",
       "      <td>0.469573</td>\n",
       "      <td>1.755067</td>\n",
       "    </tr>\n",
       "    <tr>\n",
       "      <th>min</th>\n",
       "      <td>0.000000</td>\n",
       "      <td>0.000000</td>\n",
       "      <td>0.000000</td>\n",
       "      <td>0.000000</td>\n",
       "      <td>0.000000</td>\n",
       "      <td>0.000000</td>\n",
       "      <td>0.000000</td>\n",
       "      <td>0.000000</td>\n",
       "      <td>0.000000</td>\n",
       "      <td>0.000000</td>\n",
       "      <td>0.000000</td>\n",
       "      <td>0.000000</td>\n",
       "      <td>0.000000</td>\n",
       "      <td>0.000000</td>\n",
       "      <td>0.000000</td>\n",
       "      <td>0.000000</td>\n",
       "      <td>0.000000</td>\n",
       "    </tr>\n",
       "    <tr>\n",
       "      <th>25%</th>\n",
       "      <td>1.000000</td>\n",
       "      <td>0.000000</td>\n",
       "      <td>0.000000</td>\n",
       "      <td>0.000000</td>\n",
       "      <td>0.000000</td>\n",
       "      <td>0.201681</td>\n",
       "      <td>0.333333</td>\n",
       "      <td>0.200000</td>\n",
       "      <td>0.798687</td>\n",
       "      <td>0.291789</td>\n",
       "      <td>0.050171</td>\n",
       "      <td>0.000000</td>\n",
       "      <td>0.000000</td>\n",
       "      <td>0.000000</td>\n",
       "      <td>0.000000</td>\n",
       "      <td>0.000000</td>\n",
       "      <td>1.000000</td>\n",
       "    </tr>\n",
       "    <tr>\n",
       "      <th>50%</th>\n",
       "      <td>1.000000</td>\n",
       "      <td>0.000000</td>\n",
       "      <td>0.000000</td>\n",
       "      <td>0.000000</td>\n",
       "      <td>0.000000</td>\n",
       "      <td>0.378151</td>\n",
       "      <td>1.000000</td>\n",
       "      <td>0.400000</td>\n",
       "      <td>0.931072</td>\n",
       "      <td>0.493420</td>\n",
       "      <td>0.079818</td>\n",
       "      <td>0.000000</td>\n",
       "      <td>0.000000</td>\n",
       "      <td>0.000000</td>\n",
       "      <td>0.000000</td>\n",
       "      <td>0.000000</td>\n",
       "      <td>4.000000</td>\n",
       "    </tr>\n",
       "    <tr>\n",
       "      <th>75%</th>\n",
       "      <td>1.000000</td>\n",
       "      <td>0.166667</td>\n",
       "      <td>0.000000</td>\n",
       "      <td>0.405797</td>\n",
       "      <td>0.477612</td>\n",
       "      <td>0.680672</td>\n",
       "      <td>1.000000</td>\n",
       "      <td>0.400000</td>\n",
       "      <td>0.961160</td>\n",
       "      <td>0.706984</td>\n",
       "      <td>0.125428</td>\n",
       "      <td>0.000000</td>\n",
       "      <td>0.000000</td>\n",
       "      <td>0.000000</td>\n",
       "      <td>1.000000</td>\n",
       "      <td>1.000000</td>\n",
       "      <td>4.000000</td>\n",
       "    </tr>\n",
       "    <tr>\n",
       "      <th>max</th>\n",
       "      <td>1.000000</td>\n",
       "      <td>1.000000</td>\n",
       "      <td>1.000000</td>\n",
       "      <td>1.000000</td>\n",
       "      <td>1.000000</td>\n",
       "      <td>1.000000</td>\n",
       "      <td>1.000000</td>\n",
       "      <td>1.000000</td>\n",
       "      <td>1.000000</td>\n",
       "      <td>1.000000</td>\n",
       "      <td>1.000000</td>\n",
       "      <td>1.000000</td>\n",
       "      <td>1.000000</td>\n",
       "      <td>1.000000</td>\n",
       "      <td>1.000000</td>\n",
       "      <td>1.000000</td>\n",
       "      <td>6.000000</td>\n",
       "    </tr>\n",
       "  </tbody>\n",
       "</table>\n",
       "</div>"
      ],
      "text/plain": [
       "       Individual Rating  Number of Pictures   Overall Fit        Height  \\\n",
       "count       15451.000000        15451.000000  15451.000000  15451.000000   \n",
       "mean            0.976911            0.067622      0.091645      0.201649   \n",
       "std             0.074695            0.127723      0.253740      0.226074   \n",
       "min             0.000000            0.000000      0.000000      0.000000   \n",
       "25%             1.000000            0.000000      0.000000      0.000000   \n",
       "50%             1.000000            0.000000      0.000000      0.000000   \n",
       "75%             1.000000            0.166667      0.000000      0.405797   \n",
       "max             1.000000            1.000000      1.000000      1.000000   \n",
       "\n",
       "              Waist          Rank         Color          Size  Date (ordinal)  \\\n",
       "count  15451.000000  15451.000000  15451.000000  15451.000000    15451.000000   \n",
       "mean       0.196834      0.427760      0.724624      0.379186        0.872812   \n",
       "std        0.271424      0.289598      0.363907      0.185623        0.126467   \n",
       "min        0.000000      0.000000      0.000000      0.000000        0.000000   \n",
       "25%        0.000000      0.201681      0.333333      0.200000        0.798687   \n",
       "50%        0.000000      0.378151      1.000000      0.400000        0.931072   \n",
       "75%        0.477612      0.680672      1.000000      0.400000        0.961160   \n",
       "max        1.000000      1.000000      1.000000      1.000000        1.000000   \n",
       "\n",
       "       Time (numerical)  Comment Length  missing Overall Fit  missing Color  \\\n",
       "count      15451.000000    15451.000000         15451.000000   15451.000000   \n",
       "mean           0.498009        0.097172             0.215391       0.031843   \n",
       "std            0.262715        0.065126             0.411106       0.175587   \n",
       "min            0.000000        0.000000             0.000000       0.000000   \n",
       "25%            0.291789        0.050171             0.000000       0.000000   \n",
       "50%            0.493420        0.079818             0.000000       0.000000   \n",
       "75%            0.706984        0.125428             0.000000       0.000000   \n",
       "max            1.000000        1.000000             1.000000       1.000000   \n",
       "\n",
       "       missing Size  missing Height  missing Waist       kmeans7  \n",
       "count  15451.000000    15451.000000   15451.000000  15451.000000  \n",
       "mean       0.031843        0.318944       0.328199      3.087373  \n",
       "std        0.175587        0.466082       0.469573      1.755067  \n",
       "min        0.000000        0.000000       0.000000      0.000000  \n",
       "25%        0.000000        0.000000       0.000000      1.000000  \n",
       "50%        0.000000        0.000000       0.000000      4.000000  \n",
       "75%        0.000000        1.000000       1.000000      4.000000  \n",
       "max        1.000000        1.000000       1.000000      6.000000  "
      ]
     },
     "execution_count": 146,
     "metadata": {},
     "output_type": "execute_result"
    }
   ],
   "source": [
    "reviews_normalized.describe()"
   ]
  },
  {
   "cell_type": "code",
   "execution_count": 167,
   "metadata": {},
   "outputs": [
    {
     "data": {
      "image/png": "[encoded data removed]",
      "text/plain": [
       "<Figure size 1440x864 with 18 Axes>"
      ]
     },
     "metadata": {
      "needs_background": "light"
     },
     "output_type": "display_data"
    }
   ],
   "source": [
    "import seaborn as sns\n",
    "fig, ax = plt.subplots(6,3,figsize=(20,12))\n",
    "ax = ax.ravel()\n",
    "count=0\n",
    "\n",
    "kmeans_cluster = reviews_normalized[reviews_normalized['kmeans7'] == 0]\n",
    "\n",
    "for col in reviews_normalized.columns:\n",
    "    sns.distplot(a=reviews_normalized[col],ax=ax[count],kde=False,norm_hist=True)\n",
    "    plt.setp(ax[count].get_xticklabels(), rotation=45)\n",
    "    plt.subplots_adjust(hspace = 0.6)\n",
    "    sns.distplot(a=kmeans_cluster[col],ax=ax[count],kde=False,norm_hist=True)\n",
    "    count+=1"
   ]
  },
  {
   "cell_type": "code",
   "execution_count": null,
   "metadata": {},
   "outputs": [],
   "source": [
    "fig, ax = plt.subplots(4,5,figsize=(20,12))\n",
    "ax = ax.ravel()\n",
    "count=0\n",
    "for num in numerical_columns:\n",
    "    sns.distplot(a=X[num], ax=ax[count],kde=False)\n",
    "    count+= 1\n",
    "    sns.boxplot(x=num, data=X, ax=ax[count], palette='Blues')\n",
    "    count+=1"
   ]
  },
  {
   "cell_type": "code",
   "execution_count": 151,
   "metadata": {},
   "outputs": [
    {
     "data": {
      "text/html": [
       "<div>\n",
       "<style scoped>\n",
       "    .dataframe tbody tr th:only-of-type {\n",
       "        vertical-align: middle;\n",
       "    }\n",
       "\n",
       "    .dataframe tbody tr th {\n",
       "        vertical-align: top;\n",
       "    }\n",
       "\n",
       "    .dataframe thead th {\n",
       "        text-align: right;\n",
       "    }\n",
       "</style>\n",
       "<table border=\"1\" class=\"dataframe\">\n",
       "  <thead>\n",
       "    <tr style=\"text-align: right;\">\n",
       "      <th></th>\n",
       "      <th>Individual Rating</th>\n",
       "      <th>Number of Pictures</th>\n",
       "      <th>Overall Fit</th>\n",
       "      <th>Height</th>\n",
       "      <th>Waist</th>\n",
       "      <th>Rank</th>\n",
       "      <th>Color</th>\n",
       "      <th>Size</th>\n",
       "      <th>Date (ordinal)</th>\n",
       "      <th>Time (numerical)</th>\n",
       "      <th>Comment Length</th>\n",
       "      <th>missing Overall Fit</th>\n",
       "      <th>missing Color</th>\n",
       "      <th>missing Size</th>\n",
       "      <th>missing Height</th>\n",
       "      <th>missing Waist</th>\n",
       "      <th>kmeans7</th>\n",
       "    </tr>\n",
       "  </thead>\n",
       "  <tbody>\n",
       "    <tr>\n",
       "      <th>count</th>\n",
       "      <td>234.000000</td>\n",
       "      <td>234.000000</td>\n",
       "      <td>234.000000</td>\n",
       "      <td>234.000000</td>\n",
       "      <td>234.000000</td>\n",
       "      <td>234.000000</td>\n",
       "      <td>234.000000</td>\n",
       "      <td>234.000000</td>\n",
       "      <td>234.000000</td>\n",
       "      <td>234.000000</td>\n",
       "      <td>234.000000</td>\n",
       "      <td>234.000000</td>\n",
       "      <td>234.000000</td>\n",
       "      <td>234.000000</td>\n",
       "      <td>234.000000</td>\n",
       "      <td>234.000000</td>\n",
       "      <td>234.0</td>\n",
       "    </tr>\n",
       "    <tr>\n",
       "      <th>mean</th>\n",
       "      <td>0.979701</td>\n",
       "      <td>0.044160</td>\n",
       "      <td>0.066239</td>\n",
       "      <td>0.152360</td>\n",
       "      <td>0.126100</td>\n",
       "      <td>0.416541</td>\n",
       "      <td>0.698718</td>\n",
       "      <td>0.381197</td>\n",
       "      <td>0.932847</td>\n",
       "      <td>0.416607</td>\n",
       "      <td>0.110824</td>\n",
       "      <td>0.042735</td>\n",
       "      <td>0.012821</td>\n",
       "      <td>0.012821</td>\n",
       "      <td>0.217949</td>\n",
       "      <td>0.217949</td>\n",
       "      <td>2.0</td>\n",
       "    </tr>\n",
       "    <tr>\n",
       "      <th>std</th>\n",
       "      <td>0.068431</td>\n",
       "      <td>0.122354</td>\n",
       "      <td>0.214529</td>\n",
       "      <td>0.226465</td>\n",
       "      <td>0.230916</td>\n",
       "      <td>0.303017</td>\n",
       "      <td>0.362518</td>\n",
       "      <td>0.179619</td>\n",
       "      <td>0.062212</td>\n",
       "      <td>0.200641</td>\n",
       "      <td>0.063717</td>\n",
       "      <td>0.202693</td>\n",
       "      <td>0.112741</td>\n",
       "      <td>0.112741</td>\n",
       "      <td>0.413737</td>\n",
       "      <td>0.413737</td>\n",
       "      <td>0.0</td>\n",
       "    </tr>\n",
       "    <tr>\n",
       "      <th>min</th>\n",
       "      <td>0.750000</td>\n",
       "      <td>0.000000</td>\n",
       "      <td>0.000000</td>\n",
       "      <td>0.000000</td>\n",
       "      <td>0.000000</td>\n",
       "      <td>0.000000</td>\n",
       "      <td>0.000000</td>\n",
       "      <td>0.200000</td>\n",
       "      <td>0.641685</td>\n",
       "      <td>0.020638</td>\n",
       "      <td>0.033067</td>\n",
       "      <td>0.000000</td>\n",
       "      <td>0.000000</td>\n",
       "      <td>0.000000</td>\n",
       "      <td>0.000000</td>\n",
       "      <td>0.000000</td>\n",
       "      <td>2.0</td>\n",
       "    </tr>\n",
       "    <tr>\n",
       "      <th>25%</th>\n",
       "      <td>1.000000</td>\n",
       "      <td>0.000000</td>\n",
       "      <td>0.000000</td>\n",
       "      <td>0.000000</td>\n",
       "      <td>0.000000</td>\n",
       "      <td>0.161765</td>\n",
       "      <td>0.375000</td>\n",
       "      <td>0.200000</td>\n",
       "      <td>0.922319</td>\n",
       "      <td>0.251956</td>\n",
       "      <td>0.054732</td>\n",
       "      <td>0.000000</td>\n",
       "      <td>0.000000</td>\n",
       "      <td>0.000000</td>\n",
       "      <td>0.000000</td>\n",
       "      <td>0.000000</td>\n",
       "      <td>2.0</td>\n",
       "    </tr>\n",
       "    <tr>\n",
       "      <th>50%</th>\n",
       "      <td>1.000000</td>\n",
       "      <td>0.000000</td>\n",
       "      <td>0.000000</td>\n",
       "      <td>0.000000</td>\n",
       "      <td>0.000000</td>\n",
       "      <td>0.348739</td>\n",
       "      <td>1.000000</td>\n",
       "      <td>0.400000</td>\n",
       "      <td>0.949672</td>\n",
       "      <td>0.378972</td>\n",
       "      <td>0.093501</td>\n",
       "      <td>0.000000</td>\n",
       "      <td>0.000000</td>\n",
       "      <td>0.000000</td>\n",
       "      <td>0.000000</td>\n",
       "      <td>0.000000</td>\n",
       "      <td>2.0</td>\n",
       "    </tr>\n",
       "    <tr>\n",
       "      <th>75%</th>\n",
       "      <td>1.000000</td>\n",
       "      <td>0.000000</td>\n",
       "      <td>0.000000</td>\n",
       "      <td>0.376812</td>\n",
       "      <td>0.029851</td>\n",
       "      <td>0.686975</td>\n",
       "      <td>1.000000</td>\n",
       "      <td>0.400000</td>\n",
       "      <td>0.969639</td>\n",
       "      <td>0.585617</td>\n",
       "      <td>0.149088</td>\n",
       "      <td>0.000000</td>\n",
       "      <td>0.000000</td>\n",
       "      <td>0.000000</td>\n",
       "      <td>0.000000</td>\n",
       "      <td>0.000000</td>\n",
       "      <td>2.0</td>\n",
       "    </tr>\n",
       "    <tr>\n",
       "      <th>max</th>\n",
       "      <td>1.000000</td>\n",
       "      <td>0.833333</td>\n",
       "      <td>1.000000</td>\n",
       "      <td>0.884058</td>\n",
       "      <td>0.865672</td>\n",
       "      <td>1.000000</td>\n",
       "      <td>1.000000</td>\n",
       "      <td>0.800000</td>\n",
       "      <td>1.000000</td>\n",
       "      <td>0.982244</td>\n",
       "      <td>0.332953</td>\n",
       "      <td>1.000000</td>\n",
       "      <td>1.000000</td>\n",
       "      <td>1.000000</td>\n",
       "      <td>1.000000</td>\n",
       "      <td>1.000000</td>\n",
       "      <td>2.0</td>\n",
       "    </tr>\n",
       "  </tbody>\n",
       "</table>\n",
       "</div>"
      ],
      "text/plain": [
       "       Individual Rating  Number of Pictures  Overall Fit      Height  \\\n",
       "count         234.000000          234.000000   234.000000  234.000000   \n",
       "mean            0.979701            0.044160     0.066239    0.152360   \n",
       "std             0.068431            0.122354     0.214529    0.226465   \n",
       "min             0.750000            0.000000     0.000000    0.000000   \n",
       "25%             1.000000            0.000000     0.000000    0.000000   \n",
       "50%             1.000000            0.000000     0.000000    0.000000   \n",
       "75%             1.000000            0.000000     0.000000    0.376812   \n",
       "max             1.000000            0.833333     1.000000    0.884058   \n",
       "\n",
       "            Waist        Rank       Color        Size  Date (ordinal)  \\\n",
       "count  234.000000  234.000000  234.000000  234.000000      234.000000   \n",
       "mean     0.126100    0.416541    0.698718    0.381197        0.932847   \n",
       "std      0.230916    0.303017    0.362518    0.179619        0.062212   \n",
       "min      0.000000    0.000000    0.000000    0.200000        0.641685   \n",
       "25%      0.000000    0.161765    0.375000    0.200000        0.922319   \n",
       "50%      0.000000    0.348739    1.000000    0.400000        0.949672   \n",
       "75%      0.029851    0.686975    1.000000    0.400000        0.969639   \n",
       "max      0.865672    1.000000    1.000000    0.800000        1.000000   \n",
       "\n",
       "       Time (numerical)  Comment Length  missing Overall Fit  missing Color  \\\n",
       "count        234.000000      234.000000           234.000000     234.000000   \n",
       "mean           0.416607        0.110824             0.042735       0.012821   \n",
       "std            0.200641        0.063717             0.202693       0.112741   \n",
       "min            0.020638        0.033067             0.000000       0.000000   \n",
       "25%            0.251956        0.054732             0.000000       0.000000   \n",
       "50%            0.378972        0.093501             0.000000       0.000000   \n",
       "75%            0.585617        0.149088             0.000000       0.000000   \n",
       "max            0.982244        0.332953             1.000000       1.000000   \n",
       "\n",
       "       missing Size  missing Height  missing Waist  kmeans7  \n",
       "count    234.000000      234.000000     234.000000    234.0  \n",
       "mean       0.012821        0.217949       0.217949      2.0  \n",
       "std        0.112741        0.413737       0.413737      0.0  \n",
       "min        0.000000        0.000000       0.000000      2.0  \n",
       "25%        0.000000        0.000000       0.000000      2.0  \n",
       "50%        0.000000        0.000000       0.000000      2.0  \n",
       "75%        0.000000        0.000000       0.000000      2.0  \n",
       "max        1.000000        1.000000       1.000000      2.0  "
      ]
     },
     "execution_count": 151,
     "metadata": {},
     "output_type": "execute_result"
    }
   ],
   "source": [
    "reviews_normalized[reviews_normalized['kmeans7'] == 2].describe()"
   ]
  },
  {
   "cell_type": "code",
   "execution_count": null,
   "metadata": {},
   "outputs": [],
   "source": []
  }
 ],
 "metadata": {
  "kernelspec": {
   "display_name": "Python 3",
   "language": "python",
   "name": "python3"
  },
  "language_info": {
   "codemirror_mode": {
    "name": "ipython",
    "version": 3
   },
   "file_extension": ".py",
   "mimetype": "text/x-python",
   "name": "python",
   "nbconvert_exporter": "python",
   "pygments_lexer": "ipython3",
   "version": "3.8.3"
  }
 },
 "nbformat": 4,
 "nbformat_minor": 4
}
