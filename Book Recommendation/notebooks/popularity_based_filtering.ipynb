{
 "cells": [
  {
   "cell_type": "markdown",
   "metadata": {},
   "source": [
    "# Popularity-Based Filtering"
   ]
  },
  {
   "cell_type": "code",
   "execution_count": 4,
   "metadata": {},
   "outputs": [],
   "source": [
    "import numpy as np\n",
    "import pandas as pd "
   ]
  },
  {
   "cell_type": "code",
   "execution_count": 13,
   "metadata": {},
   "outputs": [],
   "source": [
    "books_cleaned=pd.read_csv(r'data/processed/books_cleaned.csv')\n",
    "books_list = pd.read_csv(r'data/processed/books_list.csv')"
   ]
  },
  {
   "cell_type": "code",
   "execution_count": 9,
   "metadata": {},
   "outputs": [],
   "source": [
    "# compute weighted ranking scores for each book\n",
    "\n",
    "r = books_cleaned['average_rating'] # average rating per book\n",
    "v = books_cleaned['work_ratings_count'] # number of ratings per book\n",
    "c = books_cleaned['average_rating'].mean() # average rating across entire dataset\n",
    "m = books_cleaned['work_ratings_count'].quantile(.90) # top 10% of books with the most ratings\n",
    "\n",
    "books_weighted_ranking = books_cleaned[['book_id','title','average_rating','work_ratings_count']].copy()\n",
    "books_weighted_ranking['weighted_score'] = (r*v + c*m) / (v+m)"
   ]
  },
  {
   "cell_type": "code",
   "execution_count": 10,
   "metadata": {},
   "outputs": [],
   "source": [
    "# create table that sorts books based on ranking\n",
    "books_weighted_ranking = books_weighted_ranking.sort_values(by=['weighted_score'], ascending=False)"
   ]
  },
  {
   "cell_type": "code",
   "execution_count": 14,
   "metadata": {},
   "outputs": [
    {
     "data": {
      "text/html": [
       "<div>\n",
       "<style scoped>\n",
       "    .dataframe tbody tr th:only-of-type {\n",
       "        vertical-align: middle;\n",
       "    }\n",
       "\n",
       "    .dataframe tbody tr th {\n",
       "        vertical-align: top;\n",
       "    }\n",
       "\n",
       "    .dataframe thead th {\n",
       "        text-align: right;\n",
       "    }\n",
       "</style>\n",
       "<table border=\"1\" class=\"dataframe\">\n",
       "  <thead>\n",
       "    <tr style=\"text-align: right;\">\n",
       "      <th></th>\n",
       "      <th>title</th>\n",
       "    </tr>\n",
       "  </thead>\n",
       "  <tbody>\n",
       "    <tr>\n",
       "      <th>24</th>\n",
       "      <td>Harry Potter and the Deathly Hallows (Harry Po...</td>\n",
       "    </tr>\n",
       "    <tr>\n",
       "      <th>26</th>\n",
       "      <td>Harry Potter and the Half-Blood Prince (Harry ...</td>\n",
       "    </tr>\n",
       "    <tr>\n",
       "      <th>17</th>\n",
       "      <td>Harry Potter and the Prisoner of Azkaban (Harr...</td>\n",
       "    </tr>\n",
       "    <tr>\n",
       "      <th>23</th>\n",
       "      <td>Harry Potter and the Goblet of Fire (Harry Pot...</td>\n",
       "    </tr>\n",
       "    <tr>\n",
       "      <th>421</th>\n",
       "      <td>Harry Potter Boxset (Harry Potter, #1-7)</td>\n",
       "    </tr>\n",
       "    <tr>\n",
       "      <th>134</th>\n",
       "      <td>A Storm of Swords (A Song of Ice and Fire, #3)</td>\n",
       "    </tr>\n",
       "    <tr>\n",
       "      <th>191</th>\n",
       "      <td>The Name of the Wind (The Kingkiller Chronicle...</td>\n",
       "    </tr>\n",
       "    <tr>\n",
       "      <th>20</th>\n",
       "      <td>Harry Potter and the Order of the Phoenix (Har...</td>\n",
       "    </tr>\n",
       "    <tr>\n",
       "      <th>1</th>\n",
       "      <td>Harry Potter and the Sorcerer's Stone (Harry P...</td>\n",
       "    </tr>\n",
       "    <tr>\n",
       "      <th>160</th>\n",
       "      <td>The Return of the King (The Lord of the Rings,...</td>\n",
       "    </tr>\n",
       "  </tbody>\n",
       "</table>\n",
       "</div>"
      ],
      "text/plain": [
       "                                                 title\n",
       "24   Harry Potter and the Deathly Hallows (Harry Po...\n",
       "26   Harry Potter and the Half-Blood Prince (Harry ...\n",
       "17   Harry Potter and the Prisoner of Azkaban (Harr...\n",
       "23   Harry Potter and the Goblet of Fire (Harry Pot...\n",
       "421           Harry Potter Boxset (Harry Potter, #1-7)\n",
       "134     A Storm of Swords (A Song of Ice and Fire, #3)\n",
       "191  The Name of the Wind (The Kingkiller Chronicle...\n",
       "20   Harry Potter and the Order of the Phoenix (Har...\n",
       "1    Harry Potter and the Sorcerer's Stone (Harry P...\n",
       "160  The Return of the King (The Lord of the Rings,..."
      ]
     },
     "execution_count": 14,
     "metadata": {},
     "output_type": "execute_result"
    }
   ],
   "source": [
    "# function that returns most popular books\n",
    "\n",
    "def popular_rec(num_books):\n",
    "    return books_weighted_ranking[['title']][0:num_books]\n",
    "popular_rec(10)"
   ]
  },
  {
   "cell_type": "code",
   "execution_count": 15,
   "metadata": {},
   "outputs": [
    {
     "data": {
      "text/html": [
       "<div>\n",
       "<style scoped>\n",
       "    .dataframe tbody tr th:only-of-type {\n",
       "        vertical-align: middle;\n",
       "    }\n",
       "\n",
       "    .dataframe tbody tr th {\n",
       "        vertical-align: top;\n",
       "    }\n",
       "\n",
       "    .dataframe thead th {\n",
       "        text-align: right;\n",
       "    }\n",
       "</style>\n",
       "<table border=\"1\" class=\"dataframe\">\n",
       "  <thead>\n",
       "    <tr style=\"text-align: right;\">\n",
       "      <th></th>\n",
       "      <th>title</th>\n",
       "      <th>original_title</th>\n",
       "      <th>isbn</th>\n",
       "      <th>authors</th>\n",
       "      <th>original_publication_year</th>\n",
       "      <th>ratings_count</th>\n",
       "      <th>average_rating</th>\n",
       "      <th>image_url</th>\n",
       "      <th>small_image_url</th>\n",
       "    </tr>\n",
       "  </thead>\n",
       "  <tbody>\n",
       "    <tr>\n",
       "      <th>0</th>\n",
       "      <td>Harry Potter and the Deathly Hallows (Harry Po...</td>\n",
       "      <td>Harry Potter and the Deathly Hallows</td>\n",
       "      <td>545010225</td>\n",
       "      <td>J.K. Rowling, Mary GrandPré</td>\n",
       "      <td>2007.0</td>\n",
       "      <td>1746574</td>\n",
       "      <td>4.61</td>\n",
       "      <td>https://images.gr-assets.com/books/1474171184m...</td>\n",
       "      <td>https://images.gr-assets.com/books/1474171184s...</td>\n",
       "    </tr>\n",
       "    <tr>\n",
       "      <th>1</th>\n",
       "      <td>Harry Potter and the Half-Blood Prince (Harry ...</td>\n",
       "      <td>Harry Potter and the Half-Blood Prince</td>\n",
       "      <td>439785960</td>\n",
       "      <td>J.K. Rowling, Mary GrandPré</td>\n",
       "      <td>2005.0</td>\n",
       "      <td>1678823</td>\n",
       "      <td>4.54</td>\n",
       "      <td>https://images.gr-assets.com/books/1361039191m...</td>\n",
       "      <td>https://images.gr-assets.com/books/1361039191s...</td>\n",
       "    </tr>\n",
       "    <tr>\n",
       "      <th>2</th>\n",
       "      <td>Harry Potter and the Prisoner of Azkaban (Harr...</td>\n",
       "      <td>Harry Potter and the Prisoner of Azkaban</td>\n",
       "      <td>043965548X</td>\n",
       "      <td>J.K. Rowling, Mary GrandPré, Rufus Beck</td>\n",
       "      <td>1999.0</td>\n",
       "      <td>1832823</td>\n",
       "      <td>4.53</td>\n",
       "      <td>https://images.gr-assets.com/books/1499277281m...</td>\n",
       "      <td>https://images.gr-assets.com/books/1499277281s...</td>\n",
       "    </tr>\n",
       "    <tr>\n",
       "      <th>3</th>\n",
       "      <td>Harry Potter and the Goblet of Fire (Harry Pot...</td>\n",
       "      <td>Harry Potter and the Goblet of Fire</td>\n",
       "      <td>439139600</td>\n",
       "      <td>J.K. Rowling, Mary GrandPré</td>\n",
       "      <td>2000.0</td>\n",
       "      <td>1753043</td>\n",
       "      <td>4.53</td>\n",
       "      <td>https://images.gr-assets.com/books/1361482611m...</td>\n",
       "      <td>https://images.gr-assets.com/books/1361482611s...</td>\n",
       "    </tr>\n",
       "    <tr>\n",
       "      <th>4</th>\n",
       "      <td>Harry Potter Boxset (Harry Potter, #1-7)</td>\n",
       "      <td>Complete Harry Potter Boxed Set</td>\n",
       "      <td>545044251</td>\n",
       "      <td>J.K. Rowling</td>\n",
       "      <td>1998.0</td>\n",
       "      <td>190050</td>\n",
       "      <td>4.74</td>\n",
       "      <td>https://images.gr-assets.com/books/1392579059m...</td>\n",
       "      <td>https://images.gr-assets.com/books/1392579059s...</td>\n",
       "    </tr>\n",
       "  </tbody>\n",
       "</table>\n",
       "</div>"
      ],
      "text/plain": [
       "                                               title  \\\n",
       "0  Harry Potter and the Deathly Hallows (Harry Po...   \n",
       "1  Harry Potter and the Half-Blood Prince (Harry ...   \n",
       "2  Harry Potter and the Prisoner of Azkaban (Harr...   \n",
       "3  Harry Potter and the Goblet of Fire (Harry Pot...   \n",
       "4           Harry Potter Boxset (Harry Potter, #1-7)   \n",
       "\n",
       "                             original_title        isbn  \\\n",
       "0      Harry Potter and the Deathly Hallows   545010225   \n",
       "1    Harry Potter and the Half-Blood Prince   439785960   \n",
       "2  Harry Potter and the Prisoner of Azkaban  043965548X   \n",
       "3       Harry Potter and the Goblet of Fire   439139600   \n",
       "4           Complete Harry Potter Boxed Set   545044251   \n",
       "\n",
       "                                   authors  original_publication_year  \\\n",
       "0              J.K. Rowling, Mary GrandPré                     2007.0   \n",
       "1              J.K. Rowling, Mary GrandPré                     2005.0   \n",
       "2  J.K. Rowling, Mary GrandPré, Rufus Beck                     1999.0   \n",
       "3              J.K. Rowling, Mary GrandPré                     2000.0   \n",
       "4                             J.K. Rowling                     1998.0   \n",
       "\n",
       "   ratings_count  average_rating  \\\n",
       "0        1746574            4.61   \n",
       "1        1678823            4.54   \n",
       "2        1832823            4.53   \n",
       "3        1753043            4.53   \n",
       "4         190050            4.74   \n",
       "\n",
       "                                           image_url  \\\n",
       "0  https://images.gr-assets.com/books/1474171184m...   \n",
       "1  https://images.gr-assets.com/books/1361039191m...   \n",
       "2  https://images.gr-assets.com/books/1499277281m...   \n",
       "3  https://images.gr-assets.com/books/1361482611m...   \n",
       "4  https://images.gr-assets.com/books/1392579059m...   \n",
       "\n",
       "                                     small_image_url  \n",
       "0  https://images.gr-assets.com/books/1474171184s...  \n",
       "1  https://images.gr-assets.com/books/1361039191s...  \n",
       "2  https://images.gr-assets.com/books/1499277281s...  \n",
       "3  https://images.gr-assets.com/books/1361482611s...  \n",
       "4  https://images.gr-assets.com/books/1392579059s...  "
      ]
     },
     "execution_count": 15,
     "metadata": {},
     "output_type": "execute_result"
    }
   ],
   "source": [
    "popular_list = popular_rec(len(books_cleaned))\n",
    "popular_list = popular_list.merge(books_list,how='inner',left_on='title',right_on='title')\n",
    "popular_list.head()"
   ]
  },
  {
   "cell_type": "code",
   "execution_count": null,
   "metadata": {},
   "outputs": [],
   "source": [
    "popular_list.to_csv('data/processed/popular_list.csv',index=False)"
   ]
  },
  {
   "cell_type": "code",
   "execution_count": 16,
   "metadata": {},
   "outputs": [
    {
     "data": {
      "image/png": "[encoded data removed]",
      "text/plain": [
       "<Figure size 432x288 with 1 Axes>"
      ]
     },
     "metadata": {
      "needs_background": "light"
     },
     "output_type": "display_data"
    }
   ],
   "source": [
    "import matplotlib.pyplot as plt\n",
    "\n",
    "# plots top 10 most popular books\n",
    "\n",
    "fig, ax = plt.subplots()\n",
    "most_popular_books = books_weighted_ranking[0:10]\n",
    "ax.barh(most_popular_books['title'],most_popular_books['weighted_score'],align='center')\n",
    "ax.set_xlabel('Weighted Score')\n",
    "ax.set_ylabel('Book Title')\n",
    "ax.set_title('Most Popular Books')\n",
    "ax.invert_yaxis() \n",
    "plt.show()"
   ]
  }
 ],
 "metadata": {
  "kernelspec": {
   "display_name": "Python 3",
   "language": "python",
   "name": "python3"
  },
  "language_info": {
   "codemirror_mode": {
    "name": "ipython",
    "version": 3
   },
   "file_extension": ".py",
   "mimetype": "text/x-python",
   "name": "python",
   "nbconvert_exporter": "python",
   "pygments_lexer": "ipython3",
   "version": "3.8.3"
  }
 },
 "nbformat": 4,
 "nbformat_minor": 4
}
